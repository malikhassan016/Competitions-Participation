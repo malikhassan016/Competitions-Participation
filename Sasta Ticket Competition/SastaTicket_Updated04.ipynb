{
  "cells": [
    {
      "cell_type": "markdown",
      "metadata": {
        "id": "N8lVZy_O1NQm"
      },
      "source": [
        "# Name: Malik Hassan Abdul Rehman\n",
        "# Email: malik.hassan86@yahoo.com\n",

      ]
    },
    {
      "cell_type": "markdown",
      "metadata": {
        "id": "4cbgwZWWfWpp"
      },
      "source": [
        "# Flight *Price* Prediction\n",
        "\n",
        "Dataset X(x_train and X_test) includes the following features:\n",
        "- f1: Ticket Purchase Date Time\n",
        "- f2: Origin\n",
        "- f3: Destination\n",
        "- f4: Departure Date Time\n",
        "- f5: Arrival Date Time\n",
        "- f6: Airline\n",
        "- f7: Refundable Ticket\n",
        "- f8: Baggage Weight\n",
        "- f9: Baggage Pieces\n",
        "- f10: Flight Number\n",
        "\n",
        "Dataset Y will have the following variables:\n",
        "- Target\n",
        "\n"
      ]
    },
    {
      "cell_type": "markdown",
      "metadata": {
        "id": "Tr1j7_v8oGDH"
      },
      "source": [
        "# Connecting the Google Colab Notebook with the Google Drive"
      ]
    },
    {
      "cell_type": "code",
      "execution_count": 1,
      "metadata": {
        "colab": {
          "base_uri": "https://localhost:8080/"
        },
        "id": "tAb77yZ9fzMG",
        "outputId": "5277e55e-3569-4cb5-b86d-6b0e2f8429f2",
        "vscode": {
          "languageId": "python"
        }
      },
      "outputs": [
        {
          "name": "stdout",
          "output_type": "stream",
          "text": [
            "Drive already mounted at /content/drive; to attempt to forcibly remount, call drive.mount(\"/content/drive\", force_remount=True).\n"
          ]
        }
      ],
      "source": [
        "from google.colab import drive\n",
        "drive.mount('/content/drive')"
      ]
    },
    {
      "cell_type": "markdown",
      "metadata": {
        "id": "mydTKiC6oay7"
      },
      "source": [
        "# Importing the necessary libararies that we will use later"
      ]
    },
    {
      "cell_type": "code",
      "execution_count": 2,
      "metadata": {
        "id": "pafL7Li0jyXW",
        "vscode": {
          "languageId": "python"
        }
      },
      "outputs": [],
      "source": [
        "import pandas as pd \n",
        "import numpy as np \n",
        "import seaborn as sns \n",
        "import matplotlib.pyplot as plt\n",
        "from sklearn.preprocessing import StandardScaler\n",
        "from sklearn.model_selection import train_test_split,GridSearchCV\n",
        "from sklearn.metrics import accuracy_score,confusion_matrix\n",
        "import pickle\n",
        "import warnings\n",
        "warnings.filterwarnings('ignore')"
      ]
    },
    {
      "cell_type": "markdown",
      "metadata": {
        "id": "4wrqflebo2P1"
      },
      "source": [
        "# Load the Dataset\n",
        "\n",
        "We will  named \"X_train.csv\" that contains the input features and the dataset name \"y_train.csv\" that contains the target variable(Prices).\n",
        "\n",
        "X_train,y_train dataset is in form of excel file so we have to use pandas library to load the dataset"
      ]
    },
    {
      "cell_type": "markdown",
      "metadata": {
        "id": "c3YfIoKXtA5z"
      },
      "source": [
        "***Loading the Input features in a dataframe name \"df\"***"
      ]
    },
    {
      "cell_type": "code",
      "execution_count": 3,
      "metadata": {
        "colab": {
          "base_uri": "https://localhost:8080/",
          "height": 354
        },
        "id": "p1Y5GELDYngc",
        "outputId": "d1b05ddd-6213-4d04-ca78-a94205da4fd9",
        "vscode": {
          "languageId": "python"
        }
      },
      "outputs": [
        {
          "data": {
            "text/html": [
              "\n",
              "  <div id=\"df-1cea261c-ebd2-4f71-96a5-1f5696e60511\">\n",
              "    <div class=\"colab-df-container\">\n",
              "      <div>\n",
              "<style scoped>\n",
              "    .dataframe tbody tr th:only-of-type {\n",
              "        vertical-align: middle;\n",
              "    }\n",
              "\n",
              "    .dataframe tbody tr th {\n",
              "        vertical-align: top;\n",
              "    }\n",
              "\n",
              "    .dataframe thead th {\n",
              "        text-align: right;\n",
              "    }\n",
              "</style>\n",
              "<table border=\"1\" class=\"dataframe\">\n",
              "  <thead>\n",
              "    <tr style=\"text-align: right;\">\n",
              "      <th></th>\n",
              "      <th>Unnamed: 0</th>\n",
              "      <th>f1</th>\n",
              "      <th>f2</th>\n",
              "      <th>f3</th>\n",
              "      <th>f4</th>\n",
              "      <th>f5</th>\n",
              "      <th>f6</th>\n",
              "      <th>f7</th>\n",
              "      <th>f8</th>\n",
              "      <th>f9</th>\n",
              "      <th>f10</th>\n",
              "    </tr>\n",
              "  </thead>\n",
              "  <tbody>\n",
              "    <tr>\n",
              "      <th>0</th>\n",
              "      <td>0</td>\n",
              "      <td>2020-12-31 09:46:17.463002+00:00</td>\n",
              "      <td>x</td>\n",
              "      <td>y</td>\n",
              "      <td>2021-01-10 05:00:00+00:00</td>\n",
              "      <td>2021-01-10 07:00:00+00:00</td>\n",
              "      <td>gamma</td>\n",
              "      <td>True</td>\n",
              "      <td>0.0</td>\n",
              "      <td>0</td>\n",
              "      <td>c-2</td>\n",
              "    </tr>\n",
              "    <tr>\n",
              "      <th>1</th>\n",
              "      <td>1</td>\n",
              "      <td>2020-12-31 09:46:17.463002+00:00</td>\n",
              "      <td>x</td>\n",
              "      <td>y</td>\n",
              "      <td>2021-01-10 05:00:00+00:00</td>\n",
              "      <td>2021-01-10 07:00:00+00:00</td>\n",
              "      <td>gamma</td>\n",
              "      <td>True</td>\n",
              "      <td>32.0</td>\n",
              "      <td>1</td>\n",
              "      <td>c-2</td>\n",
              "    </tr>\n",
              "    <tr>\n",
              "      <th>2</th>\n",
              "      <td>2</td>\n",
              "      <td>2020-12-31 09:46:17.463002+00:00</td>\n",
              "      <td>x</td>\n",
              "      <td>y</td>\n",
              "      <td>2021-01-10 11:00:00+00:00</td>\n",
              "      <td>2021-01-10 13:00:00+00:00</td>\n",
              "      <td>gamma</td>\n",
              "      <td>True</td>\n",
              "      <td>32.0</td>\n",
              "      <td>1</td>\n",
              "      <td>c-4</td>\n",
              "    </tr>\n",
              "    <tr>\n",
              "      <th>3</th>\n",
              "      <td>3</td>\n",
              "      <td>2020-12-31 09:46:17.463002+00:00</td>\n",
              "      <td>x</td>\n",
              "      <td>y</td>\n",
              "      <td>2021-01-10 11:00:00+00:00</td>\n",
              "      <td>2021-01-10 13:00:00+00:00</td>\n",
              "      <td>gamma</td>\n",
              "      <td>True</td>\n",
              "      <td>32.0</td>\n",
              "      <td>2</td>\n",
              "      <td>c-4</td>\n",
              "    </tr>\n",
              "    <tr>\n",
              "      <th>4</th>\n",
              "      <td>4</td>\n",
              "      <td>2020-12-31 09:46:18.191119+00:00</td>\n",
              "      <td>x</td>\n",
              "      <td>y</td>\n",
              "      <td>2021-01-25 11:00:00+00:00</td>\n",
              "      <td>2021-01-25 12:55:00+00:00</td>\n",
              "      <td>beta</td>\n",
              "      <td>False</td>\n",
              "      <td>20.0</td>\n",
              "      <td>0</td>\n",
              "      <td>b-69</td>\n",
              "    </tr>\n",
              "  </tbody>\n",
              "</table>\n",
              "</div>\n",
              "      <button class=\"colab-df-convert\" onclick=\"convertToInteractive('df-1cea261c-ebd2-4f71-96a5-1f5696e60511')\"\n",
              "              title=\"Convert this dataframe to an interactive table.\"\n",
              "              style=\"display:none;\">\n",
              "        \n",
              "  <svg xmlns=\"http://www.w3.org/2000/svg\" height=\"24px\"viewBox=\"0 0 24 24\"\n",
              "       width=\"24px\">\n",
              "    <path d=\"M0 0h24v24H0V0z\" fill=\"none\"/>\n",
              "    <path d=\"M18.56 5.44l.94 2.06.94-2.06 2.06-.94-2.06-.94-.94-2.06-.94 2.06-2.06.94zm-11 1L8.5 8.5l.94-2.06 2.06-.94-2.06-.94L8.5 2.5l-.94 2.06-2.06.94zm10 10l.94 2.06.94-2.06 2.06-.94-2.06-.94-.94-2.06-.94 2.06-2.06.94z\"/><path d=\"M17.41 7.96l-1.37-1.37c-.4-.4-.92-.59-1.43-.59-.52 0-1.04.2-1.43.59L10.3 9.45l-7.72 7.72c-.78.78-.78 2.05 0 2.83L4 21.41c.39.39.9.59 1.41.59.51 0 1.02-.2 1.41-.59l7.78-7.78 2.81-2.81c.8-.78.8-2.07 0-2.86zM5.41 20L4 18.59l7.72-7.72 1.47 1.35L5.41 20z\"/>\n",
              "  </svg>\n",
              "      </button>\n",
              "      \n",
              "  <style>\n",
              "    .colab-df-container {\n",
              "      display:flex;\n",
              "      flex-wrap:wrap;\n",
              "      gap: 12px;\n",
              "    }\n",
              "\n",
              "    .colab-df-convert {\n",
              "      background-color: #E8F0FE;\n",
              "      border: none;\n",
              "      border-radius: 50%;\n",
              "      cursor: pointer;\n",
              "      display: none;\n",
              "      fill: #1967D2;\n",
              "      height: 32px;\n",
              "      padding: 0 0 0 0;\n",
              "      width: 32px;\n",
              "    }\n",
              "\n",
              "    .colab-df-convert:hover {\n",
              "      background-color: #E2EBFA;\n",
              "      box-shadow: 0px 1px 2px rgba(60, 64, 67, 0.3), 0px 1px 3px 1px rgba(60, 64, 67, 0.15);\n",
              "      fill: #174EA6;\n",
              "    }\n",
              "\n",
              "    [theme=dark] .colab-df-convert {\n",
              "      background-color: #3B4455;\n",
              "      fill: #D2E3FC;\n",
              "    }\n",
              "\n",
              "    [theme=dark] .colab-df-convert:hover {\n",
              "      background-color: #434B5C;\n",
              "      box-shadow: 0px 1px 3px 1px rgba(0, 0, 0, 0.15);\n",
              "      filter: drop-shadow(0px 1px 2px rgba(0, 0, 0, 0.3));\n",
              "      fill: #FFFFFF;\n",
              "    }\n",
              "  </style>\n",
              "\n",
              "      <script>\n",
              "        const buttonEl =\n",
              "          document.querySelector('#df-1cea261c-ebd2-4f71-96a5-1f5696e60511 button.colab-df-convert');\n",
              "        buttonEl.style.display =\n",
              "          google.colab.kernel.accessAllowed ? 'block' : 'none';\n",
              "\n",
              "        async function convertToInteractive(key) {\n",
              "          const element = document.querySelector('#df-1cea261c-ebd2-4f71-96a5-1f5696e60511');\n",
              "          const dataTable =\n",
              "            await google.colab.kernel.invokeFunction('convertToInteractive',\n",
              "                                                     [key], {});\n",
              "          if (!dataTable) return;\n",
              "\n",
              "          const docLinkHtml = 'Like what you see? Visit the ' +\n",
              "            '<a target=\"_blank\" href=https://colab.research.google.com/notebooks/data_table.ipynb>data table notebook</a>'\n",
              "            + ' to learn more about interactive tables.';\n",
              "          element.innerHTML = '';\n",
              "          dataTable['output_type'] = 'display_data';\n",
              "          await google.colab.output.renderOutput(dataTable, element);\n",
              "          const docLink = document.createElement('div');\n",
              "          docLink.innerHTML = docLinkHtml;\n",
              "          element.appendChild(docLink);\n",
              "        }\n",
              "      </script>\n",
              "    </div>\n",
              "  </div>\n",
              "  "
            ],
            "text/plain": [
              "   Unnamed: 0                                f1 f2 f3  \\\n",
              "0           0  2020-12-31 09:46:17.463002+00:00  x  y   \n",
              "1           1  2020-12-31 09:46:17.463002+00:00  x  y   \n",
              "2           2  2020-12-31 09:46:17.463002+00:00  x  y   \n",
              "3           3  2020-12-31 09:46:17.463002+00:00  x  y   \n",
              "4           4  2020-12-31 09:46:18.191119+00:00  x  y   \n",
              "\n",
              "                          f4                         f5     f6     f7    f8  \\\n",
              "0  2021-01-10 05:00:00+00:00  2021-01-10 07:00:00+00:00  gamma   True   0.0   \n",
              "1  2021-01-10 05:00:00+00:00  2021-01-10 07:00:00+00:00  gamma   True  32.0   \n",
              "2  2021-01-10 11:00:00+00:00  2021-01-10 13:00:00+00:00  gamma   True  32.0   \n",
              "3  2021-01-10 11:00:00+00:00  2021-01-10 13:00:00+00:00  gamma   True  32.0   \n",
              "4  2021-01-25 11:00:00+00:00  2021-01-25 12:55:00+00:00   beta  False  20.0   \n",
              "\n",
              "   f9   f10  \n",
              "0   0   c-2  \n",
              "1   1   c-2  \n",
              "2   1   c-4  \n",
              "3   2   c-4  \n",
              "4   0  b-69  "
            ]
          },
          "execution_count": 3,
          "metadata": {},
          "output_type": "execute_result"
        }
      ],
      "source": [
        "df = pd.read_csv('/content/drive/MyDrive/Data Science Competition/X_train.csv') #the input features\n",
        "df.head()"
      ]
    },
    {
      "cell_type": "markdown",
      "metadata": {
        "id": "GHY4PDRXs02S"
      },
      "source": [
        "***Loading the output predictions in in a dataframe name \"df_y\"***\n"
      ]
    },
    {
      "cell_type": "code",
      "execution_count": 4,
      "metadata": {
        "colab": {
          "base_uri": "https://localhost:8080/",
          "height": 206
        },
        "id": "OuvuOSACr7Y1",
        "outputId": "972e3ab3-0a1c-48a1-ef92-7c2d2e6c016d",
        "vscode": {
          "languageId": "python"
        }
      },
      "outputs": [
        {
          "data": {
            "text/html": [
              "\n",
              "  <div id=\"df-b0948ed6-ee09-4a98-9996-418b579d02aa\">\n",
              "    <div class=\"colab-df-container\">\n",
              "      <div>\n",
              "<style scoped>\n",
              "    .dataframe tbody tr th:only-of-type {\n",
              "        vertical-align: middle;\n",
              "    }\n",
              "\n",
              "    .dataframe tbody tr th {\n",
              "        vertical-align: top;\n",
              "    }\n",
              "\n",
              "    .dataframe thead th {\n",
              "        text-align: right;\n",
              "    }\n",
              "</style>\n",
              "<table border=\"1\" class=\"dataframe\">\n",
              "  <thead>\n",
              "    <tr style=\"text-align: right;\">\n",
              "      <th></th>\n",
              "      <th>Unnamed: 0</th>\n",
              "      <th>target</th>\n",
              "    </tr>\n",
              "  </thead>\n",
              "  <tbody>\n",
              "    <tr>\n",
              "      <th>0</th>\n",
              "      <td>0</td>\n",
              "      <td>7400.0</td>\n",
              "    </tr>\n",
              "    <tr>\n",
              "      <th>1</th>\n",
              "      <td>1</td>\n",
              "      <td>8650.0</td>\n",
              "    </tr>\n",
              "    <tr>\n",
              "      <th>2</th>\n",
              "      <td>2</td>\n",
              "      <td>9150.0</td>\n",
              "    </tr>\n",
              "    <tr>\n",
              "      <th>3</th>\n",
              "      <td>3</td>\n",
              "      <td>10400.0</td>\n",
              "    </tr>\n",
              "    <tr>\n",
              "      <th>4</th>\n",
              "      <td>4</td>\n",
              "      <td>8697.0</td>\n",
              "    </tr>\n",
              "  </tbody>\n",
              "</table>\n",
              "</div>\n",
              "      <button class=\"colab-df-convert\" onclick=\"convertToInteractive('df-b0948ed6-ee09-4a98-9996-418b579d02aa')\"\n",
              "              title=\"Convert this dataframe to an interactive table.\"\n",
              "              style=\"display:none;\">\n",
              "        \n",
              "  <svg xmlns=\"http://www.w3.org/2000/svg\" height=\"24px\"viewBox=\"0 0 24 24\"\n",
              "       width=\"24px\">\n",
              "    <path d=\"M0 0h24v24H0V0z\" fill=\"none\"/>\n",
              "    <path d=\"M18.56 5.44l.94 2.06.94-2.06 2.06-.94-2.06-.94-.94-2.06-.94 2.06-2.06.94zm-11 1L8.5 8.5l.94-2.06 2.06-.94-2.06-.94L8.5 2.5l-.94 2.06-2.06.94zm10 10l.94 2.06.94-2.06 2.06-.94-2.06-.94-.94-2.06-.94 2.06-2.06.94z\"/><path d=\"M17.41 7.96l-1.37-1.37c-.4-.4-.92-.59-1.43-.59-.52 0-1.04.2-1.43.59L10.3 9.45l-7.72 7.72c-.78.78-.78 2.05 0 2.83L4 21.41c.39.39.9.59 1.41.59.51 0 1.02-.2 1.41-.59l7.78-7.78 2.81-2.81c.8-.78.8-2.07 0-2.86zM5.41 20L4 18.59l7.72-7.72 1.47 1.35L5.41 20z\"/>\n",
              "  </svg>\n",
              "      </button>\n",
              "      \n",
              "  <style>\n",
              "    .colab-df-container {\n",
              "      display:flex;\n",
              "      flex-wrap:wrap;\n",
              "      gap: 12px;\n",
              "    }\n",
              "\n",
              "    .colab-df-convert {\n",
              "      background-color: #E8F0FE;\n",
              "      border: none;\n",
              "      border-radius: 50%;\n",
              "      cursor: pointer;\n",
              "      display: none;\n",
              "      fill: #1967D2;\n",
              "      height: 32px;\n",
              "      padding: 0 0 0 0;\n",
              "      width: 32px;\n",
              "    }\n",
              "\n",
              "    .colab-df-convert:hover {\n",
              "      background-color: #E2EBFA;\n",
              "      box-shadow: 0px 1px 2px rgba(60, 64, 67, 0.3), 0px 1px 3px 1px rgba(60, 64, 67, 0.15);\n",
              "      fill: #174EA6;\n",
              "    }\n",
              "\n",
              "    [theme=dark] .colab-df-convert {\n",
              "      background-color: #3B4455;\n",
              "      fill: #D2E3FC;\n",
              "    }\n",
              "\n",
              "    [theme=dark] .colab-df-convert:hover {\n",
              "      background-color: #434B5C;\n",
              "      box-shadow: 0px 1px 3px 1px rgba(0, 0, 0, 0.15);\n",
              "      filter: drop-shadow(0px 1px 2px rgba(0, 0, 0, 0.3));\n",
              "      fill: #FFFFFF;\n",
              "    }\n",
              "  </style>\n",
              "\n",
              "      <script>\n",
              "        const buttonEl =\n",
              "          document.querySelector('#df-b0948ed6-ee09-4a98-9996-418b579d02aa button.colab-df-convert');\n",
              "        buttonEl.style.display =\n",
              "          google.colab.kernel.accessAllowed ? 'block' : 'none';\n",
              "\n",
              "        async function convertToInteractive(key) {\n",
              "          const element = document.querySelector('#df-b0948ed6-ee09-4a98-9996-418b579d02aa');\n",
              "          const dataTable =\n",
              "            await google.colab.kernel.invokeFunction('convertToInteractive',\n",
              "                                                     [key], {});\n",
              "          if (!dataTable) return;\n",
              "\n",
              "          const docLinkHtml = 'Like what you see? Visit the ' +\n",
              "            '<a target=\"_blank\" href=https://colab.research.google.com/notebooks/data_table.ipynb>data table notebook</a>'\n",
              "            + ' to learn more about interactive tables.';\n",
              "          element.innerHTML = '';\n",
              "          dataTable['output_type'] = 'display_data';\n",
              "          await google.colab.output.renderOutput(dataTable, element);\n",
              "          const docLink = document.createElement('div');\n",
              "          docLink.innerHTML = docLinkHtml;\n",
              "          element.appendChild(docLink);\n",
              "        }\n",
              "      </script>\n",
              "    </div>\n",
              "  </div>\n",
              "  "
            ],
            "text/plain": [
              "   Unnamed: 0   target\n",
              "0           0   7400.0\n",
              "1           1   8650.0\n",
              "2           2   9150.0\n",
              "3           3  10400.0\n",
              "4           4   8697.0"
            ]
          },
          "execution_count": 4,
          "metadata": {},
          "output_type": "execute_result"
        }
      ],
      "source": [
        "df_y = pd.read_csv('/content/drive/MyDrive/Data Science Competition/y_train.csv') #the output prediction\n",
        "df_y.head()"
      ]
    },
    {
      "cell_type": "markdown",
      "metadata": {
        "id": "mDQIc_Uvz0gO"
      },
      "source": [
        "#Exploratory Data Analysis"
      ]
    },
    {
      "cell_type": "markdown",
      "metadata": {
        "id": "4PjOjHCg0f9A"
      },
      "source": [
        "## Data Exploration"
      ]
    },
    {
      "cell_type": "markdown",
      "metadata": {
        "id": "R-nk7ebyz88P"
      },
      "source": [
        "### First step we will explore the dataset to dig deep into it to know the structure of the data.\n",
        "\n",
        "In the next step, we will look for null values. \n",
        "If the null values are present, following techniques can be used to handle them:\n",
        "1. Replace them with the mean or median using fillna() method\n",
        "2. If the null values are very less, we can drop it as well."
      ]
    },
    {
      "cell_type": "code",
      "execution_count": 5,
      "metadata": {
        "colab": {
          "base_uri": "https://localhost:8080/"
        },
        "id": "w0Y_DdG0rI7F",
        "outputId": "126c00f8-8898-48d3-d447-e7724e77d3a3",
        "vscode": {
          "languageId": "python"
        }
      },
      "outputs": [
        {
          "name": "stdout",
          "output_type": "stream",
          "text": [
            "<class 'pandas.core.frame.DataFrame'>\n",
            "RangeIndex: 21776590 entries, 0 to 21776589\n",
            "Data columns (total 11 columns):\n",
            " #   Column      Dtype  \n",
            "---  ------      -----  \n",
            " 0   Unnamed: 0  int64  \n",
            " 1   f1          object \n",
            " 2   f2          object \n",
            " 3   f3          object \n",
            " 4   f4          object \n",
            " 5   f5          object \n",
            " 6   f6          object \n",
            " 7   f7          bool   \n",
            " 8   f8          float64\n",
            " 9   f9          int64  \n",
            " 10  f10         object \n",
            "dtypes: bool(1), float64(1), int64(2), object(7)\n",
            "memory usage: 1.6+ GB\n"
          ]
        }
      ],
      "source": [
        "df.info()   #information about the input features(Data type etc)"
      ]
    },
    {
      "cell_type": "code",
      "execution_count": 6,
      "metadata": {
        "colab": {
          "base_uri": "https://localhost:8080/"
        },
        "id": "vnmTbd7ftWjP",
        "outputId": "40c01210-b5d3-4554-d2ad-17b72902da24",
        "vscode": {
          "languageId": "python"
        }
      },
      "outputs": [
        {
          "name": "stdout",
          "output_type": "stream",
          "text": [
            "<class 'pandas.core.frame.DataFrame'>\n",
            "RangeIndex: 21776590 entries, 0 to 21776589\n",
            "Data columns (total 2 columns):\n",
            " #   Column      Dtype  \n",
            "---  ------      -----  \n",
            " 0   Unnamed: 0  int64  \n",
            " 1   target      float64\n",
            "dtypes: float64(1), int64(1)\n",
            "memory usage: 332.3 MB\n"
          ]
        }
      ],
      "source": [
        "df_y.info() #information about the Output prediction(Data type etc)"
      ]
    },
    {
      "cell_type": "code",
      "execution_count": 7,
      "metadata": {
        "colab": {
          "base_uri": "https://localhost:8080/"
        },
        "id": "S9kVp7cDwDl-",
        "outputId": "ee1884b3-acaa-4410-851d-ff69d631dadc",
        "vscode": {
          "languageId": "python"
        }
      },
      "outputs": [
        {
          "data": {
            "text/plain": [
              "(21776590, 11)"
            ]
          },
          "execution_count": 7,
          "metadata": {},
          "output_type": "execute_result"
        }
      ],
      "source": [
        "df.shape"
      ]
    },
    {
      "cell_type": "code",
      "execution_count": 8,
      "metadata": {
        "colab": {
          "base_uri": "https://localhost:8080/"
        },
        "id": "iYMsEtCDwDJh",
        "outputId": "6eedf740-55c0-4bda-a8b8-285a6e687835",
        "vscode": {
          "languageId": "python"
        }
      },
      "outputs": [
        {
          "data": {
            "text/plain": [
              "(21776590, 2)"
            ]
          },
          "execution_count": 8,
          "metadata": {},
          "output_type": "execute_result"
        }
      ],
      "source": [
        "df_y.shape"
      ]
    },
    {
      "cell_type": "markdown",
      "metadata": {
        "id": "4FLetX1U0X2l"
      },
      "source": [
        "## Data Cleaning"
      ]
    },
    {
      "cell_type": "markdown",
      "metadata": {
        "id": "87eWY3CKuADZ"
      },
      "source": [
        "***The data exploration shows that we have a column named \"Unnamed: 0\" in both the dataframes that is of no use. So we will drop it using drop() function.***"
      ]
    },
    {
      "cell_type": "code",
      "execution_count": 9,
      "metadata": {
        "colab": {
          "base_uri": "https://localhost:8080/",
          "height": 468
        },
        "id": "rK6poT0auA1l",
        "outputId": "405bea8d-17f2-4801-9e37-6d543e83a58d",
        "vscode": {
          "languageId": "python"
        }
      },
      "outputs": [
        {
          "data": {
            "text/html": [
              "\n",
              "  <div id=\"df-cd66065e-71de-435e-a890-77bc38645d0a\">\n",
              "    <div class=\"colab-df-container\">\n",
              "      <div>\n",
              "<style scoped>\n",
              "    .dataframe tbody tr th:only-of-type {\n",
              "        vertical-align: middle;\n",
              "    }\n",
              "\n",
              "    .dataframe tbody tr th {\n",
              "        vertical-align: top;\n",
              "    }\n",
              "\n",
              "    .dataframe thead th {\n",
              "        text-align: right;\n",
              "    }\n",
              "</style>\n",
              "<table border=\"1\" class=\"dataframe\">\n",
              "  <thead>\n",
              "    <tr style=\"text-align: right;\">\n",
              "      <th></th>\n",
              "      <th>f1</th>\n",
              "      <th>f2</th>\n",
              "      <th>f3</th>\n",
              "      <th>f4</th>\n",
              "      <th>f5</th>\n",
              "      <th>f6</th>\n",
              "      <th>f7</th>\n",
              "      <th>f8</th>\n",
              "      <th>f9</th>\n",
              "      <th>f10</th>\n",
              "    </tr>\n",
              "  </thead>\n",
              "  <tbody>\n",
              "    <tr>\n",
              "      <th>0</th>\n",
              "      <td>2020-12-31 09:46:17.463002+00:00</td>\n",
              "      <td>x</td>\n",
              "      <td>y</td>\n",
              "      <td>2021-01-10 05:00:00+00:00</td>\n",
              "      <td>2021-01-10 07:00:00+00:00</td>\n",
              "      <td>gamma</td>\n",
              "      <td>True</td>\n",
              "      <td>0.0</td>\n",
              "      <td>0</td>\n",
              "      <td>c-2</td>\n",
              "    </tr>\n",
              "    <tr>\n",
              "      <th>1</th>\n",
              "      <td>2020-12-31 09:46:17.463002+00:00</td>\n",
              "      <td>x</td>\n",
              "      <td>y</td>\n",
              "      <td>2021-01-10 05:00:00+00:00</td>\n",
              "      <td>2021-01-10 07:00:00+00:00</td>\n",
              "      <td>gamma</td>\n",
              "      <td>True</td>\n",
              "      <td>32.0</td>\n",
              "      <td>1</td>\n",
              "      <td>c-2</td>\n",
              "    </tr>\n",
              "    <tr>\n",
              "      <th>2</th>\n",
              "      <td>2020-12-31 09:46:17.463002+00:00</td>\n",
              "      <td>x</td>\n",
              "      <td>y</td>\n",
              "      <td>2021-01-10 11:00:00+00:00</td>\n",
              "      <td>2021-01-10 13:00:00+00:00</td>\n",
              "      <td>gamma</td>\n",
              "      <td>True</td>\n",
              "      <td>32.0</td>\n",
              "      <td>1</td>\n",
              "      <td>c-4</td>\n",
              "    </tr>\n",
              "    <tr>\n",
              "      <th>3</th>\n",
              "      <td>2020-12-31 09:46:17.463002+00:00</td>\n",
              "      <td>x</td>\n",
              "      <td>y</td>\n",
              "      <td>2021-01-10 11:00:00+00:00</td>\n",
              "      <td>2021-01-10 13:00:00+00:00</td>\n",
              "      <td>gamma</td>\n",
              "      <td>True</td>\n",
              "      <td>32.0</td>\n",
              "      <td>2</td>\n",
              "      <td>c-4</td>\n",
              "    </tr>\n",
              "    <tr>\n",
              "      <th>4</th>\n",
              "      <td>2020-12-31 09:46:18.191119+00:00</td>\n",
              "      <td>x</td>\n",
              "      <td>y</td>\n",
              "      <td>2021-01-25 11:00:00+00:00</td>\n",
              "      <td>2021-01-25 12:55:00+00:00</td>\n",
              "      <td>beta</td>\n",
              "      <td>False</td>\n",
              "      <td>20.0</td>\n",
              "      <td>0</td>\n",
              "      <td>b-69</td>\n",
              "    </tr>\n",
              "    <tr>\n",
              "      <th>...</th>\n",
              "      <td>...</td>\n",
              "      <td>...</td>\n",
              "      <td>...</td>\n",
              "      <td>...</td>\n",
              "      <td>...</td>\n",
              "      <td>...</td>\n",
              "      <td>...</td>\n",
              "      <td>...</td>\n",
              "      <td>...</td>\n",
              "      <td>...</td>\n",
              "    </tr>\n",
              "    <tr>\n",
              "      <th>21776585</th>\n",
              "      <td>2021-08-31 23:29:18.122593+00:00</td>\n",
              "      <td>x</td>\n",
              "      <td>y</td>\n",
              "      <td>2021-09-03 10:00:00+00:00</td>\n",
              "      <td>2021-09-03 12:00:00+00:00</td>\n",
              "      <td>alpha</td>\n",
              "      <td>True</td>\n",
              "      <td>20.0</td>\n",
              "      <td>1</td>\n",
              "      <td>a-7</td>\n",
              "    </tr>\n",
              "    <tr>\n",
              "      <th>21776586</th>\n",
              "      <td>2021-08-31 23:29:18.122593+00:00</td>\n",
              "      <td>x</td>\n",
              "      <td>y</td>\n",
              "      <td>2021-09-03 13:40:00+00:00</td>\n",
              "      <td>2021-09-03 15:40:00+00:00</td>\n",
              "      <td>alpha</td>\n",
              "      <td>True</td>\n",
              "      <td>15.0</td>\n",
              "      <td>1</td>\n",
              "      <td>a-9</td>\n",
              "    </tr>\n",
              "    <tr>\n",
              "      <th>21776587</th>\n",
              "      <td>2021-08-31 23:29:18.961691+00:00</td>\n",
              "      <td>x</td>\n",
              "      <td>y</td>\n",
              "      <td>2021-09-03 04:40:00+00:00</td>\n",
              "      <td>2021-09-03 06:40:00+00:00</td>\n",
              "      <td>omega</td>\n",
              "      <td>True</td>\n",
              "      <td>20.0</td>\n",
              "      <td>1</td>\n",
              "      <td>d-1</td>\n",
              "    </tr>\n",
              "    <tr>\n",
              "      <th>21776588</th>\n",
              "      <td>2021-08-31 23:29:18.961691+00:00</td>\n",
              "      <td>x</td>\n",
              "      <td>y</td>\n",
              "      <td>2021-09-03 10:35:00+00:00</td>\n",
              "      <td>2021-09-03 12:35:00+00:00</td>\n",
              "      <td>omega</td>\n",
              "      <td>True</td>\n",
              "      <td>20.0</td>\n",
              "      <td>1</td>\n",
              "      <td>d-3</td>\n",
              "    </tr>\n",
              "    <tr>\n",
              "      <th>21776589</th>\n",
              "      <td>2021-08-31 23:29:18.961691+00:00</td>\n",
              "      <td>x</td>\n",
              "      <td>y</td>\n",
              "      <td>2021-09-03 17:05:00+00:00</td>\n",
              "      <td>2021-09-03 19:05:00+00:00</td>\n",
              "      <td>omega</td>\n",
              "      <td>True</td>\n",
              "      <td>20.0</td>\n",
              "      <td>1</td>\n",
              "      <td>d-5</td>\n",
              "    </tr>\n",
              "  </tbody>\n",
              "</table>\n",
              "<p>21776590 rows × 10 columns</p>\n",
              "</div>\n",
              "      <button class=\"colab-df-convert\" onclick=\"convertToInteractive('df-cd66065e-71de-435e-a890-77bc38645d0a')\"\n",
              "              title=\"Convert this dataframe to an interactive table.\"\n",
              "              style=\"display:none;\">\n",
              "        \n",
              "  <svg xmlns=\"http://www.w3.org/2000/svg\" height=\"24px\"viewBox=\"0 0 24 24\"\n",
              "       width=\"24px\">\n",
              "    <path d=\"M0 0h24v24H0V0z\" fill=\"none\"/>\n",
              "    <path d=\"M18.56 5.44l.94 2.06.94-2.06 2.06-.94-2.06-.94-.94-2.06-.94 2.06-2.06.94zm-11 1L8.5 8.5l.94-2.06 2.06-.94-2.06-.94L8.5 2.5l-.94 2.06-2.06.94zm10 10l.94 2.06.94-2.06 2.06-.94-2.06-.94-.94-2.06-.94 2.06-2.06.94z\"/><path d=\"M17.41 7.96l-1.37-1.37c-.4-.4-.92-.59-1.43-.59-.52 0-1.04.2-1.43.59L10.3 9.45l-7.72 7.72c-.78.78-.78 2.05 0 2.83L4 21.41c.39.39.9.59 1.41.59.51 0 1.02-.2 1.41-.59l7.78-7.78 2.81-2.81c.8-.78.8-2.07 0-2.86zM5.41 20L4 18.59l7.72-7.72 1.47 1.35L5.41 20z\"/>\n",
              "  </svg>\n",
              "      </button>\n",
              "      \n",
              "  <style>\n",
              "    .colab-df-container {\n",
              "      display:flex;\n",
              "      flex-wrap:wrap;\n",
              "      gap: 12px;\n",
              "    }\n",
              "\n",
              "    .colab-df-convert {\n",
              "      background-color: #E8F0FE;\n",
              "      border: none;\n",
              "      border-radius: 50%;\n",
              "      cursor: pointer;\n",
              "      display: none;\n",
              "      fill: #1967D2;\n",
              "      height: 32px;\n",
              "      padding: 0 0 0 0;\n",
              "      width: 32px;\n",
              "    }\n",
              "\n",
              "    .colab-df-convert:hover {\n",
              "      background-color: #E2EBFA;\n",
              "      box-shadow: 0px 1px 2px rgba(60, 64, 67, 0.3), 0px 1px 3px 1px rgba(60, 64, 67, 0.15);\n",
              "      fill: #174EA6;\n",
              "    }\n",
              "\n",
              "    [theme=dark] .colab-df-convert {\n",
              "      background-color: #3B4455;\n",
              "      fill: #D2E3FC;\n",
              "    }\n",
              "\n",
              "    [theme=dark] .colab-df-convert:hover {\n",
              "      background-color: #434B5C;\n",
              "      box-shadow: 0px 1px 3px 1px rgba(0, 0, 0, 0.15);\n",
              "      filter: drop-shadow(0px 1px 2px rgba(0, 0, 0, 0.3));\n",
              "      fill: #FFFFFF;\n",
              "    }\n",
              "  </style>\n",
              "\n",
              "      <script>\n",
              "        const buttonEl =\n",
              "          document.querySelector('#df-cd66065e-71de-435e-a890-77bc38645d0a button.colab-df-convert');\n",
              "        buttonEl.style.display =\n",
              "          google.colab.kernel.accessAllowed ? 'block' : 'none';\n",
              "\n",
              "        async function convertToInteractive(key) {\n",
              "          const element = document.querySelector('#df-cd66065e-71de-435e-a890-77bc38645d0a');\n",
              "          const dataTable =\n",
              "            await google.colab.kernel.invokeFunction('convertToInteractive',\n",
              "                                                     [key], {});\n",
              "          if (!dataTable) return;\n",
              "\n",
              "          const docLinkHtml = 'Like what you see? Visit the ' +\n",
              "            '<a target=\"_blank\" href=https://colab.research.google.com/notebooks/data_table.ipynb>data table notebook</a>'\n",
              "            + ' to learn more about interactive tables.';\n",
              "          element.innerHTML = '';\n",
              "          dataTable['output_type'] = 'display_data';\n",
              "          await google.colab.output.renderOutput(dataTable, element);\n",
              "          const docLink = document.createElement('div');\n",
              "          docLink.innerHTML = docLinkHtml;\n",
              "          element.appendChild(docLink);\n",
              "        }\n",
              "      </script>\n",
              "    </div>\n",
              "  </div>\n",
              "  "
            ],
            "text/plain": [
              "                                        f1 f2 f3                         f4  \\\n",
              "0         2020-12-31 09:46:17.463002+00:00  x  y  2021-01-10 05:00:00+00:00   \n",
              "1         2020-12-31 09:46:17.463002+00:00  x  y  2021-01-10 05:00:00+00:00   \n",
              "2         2020-12-31 09:46:17.463002+00:00  x  y  2021-01-10 11:00:00+00:00   \n",
              "3         2020-12-31 09:46:17.463002+00:00  x  y  2021-01-10 11:00:00+00:00   \n",
              "4         2020-12-31 09:46:18.191119+00:00  x  y  2021-01-25 11:00:00+00:00   \n",
              "...                                    ... .. ..                        ...   \n",
              "21776585  2021-08-31 23:29:18.122593+00:00  x  y  2021-09-03 10:00:00+00:00   \n",
              "21776586  2021-08-31 23:29:18.122593+00:00  x  y  2021-09-03 13:40:00+00:00   \n",
              "21776587  2021-08-31 23:29:18.961691+00:00  x  y  2021-09-03 04:40:00+00:00   \n",
              "21776588  2021-08-31 23:29:18.961691+00:00  x  y  2021-09-03 10:35:00+00:00   \n",
              "21776589  2021-08-31 23:29:18.961691+00:00  x  y  2021-09-03 17:05:00+00:00   \n",
              "\n",
              "                                 f5     f6     f7    f8  f9   f10  \n",
              "0         2021-01-10 07:00:00+00:00  gamma   True   0.0   0   c-2  \n",
              "1         2021-01-10 07:00:00+00:00  gamma   True  32.0   1   c-2  \n",
              "2         2021-01-10 13:00:00+00:00  gamma   True  32.0   1   c-4  \n",
              "3         2021-01-10 13:00:00+00:00  gamma   True  32.0   2   c-4  \n",
              "4         2021-01-25 12:55:00+00:00   beta  False  20.0   0  b-69  \n",
              "...                             ...    ...    ...   ...  ..   ...  \n",
              "21776585  2021-09-03 12:00:00+00:00  alpha   True  20.0   1   a-7  \n",
              "21776586  2021-09-03 15:40:00+00:00  alpha   True  15.0   1   a-9  \n",
              "21776587  2021-09-03 06:40:00+00:00  omega   True  20.0   1   d-1  \n",
              "21776588  2021-09-03 12:35:00+00:00  omega   True  20.0   1   d-3  \n",
              "21776589  2021-09-03 19:05:00+00:00  omega   True  20.0   1   d-5  \n",
              "\n",
              "[21776590 rows x 10 columns]"
            ]
          },
          "execution_count": 9,
          "metadata": {},
          "output_type": "execute_result"
        }
      ],
      "source": [
        "df = df.drop(\"Unnamed: 0\", axis=1) #dropping the column \"Unnamed:0 and updating the df\"\n",
        "df"
      ]
    },
    {
      "cell_type": "code",
      "execution_count": 10,
      "metadata": {
        "colab": {
          "base_uri": "https://localhost:8080/",
          "height": 423
        },
        "id": "Gc1rksotuBBc",
        "outputId": "bfcac593-b959-40eb-b993-6f1ec9c24591",
        "vscode": {
          "languageId": "python"
        }
      },
      "outputs": [
        {
          "data": {
            "text/html": [
              "\n",
              "  <div id=\"df-aca6a68f-7441-4b06-bc08-1fd465a20d76\">\n",
              "    <div class=\"colab-df-container\">\n",
              "      <div>\n",
              "<style scoped>\n",
              "    .dataframe tbody tr th:only-of-type {\n",
              "        vertical-align: middle;\n",
              "    }\n",
              "\n",
              "    .dataframe tbody tr th {\n",
              "        vertical-align: top;\n",
              "    }\n",
              "\n",
              "    .dataframe thead th {\n",
              "        text-align: right;\n",
              "    }\n",
              "</style>\n",
              "<table border=\"1\" class=\"dataframe\">\n",
              "  <thead>\n",
              "    <tr style=\"text-align: right;\">\n",
              "      <th></th>\n",
              "      <th>target</th>\n",
              "    </tr>\n",
              "  </thead>\n",
              "  <tbody>\n",
              "    <tr>\n",
              "      <th>0</th>\n",
              "      <td>7400.0</td>\n",
              "    </tr>\n",
              "    <tr>\n",
              "      <th>1</th>\n",
              "      <td>8650.0</td>\n",
              "    </tr>\n",
              "    <tr>\n",
              "      <th>2</th>\n",
              "      <td>9150.0</td>\n",
              "    </tr>\n",
              "    <tr>\n",
              "      <th>3</th>\n",
              "      <td>10400.0</td>\n",
              "    </tr>\n",
              "    <tr>\n",
              "      <th>4</th>\n",
              "      <td>8697.0</td>\n",
              "    </tr>\n",
              "    <tr>\n",
              "      <th>...</th>\n",
              "      <td>...</td>\n",
              "    </tr>\n",
              "    <tr>\n",
              "      <th>21776585</th>\n",
              "      <td>8381.0</td>\n",
              "    </tr>\n",
              "    <tr>\n",
              "      <th>21776586</th>\n",
              "      <td>9045.0</td>\n",
              "    </tr>\n",
              "    <tr>\n",
              "      <th>21776587</th>\n",
              "      <td>6155.0</td>\n",
              "    </tr>\n",
              "    <tr>\n",
              "      <th>21776588</th>\n",
              "      <td>6155.0</td>\n",
              "    </tr>\n",
              "    <tr>\n",
              "      <th>21776589</th>\n",
              "      <td>6605.0</td>\n",
              "    </tr>\n",
              "  </tbody>\n",
              "</table>\n",
              "<p>21776590 rows × 1 columns</p>\n",
              "</div>\n",
              "      <button class=\"colab-df-convert\" onclick=\"convertToInteractive('df-aca6a68f-7441-4b06-bc08-1fd465a20d76')\"\n",
              "              title=\"Convert this dataframe to an interactive table.\"\n",
              "              style=\"display:none;\">\n",
              "        \n",
              "  <svg xmlns=\"http://www.w3.org/2000/svg\" height=\"24px\"viewBox=\"0 0 24 24\"\n",
              "       width=\"24px\">\n",
              "    <path d=\"M0 0h24v24H0V0z\" fill=\"none\"/>\n",
              "    <path d=\"M18.56 5.44l.94 2.06.94-2.06 2.06-.94-2.06-.94-.94-2.06-.94 2.06-2.06.94zm-11 1L8.5 8.5l.94-2.06 2.06-.94-2.06-.94L8.5 2.5l-.94 2.06-2.06.94zm10 10l.94 2.06.94-2.06 2.06-.94-2.06-.94-.94-2.06-.94 2.06-2.06.94z\"/><path d=\"M17.41 7.96l-1.37-1.37c-.4-.4-.92-.59-1.43-.59-.52 0-1.04.2-1.43.59L10.3 9.45l-7.72 7.72c-.78.78-.78 2.05 0 2.83L4 21.41c.39.39.9.59 1.41.59.51 0 1.02-.2 1.41-.59l7.78-7.78 2.81-2.81c.8-.78.8-2.07 0-2.86zM5.41 20L4 18.59l7.72-7.72 1.47 1.35L5.41 20z\"/>\n",
              "  </svg>\n",
              "      </button>\n",
              "      \n",
              "  <style>\n",
              "    .colab-df-container {\n",
              "      display:flex;\n",
              "      flex-wrap:wrap;\n",
              "      gap: 12px;\n",
              "    }\n",
              "\n",
              "    .colab-df-convert {\n",
              "      background-color: #E8F0FE;\n",
              "      border: none;\n",
              "      border-radius: 50%;\n",
              "      cursor: pointer;\n",
              "      display: none;\n",
              "      fill: #1967D2;\n",
              "      height: 32px;\n",
              "      padding: 0 0 0 0;\n",
              "      width: 32px;\n",
              "    }\n",
              "\n",
              "    .colab-df-convert:hover {\n",
              "      background-color: #E2EBFA;\n",
              "      box-shadow: 0px 1px 2px rgba(60, 64, 67, 0.3), 0px 1px 3px 1px rgba(60, 64, 67, 0.15);\n",
              "      fill: #174EA6;\n",
              "    }\n",
              "\n",
              "    [theme=dark] .colab-df-convert {\n",
              "      background-color: #3B4455;\n",
              "      fill: #D2E3FC;\n",
              "    }\n",
              "\n",
              "    [theme=dark] .colab-df-convert:hover {\n",
              "      background-color: #434B5C;\n",
              "      box-shadow: 0px 1px 3px 1px rgba(0, 0, 0, 0.15);\n",
              "      filter: drop-shadow(0px 1px 2px rgba(0, 0, 0, 0.3));\n",
              "      fill: #FFFFFF;\n",
              "    }\n",
              "  </style>\n",
              "\n",
              "      <script>\n",
              "        const buttonEl =\n",
              "          document.querySelector('#df-aca6a68f-7441-4b06-bc08-1fd465a20d76 button.colab-df-convert');\n",
              "        buttonEl.style.display =\n",
              "          google.colab.kernel.accessAllowed ? 'block' : 'none';\n",
              "\n",
              "        async function convertToInteractive(key) {\n",
              "          const element = document.querySelector('#df-aca6a68f-7441-4b06-bc08-1fd465a20d76');\n",
              "          const dataTable =\n",
              "            await google.colab.kernel.invokeFunction('convertToInteractive',\n",
              "                                                     [key], {});\n",
              "          if (!dataTable) return;\n",
              "\n",
              "          const docLinkHtml = 'Like what you see? Visit the ' +\n",
              "            '<a target=\"_blank\" href=https://colab.research.google.com/notebooks/data_table.ipynb>data table notebook</a>'\n",
              "            + ' to learn more about interactive tables.';\n",
              "          element.innerHTML = '';\n",
              "          dataTable['output_type'] = 'display_data';\n",
              "          await google.colab.output.renderOutput(dataTable, element);\n",
              "          const docLink = document.createElement('div');\n",
              "          docLink.innerHTML = docLinkHtml;\n",
              "          element.appendChild(docLink);\n",
              "        }\n",
              "      </script>\n",
              "    </div>\n",
              "  </div>\n",
              "  "
            ],
            "text/plain": [
              "           target\n",
              "0          7400.0\n",
              "1          8650.0\n",
              "2          9150.0\n",
              "3         10400.0\n",
              "4          8697.0\n",
              "...           ...\n",
              "21776585   8381.0\n",
              "21776586   9045.0\n",
              "21776587   6155.0\n",
              "21776588   6155.0\n",
              "21776589   6605.0\n",
              "\n",
              "[21776590 rows x 1 columns]"
            ]
          },
          "execution_count": 10,
          "metadata": {},
          "output_type": "execute_result"
        }
      ],
      "source": [
        "df_y = df_y.drop(\"Unnamed: 0\", axis=1) #dropping the column \"Unnamed:0 and updating the df_y\"\n",
        "df_y"
      ]
    },
    {
      "cell_type": "markdown",
      "metadata": {
        "id": "hTjkwAWWuBNd"
      },
      "source": [
        "***Counting the null values in the both the dataframes(df,df_y)***"
      ]
    },
    {
      "cell_type": "code",
      "execution_count": 11,
      "metadata": {
        "colab": {
          "base_uri": "https://localhost:8080/"
        },
        "id": "deZoaIY6tiBP",
        "outputId": "70e95aed-3b79-4acd-c665-1427efb879af",
        "vscode": {
          "languageId": "python"
        }
      },
      "outputs": [
        {
          "data": {
            "text/plain": [
              "f1     0\n",
              "f2     0\n",
              "f3     0\n",
              "f4     0\n",
              "f5     0\n",
              "f6     0\n",
              "f7     0\n",
              "f8     0\n",
              "f9     0\n",
              "f10    0\n",
              "dtype: int64"
            ]
          },
          "execution_count": 11,
          "metadata": {},
          "output_type": "execute_result"
        }
      ],
      "source": [
        "df.isnull().sum()"
      ]
    },
    {
      "cell_type": "code",
      "execution_count": 12,
      "metadata": {
        "colab": {
          "base_uri": "https://localhost:8080/"
        },
        "id": "ruIsW7U1rImx",
        "outputId": "8965f9d2-35f6-4e08-ee45-3fd84725c23b",
        "vscode": {
          "languageId": "python"
        }
      },
      "outputs": [
        {
          "data": {
            "text/plain": [
              "target    0\n",
              "dtype: int64"
            ]
          },
          "execution_count": 12,
          "metadata": {},
          "output_type": "execute_result"
        }
      ],
      "source": [
        "df_y.isnull().sum()"
      ]
    },
    {
      "cell_type": "markdown",
      "metadata": {
        "id": "f2SxbCZ_rHk8"
      },
      "source": [
        "***Inserting the \"target\" column of df_y into the df dataframe so that it will help us later on in Exploratory Data Analysis***"
      ]
    },
    {
      "cell_type": "code",
      "execution_count": 13,
      "metadata": {
        "id": "VTx9ySvLrGxZ",
        "vscode": {
          "languageId": "python"
        }
      },
      "outputs": [],
      "source": [
        "df[\"target\"] = df_y[\"target\"]"
      ]
    },
    {
      "cell_type": "code",
      "execution_count": 14,
      "metadata": {
        "colab": {
          "base_uri": "https://localhost:8080/",
          "height": 250
        },
        "id": "NugQ34QDwdKx",
        "outputId": "57e65a06-b39a-47fb-bebc-99d3dd48e450",
        "vscode": {
          "languageId": "python"
        }
      },
      "outputs": [
        {
          "data": {
            "text/html": [
              "\n",
              "  <div id=\"df-6626fa8b-db49-41a9-a987-38394c68ffb0\">\n",
              "    <div class=\"colab-df-container\">\n",
              "      <div>\n",
              "<style scoped>\n",
              "    .dataframe tbody tr th:only-of-type {\n",
              "        vertical-align: middle;\n",
              "    }\n",
              "\n",
              "    .dataframe tbody tr th {\n",
              "        vertical-align: top;\n",
              "    }\n",
              "\n",
              "    .dataframe thead th {\n",
              "        text-align: right;\n",
              "    }\n",
              "</style>\n",
              "<table border=\"1\" class=\"dataframe\">\n",
              "  <thead>\n",
              "    <tr style=\"text-align: right;\">\n",
              "      <th></th>\n",
              "      <th>f1</th>\n",
              "      <th>f2</th>\n",
              "      <th>f3</th>\n",
              "      <th>f4</th>\n",
              "      <th>f5</th>\n",
              "      <th>f6</th>\n",
              "      <th>f7</th>\n",
              "      <th>f8</th>\n",
              "      <th>f9</th>\n",
              "      <th>f10</th>\n",
              "      <th>target</th>\n",
              "    </tr>\n",
              "  </thead>\n",
              "  <tbody>\n",
              "    <tr>\n",
              "      <th>0</th>\n",
              "      <td>2020-12-31 09:46:17.463002+00:00</td>\n",
              "      <td>x</td>\n",
              "      <td>y</td>\n",
              "      <td>2021-01-10 05:00:00+00:00</td>\n",
              "      <td>2021-01-10 07:00:00+00:00</td>\n",
              "      <td>gamma</td>\n",
              "      <td>True</td>\n",
              "      <td>0.0</td>\n",
              "      <td>0</td>\n",
              "      <td>c-2</td>\n",
              "      <td>7400.0</td>\n",
              "    </tr>\n",
              "    <tr>\n",
              "      <th>1</th>\n",
              "      <td>2020-12-31 09:46:17.463002+00:00</td>\n",
              "      <td>x</td>\n",
              "      <td>y</td>\n",
              "      <td>2021-01-10 05:00:00+00:00</td>\n",
              "      <td>2021-01-10 07:00:00+00:00</td>\n",
              "      <td>gamma</td>\n",
              "      <td>True</td>\n",
              "      <td>32.0</td>\n",
              "      <td>1</td>\n",
              "      <td>c-2</td>\n",
              "      <td>8650.0</td>\n",
              "    </tr>\n",
              "    <tr>\n",
              "      <th>2</th>\n",
              "      <td>2020-12-31 09:46:17.463002+00:00</td>\n",
              "      <td>x</td>\n",
              "      <td>y</td>\n",
              "      <td>2021-01-10 11:00:00+00:00</td>\n",
              "      <td>2021-01-10 13:00:00+00:00</td>\n",
              "      <td>gamma</td>\n",
              "      <td>True</td>\n",
              "      <td>32.0</td>\n",
              "      <td>1</td>\n",
              "      <td>c-4</td>\n",
              "      <td>9150.0</td>\n",
              "    </tr>\n",
              "    <tr>\n",
              "      <th>3</th>\n",
              "      <td>2020-12-31 09:46:17.463002+00:00</td>\n",
              "      <td>x</td>\n",
              "      <td>y</td>\n",
              "      <td>2021-01-10 11:00:00+00:00</td>\n",
              "      <td>2021-01-10 13:00:00+00:00</td>\n",
              "      <td>gamma</td>\n",
              "      <td>True</td>\n",
              "      <td>32.0</td>\n",
              "      <td>2</td>\n",
              "      <td>c-4</td>\n",
              "      <td>10400.0</td>\n",
              "    </tr>\n",
              "    <tr>\n",
              "      <th>4</th>\n",
              "      <td>2020-12-31 09:46:18.191119+00:00</td>\n",
              "      <td>x</td>\n",
              "      <td>y</td>\n",
              "      <td>2021-01-25 11:00:00+00:00</td>\n",
              "      <td>2021-01-25 12:55:00+00:00</td>\n",
              "      <td>beta</td>\n",
              "      <td>False</td>\n",
              "      <td>20.0</td>\n",
              "      <td>0</td>\n",
              "      <td>b-69</td>\n",
              "      <td>8697.0</td>\n",
              "    </tr>\n",
              "  </tbody>\n",
              "</table>\n",
              "</div>\n",
              "      <button class=\"colab-df-convert\" onclick=\"convertToInteractive('df-6626fa8b-db49-41a9-a987-38394c68ffb0')\"\n",
              "              title=\"Convert this dataframe to an interactive table.\"\n",
              "              style=\"display:none;\">\n",
              "        \n",
              "  <svg xmlns=\"http://www.w3.org/2000/svg\" height=\"24px\"viewBox=\"0 0 24 24\"\n",
              "       width=\"24px\">\n",
              "    <path d=\"M0 0h24v24H0V0z\" fill=\"none\"/>\n",
              "    <path d=\"M18.56 5.44l.94 2.06.94-2.06 2.06-.94-2.06-.94-.94-2.06-.94 2.06-2.06.94zm-11 1L8.5 8.5l.94-2.06 2.06-.94-2.06-.94L8.5 2.5l-.94 2.06-2.06.94zm10 10l.94 2.06.94-2.06 2.06-.94-2.06-.94-.94-2.06-.94 2.06-2.06.94z\"/><path d=\"M17.41 7.96l-1.37-1.37c-.4-.4-.92-.59-1.43-.59-.52 0-1.04.2-1.43.59L10.3 9.45l-7.72 7.72c-.78.78-.78 2.05 0 2.83L4 21.41c.39.39.9.59 1.41.59.51 0 1.02-.2 1.41-.59l7.78-7.78 2.81-2.81c.8-.78.8-2.07 0-2.86zM5.41 20L4 18.59l7.72-7.72 1.47 1.35L5.41 20z\"/>\n",
              "  </svg>\n",
              "      </button>\n",
              "      \n",
              "  <style>\n",
              "    .colab-df-container {\n",
              "      display:flex;\n",
              "      flex-wrap:wrap;\n",
              "      gap: 12px;\n",
              "    }\n",
              "\n",
              "    .colab-df-convert {\n",
              "      background-color: #E8F0FE;\n",
              "      border: none;\n",
              "      border-radius: 50%;\n",
              "      cursor: pointer;\n",
              "      display: none;\n",
              "      fill: #1967D2;\n",
              "      height: 32px;\n",
              "      padding: 0 0 0 0;\n",
              "      width: 32px;\n",
              "    }\n",
              "\n",
              "    .colab-df-convert:hover {\n",
              "      background-color: #E2EBFA;\n",
              "      box-shadow: 0px 1px 2px rgba(60, 64, 67, 0.3), 0px 1px 3px 1px rgba(60, 64, 67, 0.15);\n",
              "      fill: #174EA6;\n",
              "    }\n",
              "\n",
              "    [theme=dark] .colab-df-convert {\n",
              "      background-color: #3B4455;\n",
              "      fill: #D2E3FC;\n",
              "    }\n",
              "\n",
              "    [theme=dark] .colab-df-convert:hover {\n",
              "      background-color: #434B5C;\n",
              "      box-shadow: 0px 1px 3px 1px rgba(0, 0, 0, 0.15);\n",
              "      filter: drop-shadow(0px 1px 2px rgba(0, 0, 0, 0.3));\n",
              "      fill: #FFFFFF;\n",
              "    }\n",
              "  </style>\n",
              "\n",
              "      <script>\n",
              "        const buttonEl =\n",
              "          document.querySelector('#df-6626fa8b-db49-41a9-a987-38394c68ffb0 button.colab-df-convert');\n",
              "        buttonEl.style.display =\n",
              "          google.colab.kernel.accessAllowed ? 'block' : 'none';\n",
              "\n",
              "        async function convertToInteractive(key) {\n",
              "          const element = document.querySelector('#df-6626fa8b-db49-41a9-a987-38394c68ffb0');\n",
              "          const dataTable =\n",
              "            await google.colab.kernel.invokeFunction('convertToInteractive',\n",
              "                                                     [key], {});\n",
              "          if (!dataTable) return;\n",
              "\n",
              "          const docLinkHtml = 'Like what you see? Visit the ' +\n",
              "            '<a target=\"_blank\" href=https://colab.research.google.com/notebooks/data_table.ipynb>data table notebook</a>'\n",
              "            + ' to learn more about interactive tables.';\n",
              "          element.innerHTML = '';\n",
              "          dataTable['output_type'] = 'display_data';\n",
              "          await google.colab.output.renderOutput(dataTable, element);\n",
              "          const docLink = document.createElement('div');\n",
              "          docLink.innerHTML = docLinkHtml;\n",
              "          element.appendChild(docLink);\n",
              "        }\n",
              "      </script>\n",
              "    </div>\n",
              "  </div>\n",
              "  "
            ],
            "text/plain": [
              "                                 f1 f2 f3                         f4  \\\n",
              "0  2020-12-31 09:46:17.463002+00:00  x  y  2021-01-10 05:00:00+00:00   \n",
              "1  2020-12-31 09:46:17.463002+00:00  x  y  2021-01-10 05:00:00+00:00   \n",
              "2  2020-12-31 09:46:17.463002+00:00  x  y  2021-01-10 11:00:00+00:00   \n",
              "3  2020-12-31 09:46:17.463002+00:00  x  y  2021-01-10 11:00:00+00:00   \n",
              "4  2020-12-31 09:46:18.191119+00:00  x  y  2021-01-25 11:00:00+00:00   \n",
              "\n",
              "                          f5     f6     f7    f8  f9   f10   target  \n",
              "0  2021-01-10 07:00:00+00:00  gamma   True   0.0   0   c-2   7400.0  \n",
              "1  2021-01-10 07:00:00+00:00  gamma   True  32.0   1   c-2   8650.0  \n",
              "2  2021-01-10 13:00:00+00:00  gamma   True  32.0   1   c-4   9150.0  \n",
              "3  2021-01-10 13:00:00+00:00  gamma   True  32.0   2   c-4  10400.0  \n",
              "4  2021-01-25 12:55:00+00:00   beta  False  20.0   0  b-69   8697.0  "
            ]
          },
          "execution_count": 14,
          "metadata": {},
          "output_type": "execute_result"
        }
      ],
      "source": [
        "df.head()"
      ]
    },
    {
      "cell_type": "code",
      "execution_count": 15,
      "metadata": {
        "colab": {
          "base_uri": "https://localhost:8080/"
        },
        "id": "kcok3mdJwwaL",
        "outputId": "88207af0-1e3d-4730-ae85-227339e5ed1c",
        "vscode": {
          "languageId": "python"
        }
      },
      "outputs": [
        {
          "data": {
            "text/plain": [
              "(21776590, 11)"
            ]
          },
          "execution_count": 15,
          "metadata": {},
          "output_type": "execute_result"
        }
      ],
      "source": [
        "df.shape"
      ]
    },
    {
      "cell_type": "markdown",
      "metadata": {
        "id": "EEZZRSe5wjh5"
      },
      "source": [
        "***The data have \"21776590\" records which requires high computational resources. Due to the lack of Computational resource we will take a sample of 300000 records from the data.***"
      ]
    },
    {
      "cell_type": "code",
      "execution_count": 16,
      "metadata": {
        "id": "w46obCQgbRdw",
        "vscode": {
          "languageId": "python"
        }
      },
      "outputs": [],
      "source": [
        "df = df.sample(n=300000)"
      ]
    },
    {
      "cell_type": "code",
      "execution_count": 17,
      "metadata": {
        "colab": {
          "base_uri": "https://localhost:8080/"
        },
        "id": "31i-Ba4k0-8X",
        "outputId": "bc720b3b-e2fc-49f0-e859-d2183a367df5",
        "vscode": {
          "languageId": "python"
        }
      },
      "outputs": [
        {
          "data": {
            "text/plain": [
              "f1         object\n",
              "f2         object\n",
              "f3         object\n",
              "f4         object\n",
              "f5         object\n",
              "f6         object\n",
              "f7           bool\n",
              "f8        float64\n",
              "f9          int64\n",
              "f10        object\n",
              "target    float64\n",
              "dtype: object"
            ]
          },
          "execution_count": 17,
          "metadata": {},
          "output_type": "execute_result"
        }
      ],
      "source": [
        "df.dtypes # datatypes"
      ]
    },
    {
      "cell_type": "markdown",
      "metadata": {
        "id": "qzWU0h1j0_F_"
      },
      "source": [
        "***As describe in Section 1 that f1,f4,f5 are our date time columns named \"Ticket Purchase Date Time\", \"Departure Date Time\" and \"Arrival Date Time\". We will convert these columns from object to date and time using pandas datetime function for predictions.***\n",
        "\n",
        "- dt.day method will extract only day of that date\n",
        "- dt.month method will extract only month of that date"
      ]
    },
    {
      "cell_type": "code",
      "execution_count": 18,
      "metadata": {
        "id": "uyeyQ1Uy0_Of",
        "vscode": {
          "languageId": "python"
        }
      },
      "outputs": [],
      "source": [
        "def change_into_datetime(col):\n",
        "    df[col]=pd.to_datetime(df[col])"
      ]
    },
    {
      "cell_type": "code",
      "execution_count": 19,
      "metadata": {
        "id": "PEWX4sH40_qg",
        "vscode": {
          "languageId": "python"
        }
      },
      "outputs": [],
      "source": [
        "for i in [\"f1\",\"f4\",\"f5\"]:\n",
        "    change_into_datetime(i)"
      ]
    },
    {
      "cell_type": "code",
      "execution_count": 20,
      "metadata": {
        "colab": {
          "base_uri": "https://localhost:8080/"
        },
        "id": "dFa8QmB70_1t",
        "outputId": "6c93b587-899c-4227-ca43-43d2a3f0fd96",
        "vscode": {
          "languageId": "python"
        }
      },
      "outputs": [
        {
          "data": {
            "text/plain": [
              "f1        datetime64[ns, UTC]\n",
              "f2                     object\n",
              "f3                     object\n",
              "f4        datetime64[ns, UTC]\n",
              "f5        datetime64[ns, UTC]\n",
              "f6                     object\n",
              "f7                       bool\n",
              "f8                    float64\n",
              "f9                      int64\n",
              "f10                    object\n",
              "target                float64\n",
              "dtype: object"
            ]
          },
          "execution_count": 20,
          "metadata": {},
          "output_type": "execute_result"
        }
      ],
      "source": [
        "df.dtypes"
      ]
    },
    {
      "cell_type": "markdown",
      "metadata": {
        "id": "CIbtc0xF1ARC"
      },
      "source": [
        "***Now we will calculate the time duration in hours between the purchase of ticket(f1) and the departure time (f4). We  also calculate the flight duration from the difference between the Departure time and Arrival Time and the Ticket purchase day,month,year. 6 new columns are created.***\n",
        "\n",
        "* **flight_duration_minutes** - Flight Duration in Minutes\n",
        "* **flight_duration_hours** - Flight Duration in Hours\n",
        "* **tot_hour_diff** - Time in hours between the ticket purchase and the departure time.\n",
        "* **Day** - The day on which ticket was booked\n",
        "* **Month** - The month in which ticket was booked.\n",
        "* **Year** - The year in which ticket was booked."
      ]
    },
    {
      "cell_type": "code",
      "execution_count": 21,
      "metadata": {
        "id": "8KpF6urN1AaR",
        "vscode": {
          "languageId": "python"
        }
      },
      "outputs": [],
      "source": [
        "# create a column with timedelta as flight_duration_minutes, as a float type\n",
        "df[\"flight_duration_minutes\"] = (df[\"f5\"] - df[\"f4\"])/ pd.Timedelta(minutes=1)\n",
        "\n",
        "# create a column with timedelta as flight_duration_hours, as a float type\n",
        "df[\"flight_duration_hours\"] = (df[\"f5\"] - df[\"f4\"])/ pd.Timedelta(hours=1)\n",
        "# create a column with timedelta as total hours, as a float type\n",
        "df['tot_hour_diff'] = (df[\"f4\"] - df[\"f1\"])/ pd.Timedelta(hours=1)\n"
      ]
    },
    {
      "cell_type": "code",
      "execution_count": 22,
      "metadata": {
        "colab": {
          "base_uri": "https://localhost:8080/",
          "height": 356
        },
        "id": "iKZSNFENJoCg",
        "outputId": "e969310a-9240-4af2-a7fb-e6ce53f2daa8",
        "vscode": {
          "languageId": "python"
        }
      },
      "outputs": [
        {
          "data": {
            "text/html": [
              "\n",
              "  <div id=\"df-235ff02e-7b9f-4855-95b0-19606ab3ae95\">\n",
              "    <div class=\"colab-df-container\">\n",
              "      <div>\n",
              "<style scoped>\n",
              "    .dataframe tbody tr th:only-of-type {\n",
              "        vertical-align: middle;\n",
              "    }\n",
              "\n",
              "    .dataframe tbody tr th {\n",
              "        vertical-align: top;\n",
              "    }\n",
              "\n",
              "    .dataframe thead th {\n",
              "        text-align: right;\n",
              "    }\n",
              "</style>\n",
              "<table border=\"1\" class=\"dataframe\">\n",
              "  <thead>\n",
              "    <tr style=\"text-align: right;\">\n",
              "      <th></th>\n",
              "      <th>f1</th>\n",
              "      <th>f2</th>\n",
              "      <th>f3</th>\n",
              "      <th>f4</th>\n",
              "      <th>f5</th>\n",
              "      <th>f6</th>\n",
              "      <th>f7</th>\n",
              "      <th>f8</th>\n",
              "      <th>f9</th>\n",
              "      <th>f10</th>\n",
              "      <th>target</th>\n",
              "      <th>flight_duration_minutes</th>\n",
              "      <th>flight_duration_hours</th>\n",
              "      <th>tot_hour_diff</th>\n",
              "      <th>Day</th>\n",
              "      <th>Month</th>\n",
              "      <th>Year</th>\n",
              "    </tr>\n",
              "  </thead>\n",
              "  <tbody>\n",
              "    <tr>\n",
              "      <th>450565</th>\n",
              "      <td>2021-01-13 16:21:49.307446+00:00</td>\n",
              "      <td>x</td>\n",
              "      <td>y</td>\n",
              "      <td>2021-01-16 16:00:00+00:00</td>\n",
              "      <td>2021-01-16 18:10:00+00:00</td>\n",
              "      <td>alpha</td>\n",
              "      <td>True</td>\n",
              "      <td>20.0</td>\n",
              "      <td>1</td>\n",
              "      <td>a-7</td>\n",
              "      <td>10227.0</td>\n",
              "      <td>130.0</td>\n",
              "      <td>2.166667</td>\n",
              "      <td>71.636303</td>\n",
              "      <td>13</td>\n",
              "      <td>1</td>\n",
              "      <td>2021</td>\n",
              "    </tr>\n",
              "    <tr>\n",
              "      <th>5401245</th>\n",
              "      <td>2021-04-24 06:38:37.112156+00:00</td>\n",
              "      <td>x</td>\n",
              "      <td>y</td>\n",
              "      <td>2021-06-05 17:00:00+00:00</td>\n",
              "      <td>2021-06-05 18:59:00+00:00</td>\n",
              "      <td>gamma</td>\n",
              "      <td>True</td>\n",
              "      <td>20.0</td>\n",
              "      <td>1</td>\n",
              "      <td>c-6</td>\n",
              "      <td>8650.0</td>\n",
              "      <td>119.0</td>\n",
              "      <td>1.983333</td>\n",
              "      <td>1018.356358</td>\n",
              "      <td>24</td>\n",
              "      <td>4</td>\n",
              "      <td>2021</td>\n",
              "    </tr>\n",
              "    <tr>\n",
              "      <th>12610261</th>\n",
              "      <td>2021-07-03 19:25:35.675820+00:00</td>\n",
              "      <td>x</td>\n",
              "      <td>y</td>\n",
              "      <td>2021-07-13 14:00:00+00:00</td>\n",
              "      <td>2021-07-13 16:00:00+00:00</td>\n",
              "      <td>gamma</td>\n",
              "      <td>True</td>\n",
              "      <td>20.0</td>\n",
              "      <td>2</td>\n",
              "      <td>c-4</td>\n",
              "      <td>12545.0</td>\n",
              "      <td>120.0</td>\n",
              "      <td>2.000000</td>\n",
              "      <td>234.573423</td>\n",
              "      <td>3</td>\n",
              "      <td>7</td>\n",
              "      <td>2021</td>\n",
              "    </tr>\n",
              "    <tr>\n",
              "      <th>2366189</th>\n",
              "      <td>2021-03-01 05:28:36.639977+00:00</td>\n",
              "      <td>x</td>\n",
              "      <td>y</td>\n",
              "      <td>2021-03-16 16:00:00+00:00</td>\n",
              "      <td>2021-03-16 18:10:00+00:00</td>\n",
              "      <td>alpha</td>\n",
              "      <td>True</td>\n",
              "      <td>35.0</td>\n",
              "      <td>1</td>\n",
              "      <td>a-7</td>\n",
              "      <td>8027.0</td>\n",
              "      <td>130.0</td>\n",
              "      <td>2.166667</td>\n",
              "      <td>370.523156</td>\n",
              "      <td>1</td>\n",
              "      <td>3</td>\n",
              "      <td>2021</td>\n",
              "    </tr>\n",
              "    <tr>\n",
              "      <th>9285149</th>\n",
              "      <td>2021-06-10 09:03:56.421749+00:00</td>\n",
              "      <td>x</td>\n",
              "      <td>y</td>\n",
              "      <td>2021-06-21 17:00:00+00:00</td>\n",
              "      <td>2021-06-21 18:59:00+00:00</td>\n",
              "      <td>gamma</td>\n",
              "      <td>True</td>\n",
              "      <td>20.0</td>\n",
              "      <td>1</td>\n",
              "      <td>c-6</td>\n",
              "      <td>10900.0</td>\n",
              "      <td>119.0</td>\n",
              "      <td>1.983333</td>\n",
              "      <td>271.934327</td>\n",
              "      <td>10</td>\n",
              "      <td>6</td>\n",
              "      <td>2021</td>\n",
              "    </tr>\n",
              "  </tbody>\n",
              "</table>\n",
              "</div>\n",
              "      <button class=\"colab-df-convert\" onclick=\"convertToInteractive('df-235ff02e-7b9f-4855-95b0-19606ab3ae95')\"\n",
              "              title=\"Convert this dataframe to an interactive table.\"\n",
              "              style=\"display:none;\">\n",
              "        \n",
              "  <svg xmlns=\"http://www.w3.org/2000/svg\" height=\"24px\"viewBox=\"0 0 24 24\"\n",
              "       width=\"24px\">\n",
              "    <path d=\"M0 0h24v24H0V0z\" fill=\"none\"/>\n",
              "    <path d=\"M18.56 5.44l.94 2.06.94-2.06 2.06-.94-2.06-.94-.94-2.06-.94 2.06-2.06.94zm-11 1L8.5 8.5l.94-2.06 2.06-.94-2.06-.94L8.5 2.5l-.94 2.06-2.06.94zm10 10l.94 2.06.94-2.06 2.06-.94-2.06-.94-.94-2.06-.94 2.06-2.06.94z\"/><path d=\"M17.41 7.96l-1.37-1.37c-.4-.4-.92-.59-1.43-.59-.52 0-1.04.2-1.43.59L10.3 9.45l-7.72 7.72c-.78.78-.78 2.05 0 2.83L4 21.41c.39.39.9.59 1.41.59.51 0 1.02-.2 1.41-.59l7.78-7.78 2.81-2.81c.8-.78.8-2.07 0-2.86zM5.41 20L4 18.59l7.72-7.72 1.47 1.35L5.41 20z\"/>\n",
              "  </svg>\n",
              "      </button>\n",
              "      \n",
              "  <style>\n",
              "    .colab-df-container {\n",
              "      display:flex;\n",
              "      flex-wrap:wrap;\n",
              "      gap: 12px;\n",
              "    }\n",
              "\n",
              "    .colab-df-convert {\n",
              "      background-color: #E8F0FE;\n",
              "      border: none;\n",
              "      border-radius: 50%;\n",
              "      cursor: pointer;\n",
              "      display: none;\n",
              "      fill: #1967D2;\n",
              "      height: 32px;\n",
              "      padding: 0 0 0 0;\n",
              "      width: 32px;\n",
              "    }\n",
              "\n",
              "    .colab-df-convert:hover {\n",
              "      background-color: #E2EBFA;\n",
              "      box-shadow: 0px 1px 2px rgba(60, 64, 67, 0.3), 0px 1px 3px 1px rgba(60, 64, 67, 0.15);\n",
              "      fill: #174EA6;\n",
              "    }\n",
              "\n",
              "    [theme=dark] .colab-df-convert {\n",
              "      background-color: #3B4455;\n",
              "      fill: #D2E3FC;\n",
              "    }\n",
              "\n",
              "    [theme=dark] .colab-df-convert:hover {\n",
              "      background-color: #434B5C;\n",
              "      box-shadow: 0px 1px 3px 1px rgba(0, 0, 0, 0.15);\n",
              "      filter: drop-shadow(0px 1px 2px rgba(0, 0, 0, 0.3));\n",
              "      fill: #FFFFFF;\n",
              "    }\n",
              "  </style>\n",
              "\n",
              "      <script>\n",
              "        const buttonEl =\n",
              "          document.querySelector('#df-235ff02e-7b9f-4855-95b0-19606ab3ae95 button.colab-df-convert');\n",
              "        buttonEl.style.display =\n",
              "          google.colab.kernel.accessAllowed ? 'block' : 'none';\n",
              "\n",
              "        async function convertToInteractive(key) {\n",
              "          const element = document.querySelector('#df-235ff02e-7b9f-4855-95b0-19606ab3ae95');\n",
              "          const dataTable =\n",
              "            await google.colab.kernel.invokeFunction('convertToInteractive',\n",
              "                                                     [key], {});\n",
              "          if (!dataTable) return;\n",
              "\n",
              "          const docLinkHtml = 'Like what you see? Visit the ' +\n",
              "            '<a target=\"_blank\" href=https://colab.research.google.com/notebooks/data_table.ipynb>data table notebook</a>'\n",
              "            + ' to learn more about interactive tables.';\n",
              "          element.innerHTML = '';\n",
              "          dataTable['output_type'] = 'display_data';\n",
              "          await google.colab.output.renderOutput(dataTable, element);\n",
              "          const docLink = document.createElement('div');\n",
              "          docLink.innerHTML = docLinkHtml;\n",
              "          element.appendChild(docLink);\n",
              "        }\n",
              "      </script>\n",
              "    </div>\n",
              "  </div>\n",
              "  "
            ],
            "text/plain": [
              "                                       f1 f2 f3                        f4  \\\n",
              "450565   2021-01-13 16:21:49.307446+00:00  x  y 2021-01-16 16:00:00+00:00   \n",
              "5401245  2021-04-24 06:38:37.112156+00:00  x  y 2021-06-05 17:00:00+00:00   \n",
              "12610261 2021-07-03 19:25:35.675820+00:00  x  y 2021-07-13 14:00:00+00:00   \n",
              "2366189  2021-03-01 05:28:36.639977+00:00  x  y 2021-03-16 16:00:00+00:00   \n",
              "9285149  2021-06-10 09:03:56.421749+00:00  x  y 2021-06-21 17:00:00+00:00   \n",
              "\n",
              "                                f5     f6    f7    f8  f9  f10   target  \\\n",
              "450565   2021-01-16 18:10:00+00:00  alpha  True  20.0   1  a-7  10227.0   \n",
              "5401245  2021-06-05 18:59:00+00:00  gamma  True  20.0   1  c-6   8650.0   \n",
              "12610261 2021-07-13 16:00:00+00:00  gamma  True  20.0   2  c-4  12545.0   \n",
              "2366189  2021-03-16 18:10:00+00:00  alpha  True  35.0   1  a-7   8027.0   \n",
              "9285149  2021-06-21 18:59:00+00:00  gamma  True  20.0   1  c-6  10900.0   \n",
              "\n",
              "          flight_duration_minutes  flight_duration_hours  tot_hour_diff  Day  \\\n",
              "450565                      130.0               2.166667      71.636303   13   \n",
              "5401245                     119.0               1.983333    1018.356358   24   \n",
              "12610261                    120.0               2.000000     234.573423    3   \n",
              "2366189                     130.0               2.166667     370.523156    1   \n",
              "9285149                     119.0               1.983333     271.934327   10   \n",
              "\n",
              "          Month  Year  \n",
              "450565        1  2021  \n",
              "5401245       4  2021  \n",
              "12610261      7  2021  \n",
              "2366189       3  2021  \n",
              "9285149       6  2021  "
            ]
          },
          "execution_count": 22,
          "metadata": {},
          "output_type": "execute_result"
        }
      ],
      "source": [
        "#Create the day,month,year column from f1\n",
        "df[\"Day\"] = df[\"f1\"].dt.day\n",
        "df[\"Month\"] = df[\"f1\"].dt.month\n",
        "df[\"Year\"] = df[\"f1\"].dt.year\n",
        "\n",
        "df.head()"
      ]
    },
    {
      "cell_type": "markdown",
      "metadata": {
        "id": "zf-JPIIZ1Aiq"
      },
      "source": [
        "***Now there will be no use of f1,f4,f5 columns so we drop them***"
      ]
    },
    {
      "cell_type": "code",
      "execution_count": 23,
      "metadata": {
        "id": "DhhrynwF1Asr",
        "vscode": {
          "languageId": "python"
        }
      },
      "outputs": [],
      "source": [
        "# Removing the columns f1,f4,f5 and updating the dataframe df\n",
        "df = df.drop(['f1', 'f4', 'f5'], axis = 1)"
      ]
    },
    {
      "cell_type": "code",
      "execution_count": 24,
      "metadata": {
        "colab": {
          "base_uri": "https://localhost:8080/",
          "height": 364
        },
        "id": "VNz1xEC11BFF",
        "outputId": "c6c53319-8bca-4e95-f0c0-92028a94d9ce",
        "vscode": {
          "languageId": "python"
        }
      },
      "outputs": [
        {
          "data": {
            "text/html": [
              "\n",
              "  <div id=\"df-556532e8-7bdb-4722-930f-3308d964102f\">\n",
              "    <div class=\"colab-df-container\">\n",
              "      <div>\n",
              "<style scoped>\n",
              "    .dataframe tbody tr th:only-of-type {\n",
              "        vertical-align: middle;\n",
              "    }\n",
              "\n",
              "    .dataframe tbody tr th {\n",
              "        vertical-align: top;\n",
              "    }\n",
              "\n",
              "    .dataframe thead th {\n",
              "        text-align: right;\n",
              "    }\n",
              "</style>\n",
              "<table border=\"1\" class=\"dataframe\">\n",
              "  <thead>\n",
              "    <tr style=\"text-align: right;\">\n",
              "      <th></th>\n",
              "      <th>f8</th>\n",
              "      <th>f9</th>\n",
              "      <th>target</th>\n",
              "      <th>flight_duration_minutes</th>\n",
              "      <th>flight_duration_hours</th>\n",
              "      <th>tot_hour_diff</th>\n",
              "      <th>Day</th>\n",
              "      <th>Month</th>\n",
              "      <th>Year</th>\n",
              "    </tr>\n",
              "  </thead>\n",
              "  <tbody>\n",
              "    <tr>\n",
              "      <th>count</th>\n",
              "      <td>300000.000000</td>\n",
              "      <td>300000.000000</td>\n",
              "      <td>300000.000000</td>\n",
              "      <td>300000.000000</td>\n",
              "      <td>300000.000000</td>\n",
              "      <td>300000.000000</td>\n",
              "      <td>300000.000000</td>\n",
              "      <td>300000.000000</td>\n",
              "      <td>300000.000000</td>\n",
              "    </tr>\n",
              "    <tr>\n",
              "      <th>mean</th>\n",
              "      <td>22.618753</td>\n",
              "      <td>0.949163</td>\n",
              "      <td>10155.474680</td>\n",
              "      <td>119.317243</td>\n",
              "      <td>1.988621</td>\n",
              "      <td>371.569973</td>\n",
              "      <td>15.969893</td>\n",
              "      <td>5.686507</td>\n",
              "      <td>2020.998990</td>\n",
              "    </tr>\n",
              "    <tr>\n",
              "      <th>std</th>\n",
              "      <td>8.882231</td>\n",
              "      <td>0.607739</td>\n",
              "      <td>3459.314803</td>\n",
              "      <td>2.945792</td>\n",
              "      <td>0.049097</td>\n",
              "      <td>458.251083</td>\n",
              "      <td>8.753982</td>\n",
              "      <td>2.102476</td>\n",
              "      <td>0.031764</td>\n",
              "    </tr>\n",
              "    <tr>\n",
              "      <th>min</th>\n",
              "      <td>0.000000</td>\n",
              "      <td>0.000000</td>\n",
              "      <td>0.000000</td>\n",
              "      <td>55.000000</td>\n",
              "      <td>0.916667</td>\n",
              "      <td>0.008156</td>\n",
              "      <td>1.000000</td>\n",
              "      <td>1.000000</td>\n",
              "      <td>2020.000000</td>\n",
              "    </tr>\n",
              "    <tr>\n",
              "      <th>25%</th>\n",
              "      <td>20.000000</td>\n",
              "      <td>1.000000</td>\n",
              "      <td>7870.000000</td>\n",
              "      <td>119.000000</td>\n",
              "      <td>1.983333</td>\n",
              "      <td>95.585085</td>\n",
              "      <td>9.000000</td>\n",
              "      <td>4.000000</td>\n",
              "      <td>2021.000000</td>\n",
              "    </tr>\n",
              "    <tr>\n",
              "      <th>50%</th>\n",
              "      <td>20.000000</td>\n",
              "      <td>1.000000</td>\n",
              "      <td>9403.000000</td>\n",
              "      <td>120.000000</td>\n",
              "      <td>2.000000</td>\n",
              "      <td>238.104156</td>\n",
              "      <td>16.000000</td>\n",
              "      <td>6.000000</td>\n",
              "      <td>2021.000000</td>\n",
              "    </tr>\n",
              "    <tr>\n",
              "      <th>75%</th>\n",
              "      <td>32.000000</td>\n",
              "      <td>1.000000</td>\n",
              "      <td>11245.000000</td>\n",
              "      <td>120.000000</td>\n",
              "      <td>2.000000</td>\n",
              "      <td>477.943975</td>\n",
              "      <td>23.000000</td>\n",
              "      <td>7.000000</td>\n",
              "      <td>2021.000000</td>\n",
              "    </tr>\n",
              "    <tr>\n",
              "      <th>max</th>\n",
              "      <td>45.000000</td>\n",
              "      <td>2.000000</td>\n",
              "      <td>35000.000000</td>\n",
              "      <td>300.000000</td>\n",
              "      <td>5.000000</td>\n",
              "      <td>7842.538846</td>\n",
              "      <td>31.000000</td>\n",
              "      <td>12.000000</td>\n",
              "      <td>2021.000000</td>\n",
              "    </tr>\n",
              "  </tbody>\n",
              "</table>\n",
              "</div>\n",
              "      <button class=\"colab-df-convert\" onclick=\"convertToInteractive('df-556532e8-7bdb-4722-930f-3308d964102f')\"\n",
              "              title=\"Convert this dataframe to an interactive table.\"\n",
              "              style=\"display:none;\">\n",
              "        \n",
              "  <svg xmlns=\"http://www.w3.org/2000/svg\" height=\"24px\"viewBox=\"0 0 24 24\"\n",
              "       width=\"24px\">\n",
              "    <path d=\"M0 0h24v24H0V0z\" fill=\"none\"/>\n",
              "    <path d=\"M18.56 5.44l.94 2.06.94-2.06 2.06-.94-2.06-.94-.94-2.06-.94 2.06-2.06.94zm-11 1L8.5 8.5l.94-2.06 2.06-.94-2.06-.94L8.5 2.5l-.94 2.06-2.06.94zm10 10l.94 2.06.94-2.06 2.06-.94-2.06-.94-.94-2.06-.94 2.06-2.06.94z\"/><path d=\"M17.41 7.96l-1.37-1.37c-.4-.4-.92-.59-1.43-.59-.52 0-1.04.2-1.43.59L10.3 9.45l-7.72 7.72c-.78.78-.78 2.05 0 2.83L4 21.41c.39.39.9.59 1.41.59.51 0 1.02-.2 1.41-.59l7.78-7.78 2.81-2.81c.8-.78.8-2.07 0-2.86zM5.41 20L4 18.59l7.72-7.72 1.47 1.35L5.41 20z\"/>\n",
              "  </svg>\n",
              "      </button>\n",
              "      \n",
              "  <style>\n",
              "    .colab-df-container {\n",
              "      display:flex;\n",
              "      flex-wrap:wrap;\n",
              "      gap: 12px;\n",
              "    }\n",
              "\n",
              "    .colab-df-convert {\n",
              "      background-color: #E8F0FE;\n",
              "      border: none;\n",
              "      border-radius: 50%;\n",
              "      cursor: pointer;\n",
              "      display: none;\n",
              "      fill: #1967D2;\n",
              "      height: 32px;\n",
              "      padding: 0 0 0 0;\n",
              "      width: 32px;\n",
              "    }\n",
              "\n",
              "    .colab-df-convert:hover {\n",
              "      background-color: #E2EBFA;\n",
              "      box-shadow: 0px 1px 2px rgba(60, 64, 67, 0.3), 0px 1px 3px 1px rgba(60, 64, 67, 0.15);\n",
              "      fill: #174EA6;\n",
              "    }\n",
              "\n",
              "    [theme=dark] .colab-df-convert {\n",
              "      background-color: #3B4455;\n",
              "      fill: #D2E3FC;\n",
              "    }\n",
              "\n",
              "    [theme=dark] .colab-df-convert:hover {\n",
              "      background-color: #434B5C;\n",
              "      box-shadow: 0px 1px 3px 1px rgba(0, 0, 0, 0.15);\n",
              "      filter: drop-shadow(0px 1px 2px rgba(0, 0, 0, 0.3));\n",
              "      fill: #FFFFFF;\n",
              "    }\n",
              "  </style>\n",
              "\n",
              "      <script>\n",
              "        const buttonEl =\n",
              "          document.querySelector('#df-556532e8-7bdb-4722-930f-3308d964102f button.colab-df-convert');\n",
              "        buttonEl.style.display =\n",
              "          google.colab.kernel.accessAllowed ? 'block' : 'none';\n",
              "\n",
              "        async function convertToInteractive(key) {\n",
              "          const element = document.querySelector('#df-556532e8-7bdb-4722-930f-3308d964102f');\n",
              "          const dataTable =\n",
              "            await google.colab.kernel.invokeFunction('convertToInteractive',\n",
              "                                                     [key], {});\n",
              "          if (!dataTable) return;\n",
              "\n",
              "          const docLinkHtml = 'Like what you see? Visit the ' +\n",
              "            '<a target=\"_blank\" href=https://colab.research.google.com/notebooks/data_table.ipynb>data table notebook</a>'\n",
              "            + ' to learn more about interactive tables.';\n",
              "          element.innerHTML = '';\n",
              "          dataTable['output_type'] = 'display_data';\n",
              "          await google.colab.output.renderOutput(dataTable, element);\n",
              "          const docLink = document.createElement('div');\n",
              "          docLink.innerHTML = docLinkHtml;\n",
              "          element.appendChild(docLink);\n",
              "        }\n",
              "      </script>\n",
              "    </div>\n",
              "  </div>\n",
              "  "
            ],
            "text/plain": [
              "                  f8             f9         target  flight_duration_minutes  \\\n",
              "count  300000.000000  300000.000000  300000.000000            300000.000000   \n",
              "mean       22.618753       0.949163   10155.474680               119.317243   \n",
              "std         8.882231       0.607739    3459.314803                 2.945792   \n",
              "min         0.000000       0.000000       0.000000                55.000000   \n",
              "25%        20.000000       1.000000    7870.000000               119.000000   \n",
              "50%        20.000000       1.000000    9403.000000               120.000000   \n",
              "75%        32.000000       1.000000   11245.000000               120.000000   \n",
              "max        45.000000       2.000000   35000.000000               300.000000   \n",
              "\n",
              "       flight_duration_hours  tot_hour_diff            Day          Month  \\\n",
              "count          300000.000000  300000.000000  300000.000000  300000.000000   \n",
              "mean                1.988621     371.569973      15.969893       5.686507   \n",
              "std                 0.049097     458.251083       8.753982       2.102476   \n",
              "min                 0.916667       0.008156       1.000000       1.000000   \n",
              "25%                 1.983333      95.585085       9.000000       4.000000   \n",
              "50%                 2.000000     238.104156      16.000000       6.000000   \n",
              "75%                 2.000000     477.943975      23.000000       7.000000   \n",
              "max                 5.000000    7842.538846      31.000000      12.000000   \n",
              "\n",
              "                Year  \n",
              "count  300000.000000  \n",
              "mean     2020.998990  \n",
              "std         0.031764  \n",
              "min      2020.000000  \n",
              "25%      2021.000000  \n",
              "50%      2021.000000  \n",
              "75%      2021.000000  \n",
              "max      2021.000000  "
            ]
          },
          "execution_count": 24,
          "metadata": {},
          "output_type": "execute_result"
        }
      ],
      "source": [
        "df.describe()"
      ]
    },
    {
      "cell_type": "markdown",
      "metadata": {
        "id": "hjGpdWbJ1BZ3"
      },
      "source": [
        "***Finding the categorical data***"
      ]
    },
    {
      "cell_type": "code",
      "execution_count": 25,
      "metadata": {
        "colab": {
          "base_uri": "https://localhost:8080/"
        },
        "id": "R1UsRx5x1Bqy",
        "outputId": "faa1ba58-1657-4907-ae74-2725310304ca",
        "vscode": {
          "languageId": "python"
        }
      },
      "outputs": [
        {
          "data": {
            "text/plain": [
              "['f2', 'f3', 'f6', 'f7', 'f10']"
            ]
          },
          "execution_count": 25,
          "metadata": {},
          "output_type": "execute_result"
        }
      ],
      "source": [
        "categorical_columns=[column for column in df.columns if df[column].dtype=='object' or df[column].dtype=='bool']\n",
        "categorical_columns"
      ]
    },
    {
      "cell_type": "markdown",
      "metadata": {
        "id": "9L4ChxsJ1CDm"
      },
      "source": [
        "***Finding the continuous or numerical data***"
      ]
    },
    {
      "cell_type": "code",
      "execution_count": 26,
      "metadata": {
        "colab": {
          "base_uri": "https://localhost:8080/"
        },
        "id": "6omliEnj1CQS",
        "outputId": "0a5c46da-b6ec-483f-b0cf-0644ba2fcd5c",
        "vscode": {
          "languageId": "python"
        }
      },
      "outputs": [
        {
          "data": {
            "text/plain": [
              "['f7',\n",
              " 'f8',\n",
              " 'f9',\n",
              " 'target',\n",
              " 'flight_duration_minutes',\n",
              " 'flight_duration_hours',\n",
              " 'tot_hour_diff',\n",
              " 'Day',\n",
              " 'Month',\n",
              " 'Year']"
            ]
          },
          "execution_count": 26,
          "metadata": {},
          "output_type": "execute_result"
        }
      ],
      "source": [
        "continuous_col =[column for column in df.columns if df[column].dtype!='object']\n",
        "continuous_col"
      ]
    },
    {
      "cell_type": "markdown",
      "metadata": {
        "id": "1uiJ_uy01Ccp"
      },
      "source": [
        "## Handling the categorical data\n",
        "We have to handle the categorical data by using different techniques"
      ]
    },
    {
      "cell_type": "code",
      "execution_count": 27,
      "metadata": {
        "colab": {
          "base_uri": "https://localhost:8080/",
          "height": 206
        },
        "id": "cMpVY8_JQlua",
        "outputId": "3c78f886-8780-4934-da46-c83e6df0f6e3",
        "vscode": {
          "languageId": "python"
        }
      },
      "outputs": [
        {
          "data": {
            "text/html": [
              "\n",
              "  <div id=\"df-6743401f-916d-4d4a-809b-b50d4940a106\">\n",
              "    <div class=\"colab-df-container\">\n",
              "      <div>\n",
              "<style scoped>\n",
              "    .dataframe tbody tr th:only-of-type {\n",
              "        vertical-align: middle;\n",
              "    }\n",
              "\n",
              "    .dataframe tbody tr th {\n",
              "        vertical-align: top;\n",
              "    }\n",
              "\n",
              "    .dataframe thead th {\n",
              "        text-align: right;\n",
              "    }\n",
              "</style>\n",
              "<table border=\"1\" class=\"dataframe\">\n",
              "  <thead>\n",
              "    <tr style=\"text-align: right;\">\n",
              "      <th></th>\n",
              "      <th>f2</th>\n",
              "      <th>f3</th>\n",
              "      <th>f6</th>\n",
              "      <th>f7</th>\n",
              "      <th>f10</th>\n",
              "    </tr>\n",
              "  </thead>\n",
              "  <tbody>\n",
              "    <tr>\n",
              "      <th>450565</th>\n",
              "      <td>x</td>\n",
              "      <td>y</td>\n",
              "      <td>alpha</td>\n",
              "      <td>True</td>\n",
              "      <td>a-7</td>\n",
              "    </tr>\n",
              "    <tr>\n",
              "      <th>5401245</th>\n",
              "      <td>x</td>\n",
              "      <td>y</td>\n",
              "      <td>gamma</td>\n",
              "      <td>True</td>\n",
              "      <td>c-6</td>\n",
              "    </tr>\n",
              "    <tr>\n",
              "      <th>12610261</th>\n",
              "      <td>x</td>\n",
              "      <td>y</td>\n",
              "      <td>gamma</td>\n",
              "      <td>True</td>\n",
              "      <td>c-4</td>\n",
              "    </tr>\n",
              "    <tr>\n",
              "      <th>2366189</th>\n",
              "      <td>x</td>\n",
              "      <td>y</td>\n",
              "      <td>alpha</td>\n",
              "      <td>True</td>\n",
              "      <td>a-7</td>\n",
              "    </tr>\n",
              "    <tr>\n",
              "      <th>9285149</th>\n",
              "      <td>x</td>\n",
              "      <td>y</td>\n",
              "      <td>gamma</td>\n",
              "      <td>True</td>\n",
              "      <td>c-6</td>\n",
              "    </tr>\n",
              "  </tbody>\n",
              "</table>\n",
              "</div>\n",
              "      <button class=\"colab-df-convert\" onclick=\"convertToInteractive('df-6743401f-916d-4d4a-809b-b50d4940a106')\"\n",
              "              title=\"Convert this dataframe to an interactive table.\"\n",
              "              style=\"display:none;\">\n",
              "        \n",
              "  <svg xmlns=\"http://www.w3.org/2000/svg\" height=\"24px\"viewBox=\"0 0 24 24\"\n",
              "       width=\"24px\">\n",
              "    <path d=\"M0 0h24v24H0V0z\" fill=\"none\"/>\n",
              "    <path d=\"M18.56 5.44l.94 2.06.94-2.06 2.06-.94-2.06-.94-.94-2.06-.94 2.06-2.06.94zm-11 1L8.5 8.5l.94-2.06 2.06-.94-2.06-.94L8.5 2.5l-.94 2.06-2.06.94zm10 10l.94 2.06.94-2.06 2.06-.94-2.06-.94-.94-2.06-.94 2.06-2.06.94z\"/><path d=\"M17.41 7.96l-1.37-1.37c-.4-.4-.92-.59-1.43-.59-.52 0-1.04.2-1.43.59L10.3 9.45l-7.72 7.72c-.78.78-.78 2.05 0 2.83L4 21.41c.39.39.9.59 1.41.59.51 0 1.02-.2 1.41-.59l7.78-7.78 2.81-2.81c.8-.78.8-2.07 0-2.86zM5.41 20L4 18.59l7.72-7.72 1.47 1.35L5.41 20z\"/>\n",
              "  </svg>\n",
              "      </button>\n",
              "      \n",
              "  <style>\n",
              "    .colab-df-container {\n",
              "      display:flex;\n",
              "      flex-wrap:wrap;\n",
              "      gap: 12px;\n",
              "    }\n",
              "\n",
              "    .colab-df-convert {\n",
              "      background-color: #E8F0FE;\n",
              "      border: none;\n",
              "      border-radius: 50%;\n",
              "      cursor: pointer;\n",
              "      display: none;\n",
              "      fill: #1967D2;\n",
              "      height: 32px;\n",
              "      padding: 0 0 0 0;\n",
              "      width: 32px;\n",
              "    }\n",
              "\n",
              "    .colab-df-convert:hover {\n",
              "      background-color: #E2EBFA;\n",
              "      box-shadow: 0px 1px 2px rgba(60, 64, 67, 0.3), 0px 1px 3px 1px rgba(60, 64, 67, 0.15);\n",
              "      fill: #174EA6;\n",
              "    }\n",
              "\n",
              "    [theme=dark] .colab-df-convert {\n",
              "      background-color: #3B4455;\n",
              "      fill: #D2E3FC;\n",
              "    }\n",
              "\n",
              "    [theme=dark] .colab-df-convert:hover {\n",
              "      background-color: #434B5C;\n",
              "      box-shadow: 0px 1px 3px 1px rgba(0, 0, 0, 0.15);\n",
              "      filter: drop-shadow(0px 1px 2px rgba(0, 0, 0, 0.3));\n",
              "      fill: #FFFFFF;\n",
              "    }\n",
              "  </style>\n",
              "\n",
              "      <script>\n",
              "        const buttonEl =\n",
              "          document.querySelector('#df-6743401f-916d-4d4a-809b-b50d4940a106 button.colab-df-convert');\n",
              "        buttonEl.style.display =\n",
              "          google.colab.kernel.accessAllowed ? 'block' : 'none';\n",
              "\n",
              "        async function convertToInteractive(key) {\n",
              "          const element = document.querySelector('#df-6743401f-916d-4d4a-809b-b50d4940a106');\n",
              "          const dataTable =\n",
              "            await google.colab.kernel.invokeFunction('convertToInteractive',\n",
              "                                                     [key], {});\n",
              "          if (!dataTable) return;\n",
              "\n",
              "          const docLinkHtml = 'Like what you see? Visit the ' +\n",
              "            '<a target=\"_blank\" href=https://colab.research.google.com/notebooks/data_table.ipynb>data table notebook</a>'\n",
              "            + ' to learn more about interactive tables.';\n",
              "          element.innerHTML = '';\n",
              "          dataTable['output_type'] = 'display_data';\n",
              "          await google.colab.output.renderOutput(dataTable, element);\n",
              "          const docLink = document.createElement('div');\n",
              "          docLink.innerHTML = docLinkHtml;\n",
              "          element.appendChild(docLink);\n",
              "        }\n",
              "      </script>\n",
              "    </div>\n",
              "  </div>\n",
              "  "
            ],
            "text/plain": [
              "         f2 f3     f6    f7  f10\n",
              "450565    x  y  alpha  True  a-7\n",
              "5401245   x  y  gamma  True  c-6\n",
              "12610261  x  y  gamma  True  c-4\n",
              "2366189   x  y  alpha  True  a-7\n",
              "9285149   x  y  gamma  True  c-6"
            ]
          },
          "execution_count": 27,
          "metadata": {},
          "output_type": "execute_result"
        }
      ],
      "source": [
        "categorical_columns = df[categorical_columns]\n",
        "categorical_columns.head()"
      ]
    },
    {
      "cell_type": "code",
      "execution_count": 28,
      "metadata": {
        "colab": {
          "base_uri": "https://localhost:8080/"
        },
        "id": "_72Ci8IaQl5F",
        "outputId": "2dd2d75c-d4c0-4fc4-bb8e-39721ed667d1",
        "vscode": {
          "languageId": "python"
        }
      },
      "outputs": [
        {
          "data": {
            "text/plain": [
              "x    300000\n",
              "Name: f2, dtype: int64"
            ]
          },
          "execution_count": 28,
          "metadata": {},
          "output_type": "execute_result"
        }
      ],
      "source": [
        "categorical_columns[\"f2\"].value_counts()"
      ]
    },
    {
      "cell_type": "markdown",
      "metadata": {
        "id": "R7Ls1_EzQmQP"
      },
      "source": [
        "### Finding the impact of categorical columns on the Fare Price(target)"
      ]
    },
    {
      "cell_type": "markdown",
      "metadata": {
        "id": "r3k_v9jOQmZ0"
      },
      "source": [
        "***f2(Origin) vs Fare Price(target) Analysis***"
      ]
    },
    {
      "cell_type": "code",
      "execution_count": 29,
      "metadata": {
        "colab": {
          "base_uri": "https://localhost:8080/",
          "height": 514
        },
        "id": "mNtVbzBiQmkY",
        "outputId": "ac72cb77-d7c3-408b-df6a-353e4db75edc",
        "vscode": {
          "languageId": "python"
        }
      },
      "outputs": [
        {
          "data": {
            "text/plain": [
              "<matplotlib.axes._subplots.AxesSubplot at 0x7fb62f1b4fd0>"
            ]
          },
          "execution_count": 29,
          "metadata": {},
          "output_type": "execute_result"
        },
        {
          "data": {
            "image/png": "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",
            "text/plain": [
              "<Figure size 1080x576 with 1 Axes>"
            ]
          },
          "metadata": {
            "needs_background": "light"
          },
          "output_type": "display_data"
        }
      ],
      "source": [
        "plt.figure(figsize=(15,8))\n",
        "sns.boxplot(x='f2',y='target',data=df.sort_values('target',ascending=False))"
      ]
    },
    {
      "cell_type": "markdown",
      "metadata": {
        "id": "9wwNfeUOQmyT"
      },
      "source": [
        "From graph we can see that f2 have same value for all the records and it does not have the impact on the target variable."
      ]
    },
    {
      "cell_type": "markdown",
      "metadata": {
        "id": "WS4MWUfhQnHV"
      },
      "source": [
        "***f3(Destination) vs Fare Price(target) Analysis***"
      ]
    },
    {
      "cell_type": "code",
      "execution_count": 30,
      "metadata": {
        "colab": {
          "base_uri": "https://localhost:8080/",
          "height": 514
        },
        "id": "rY_vJ4oDQnSh",
        "outputId": "c72c4675-6815-4626-8bb2-ed334b794066",
        "vscode": {
          "languageId": "python"
        }
      },
      "outputs": [
        {
          "data": {
            "text/plain": [
              "<matplotlib.axes._subplots.AxesSubplot at 0x7fb621befbd0>"
            ]
          },
          "execution_count": 30,
          "metadata": {},
          "output_type": "execute_result"
        },
        {
          "data": {
            "image/png": "iVBORw0KGgoAAAANSUhEUgAAA4cAAAHgCAYAAAAWgxhdAAAABHNCSVQICAgIfAhkiAAAAAlwSFlzAAALEgAACxIB0t1+/AAAADh0RVh0U29mdHdhcmUAbWF0cGxvdGxpYiB2ZXJzaW9uMy4yLjIsIGh0dHA6Ly9tYXRwbG90bGliLm9yZy+WH4yJAAAgAElEQVR4nO3df/BddX3n8debBCRCFcTIMgndUJNdB38s4rdIp52dFAsm7rrQXdvFqSU6Iu2KLP6YXbHjDKhl2u5MtZWx7qKy4NSWMrYdaDfIMojrdFuVLy1F8RffRRyTQYgEUQRF8L1/fE/sN+GbGH7ce75JHo+ZO7nnc865931nHOHJufekujsAAAAc2A4aewAAAADGJw4BAAAQhwAAAIhDAAAAIg4BAACIOAQAACDJ8rEHmLZnP/vZvWbNmrHHAAAAGMXNN9/8re5euev6AReHa9asyezs7NhjAAAAjKKqvr7Yuq+VAgAAIA4BAAAQhwAAAEQcAgAAEHEIAABAxCEAAAARhwAAAEQcAgAAEHEIAABAxCEAAAARhwAAAEQcAgAAEHEIAABAxCEAAACZYBxW1aFV9bmq+sequq2q3jWsX15VX6uqW4bHCcN6VdX7q2quqm6tqhMXvNamqrp9eGxasP6Sqvr8cM77q6om9XkA4MnasGFD1q9fn40bN449CgA8xvIJvvYPkpzS3Q9U1cFJ/qaqrh32/Zfu/vgux29Msm54vDTJB5O8tKqeleTCJDNJOsnNVXVNd983HPOGJJ9NsjnJhiTXBgCWoO9///tJkoceemjkSQDgsSZ25bDnPTBsHjw8eg+nnJ7ko8N5n0lyRFUdk+TlSa7v7u1DEF6fZMOw7xnd/Znu7iQfTXLGpD4PADwZGzZs2Gnb1UMAlpqJ/uawqpZV1S1J7sl84H122HXx8NXR91XV04a1VUm+seD0LcPanta3LLIOAEvOjquGO7h6CMBSM9E47O5Hu/uEJKuTnFRVL0jyjiTPS/KzSZ6V5O2TnCFJquqcqpqtqtlt27ZN+u0AAAD2OVO5W2l3fzvJjUk2dPddw1dHf5DkfyY5aThsa5JjF5y2eljb0/rqRdYXe/9Lu3umu2dWrlz5VHwkAACA/cok71a6sqqOGJ6vSHJqki8PvxXMcGfRM5J8YTjlmiRnDXctPTnJ/d19V5LrkpxWVUdW1ZFJTkty3bDvO1V18vBaZyW5elKfBwCejEMPPXSn7RUrVow0CQAsbpJ3Kz0myRVVtSzzEXpVd/91VX2yqlYmqSS3JPnN4fjNSV6RZC7Jg0lelyTdvb2q3pPkpuG4d3f39uH5G5NcnmRF5u9S6k6lACxJn/jEJ7J+/fofb197rX9kAbC0TCwOu/vWJC9eZP2U3RzfSc7dzb7Lkly2yPpskhc8uUkBYDoOPfTQfP/733fVEIAlaZJXDgGABT7xiU+MPQIA7NZUbkgDAADA0iYOAQAAEIcAAACIQwAAAOKGNAAwNQv/KotPfepTo80BAItx5RAAAABxCADTsPCq4WLbADA2cQgAAIA4BAAAQBwCAAAQcQgAAEDEIQBMxZo1a/a4DQBjE4cAMAV33333HrcBYGziEACm4NRTT01VJUmqKqeddtrIEwHAzsQhAEzBpk2bcvDBBydJDj744Jx11lkjTwQAOxOHADAFRx11VB5++OEkycMPP5yjjjpq5IkAYGfiEAAAAHEIANOwfv36PW4DwNjEIQAAAOIQAAAAcQgAAEDEIQAAABGHAAAARBwCAAAQcQgAAEDEIQAAABGHAAAARBwCAAAQcQgAAEDEIQBMxYte9KKdtk888cSRJgGAxYlDAJiCO+64Y6ftr371qyNNAgCLE4cAMAUPPPDAHrcBYGziEACm4PDDD9/jNgCMTRwCwBT4zSEAS504BIAp+Nu//dudtj/96U+PNAkALE4cAgAAIA4BAAAQhwAAAEQcAgAAEHEIAABAxCEATMVb3vKWnbbf9ra3jTQJACxOHALAFPzBH/zBTtvvfe97R5oEABYnDgFgCrp7j9sAMDZxCABTUFV73AaAsYlDAJiCN7/5zTttv/Wtbx1pEgBYnDgEgCk4/fTTd9p+5StfOdIkALC4icVhVR1aVZ+rqn+sqtuq6l3D+nFV9dmqmquqP6uqQ4b1pw3bc8P+NQte6x3D+leq6uUL1jcMa3NVdcGkPgsAPFnr16/f4zYAjG2SVw5/kOSU7v5XSU5IsqGqTk7ye0ne191rk9yX5PXD8a9Pct+w/r7huFTV8UnOTPL8JBuS/FFVLauqZUk+kGRjkuOTvHo4FgAAgMdpYnHY8x4YNg8eHp3klCQfH9avSHLG8Pz0YTvD/pfV/K/1T09yZXf/oLu/lmQuyUnDY6677+juh5NcORwLAADA4zTR3xwOV/huSXJPkuuT/L8k3+7uR4ZDtiRZNTxfleQbSTLsvz/JUQvXdzlnd+sAAAA8ThONw+5+tLtPSLI681f6njfJ99udqjqnqmaranbbtm1jjAAAALCkTeVupd397SQ3Jvm5JEdU1fJh1+okW4fnW5McmyTD/mcmuXfh+i7n7G59sfe/tLtnuntm5cqVT8lnAgAA2J9M8m6lK6vqiOH5iiSnJvlS5iPxVcNhm5JcPTy/ZtjOsP+T3d3D+pnD3UyPS7IuyeeS3JRk3XD300Myf9Oaayb1eQAAAPZnk7xyeEySG6vq1syH3PXd/ddJ3p7krVU1l/nfFH5kOP4jSY4a1t+a5IIk6e7bklyV5ItJPpHk3OHrqo8keVOS6zIfnVcNxwLAkvOpT31qj9sAMLblP/mQJ6a7b03y4kXW78j87w93Xf9+kl/ZzWtdnOTiRdY3J9n8pIcFAAA4wE3lN4cAAAAsbeIQAAAAcQgA07B+/fo9bgPA2MQhAAAA4hAAAABxCAAAQMQhAAAAEYcAMBVr1qzZ4zYAjE0cAsAUvPOd79zjNgCMTRwCwBSsXbv2x1cL16xZk7Vr1447EADsQhwCwJS8853vzGGHHeaqIQBLkjgEgCk5++yz873vfS9nn3322KMAwGOIQwAAAMQhAEzD+vXr97gNAGMThwAAAIhDAAAAxCEAAAARhwAAAEQcAgAAEHEIAFOxYsWKPW4DwNjEIQBMwamnnrrT9mmnnTbSJACwOHEIAFOwadOmHHLIIUmSQw45JGedddbIEwHAzsQhAEzBUUcdlQ0bNqSqsnHjxhx11FFjjwQAOxGHADAl11xzTbo7V1999dijAMBjiEMAAADEIQBMw/r16/e4DQBjE4cAAACIQwAAAMQhAAAAEYcAAABEHAIAABBxCAAAQMQhAAAAEYcAAABEHAIAABBxCABTsXHjxp22X/nKV440CQAsThwCwBRce+21O23/1V/91UiTAMDixCEAAADiEAAAAHEIAABAxCEAAAARhwAAAEQcAsBULFu2bI/bADA2cQgAU/Doo4/ucRsAxiYOAQAAEIcAMA2+VgrAUicOAWAKfK0UgKVOHAIAADC5OKyqY6vqxqr6YlXdVlXnD+sXVdXWqrpleLxiwTnvqKq5qvpKVb18wfqGYW2uqi5YsH5cVX12WP+zqjpkUp8HAABgfzbJK4ePJHlbdx+f5OQk51bV8cO+93X3CcNjc5IM+85M8vwkG5L8UVUtq6plST6QZGOS45O8esHr/N7wWmuT3Jfk9RP8PAAAAPuticVhd9/V3X8/PP9uki8lWbWHU05PcmV3/6C7v5ZkLslJw2Ouu+/o7oeTXJnk9KqqJKck+fhw/hVJzpjMpwEAANi/TeU3h1W1JsmLk3x2WHpTVd1aVZdV1ZHD2qok31hw2pZhbXfrRyX5dnc/sss6AAAAj9PE47CqDk/y50ne3N3fSfLBJM9NckKSu5L8/hRmOKeqZqtqdtu2bZN+OwAAgH3OROOwqg7OfBh+rLv/Ikm6++7ufrS7f5TkQ5n/2miSbE1y7ILTVw9ru1u/N8kRVbV8l/XH6O5Lu3umu2dWrlz51Hw4AACA/cgk71ZaST6S5Evd/d4F68csOOyXk3xheH5NkjOr6mlVdVySdUk+l+SmJOuGO5Mekvmb1lzT3Z3kxiSvGs7flOTqSX0eAACA/dnyn3zIE/bzSX49yeer6pZh7bcyf7fRE5J0kjuT/EaSdPdtVXVVki9m/k6n53b3o0lSVW9Kcl2SZUku6+7bhtd7e5Irq+q3k/xD5mMUAACAx2licdjdf5OkFtm1eQ/nXJzk4kXWNy92XnffkX/6WioAAABP0FTuVgoAAMDSJg4BAAAQhwAAAIhDAAAAIg4BAACIOAQAACDiEAAAgIhDAAAAIg4BAACIOAQAACDiEAAAgIhDAAAAIg4BAACIOAQAACDiEAAAgIhDAAAAIg4BAACIOAQAACDiEAAAgIhDAAAAIg4BAACIOAQAACDiEAAAgIhDAAAAIg4BAACIOAQAACDiEAAAgIhDAAAAIg4BAACIOAQAACDiEAAAgIhDAAAAIg4BAACIOAQAACDiEAAAgIhDAAAAIg4BAACIOAQAACDiEAAAgIhDAAAAIg4BAACIOASAqVixYsVO24cddthIkwDA4sQhAEzBQw89tNP29773vZEmAYDFiUMAAADEIQAAAOIQAACAiEMAAAAywTisqmOr6saq+mJV3VZV5w/rz6qq66vq9uHPI4f1qqr3V9VcVd1aVScueK1Nw/G3V9WmBesvqarPD+e8v6pqUp8HAABgfzbJK4ePJHlbdx+f5OQk51bV8UkuSHJDd69LcsOwnSQbk6wbHuck+WAyH5NJLkzy0iQnJblwR1AOx7xhwXkbJvh5AAAA9lsTi8Puvqu7/354/t0kX0qyKsnpSa4YDrsiyRnD89OTfLTnfSbJEVV1TJKXJ7m+u7d3931Jrk+yYdj3jO7+THd3ko8ueC0AAAAeh6n85rCq1iR5cZLPJjm6u+8adn0zydHD81VJvrHgtC3D2p7WtyyyDgAAwOM08TisqsOT/HmSN3f3dxbuG6749RRmOKeqZqtqdtu2bZN+OwAAgH3OROOwqg7OfBh+rLv/Yli+e/hKaIY/7xnWtyY5dsHpq4e1Pa2vXmT9Mbr70u6e6e6ZlStXPrkPBQAAsB+a5N1KK8lHknypu9+7YNc1SXbccXRTkqsXrJ813LX05CT3D18/vS7JaVV15HAjmtOSXDfs+05VnTy811kLXgsAAIDHYfkEX/vnk/x6ks9X1S3D2m8l+d0kV1XV65N8PcmvDvs2J3lFkrkkDyZ5XZJ09/aqek+Sm4bj3t3d24fnb0xyeZIVSa4dHgAAADxOE4vD7v6bJLv7ewdftsjxneTc3bzWZUkuW2R9NskLnsSYAAAAZEp3KwUAAGBpE4cAAACIQwAAAMQhAAAAEYcAAABEHAIAABBxCAAAQMQhAAAAEYcAAABEHAIAAJC9iMOqOm5v1gAAANh37c2Vwz9fZO3jT/UgAAAAjGf57nZU1fOSPD/JM6vq3y/Y9Ywkh056MAAAAKZnt3GY5F8m+bdJjkjyygXr303yhkkOBQAAwHTtNg67++okV1fVz3X3301xJgAAAKZsb35zeG9V3VBVX0iSqnpRVb1zwnMBAAAwRXsThx9K8o4kP0yS7r41yZmTHAoAAIDp2ps4fHp3f26XtUcmMQwAAADj2Js4/FZVPTdJJ0lVvSrJXROdCgAAgKna091Kdzg3yaVJnldVW5N8LclrJjoVAAAAU/UT47C770jyS1V1WJKDuvu7kx8LAACAafqJcVhVb91lO0nuT3Jzd98yobkAAACYor35zeFMkt9Msmp4/EaSDUk+VFX/dYKzAQAAMCV785vD1UlO7O4HkqSqLkzyv5L86yQ3J/lvkxsPAACAadibK4fPSfKDBds/THJ0dz+0yzoAAAD7qL25cvixJJ+tqquH7Vcm+ZPhBjVfnNhkAAAATM0e47Dm7z5zeZJrk/z8sPyb3T07PP+1yY0GAADAtOwxDru7q2pzd78wyeyejgUAAGDftTe/Ofz7qvrZiU8CAADAaPbmN4cvTfJrVfX1JN9LUpm/qPiiiU4GAADA1OxNHL584lMAAAAwqp8Yh9399SSpquckOXTiEwEAADB1P/E3h1X176rq9iRfS/J/ktyZ+buXAgAAsJ/YmxvSvCfJyUm+2t3HJXlZks9MdCoAAACmam/i8IfdfW+Sg6rqoO6+McnMhOcCAABgivbmhjTfrqrDk3w6yceq6p4kD0x2LAAAAKZpb+LwH5M8mOQtSX4tyTOTHD7JoQAAAJiuvYnDX+zuHyX5UZIrkqSqbp3oVABPwiWXXJK5ubmxx4Cf6Pzzzx97BNjJ2rVrc9555409BjCS3cZhVf2nJG9M8txdYvCnkvzfSQ8GAADA9FR3L76j6plJjkzyO0kuWLDru929fQqzTcTMzEzPzs6OPQYAB5i5ubmcffbZP97+8Ic/nLVr1444EQAHqqq6ubsfc5PR3V457O77k9yf5NWTHAwADgS7hqAwBGCp2Zu/ygIAeAqsW7cuBx10UD784Q+PPQoAPIY4BIApefrTn54XvvCFrhoCsCSJQwAAAMQhAAAA4hAAAICIQwAAACIOAQAAyATjsKouq6p7quoLC9YuqqqtVXXL8HjFgn3vqKq5qvpKVb18wfqGYW2uqi5YsH5cVX12WP+zqjpkUp8FAABgfzfJK4eXJ9mwyPr7uvuE4bE5Sarq+CRnJnn+cM4fVdWyqlqW5ANJNiY5Psmrh2OT5PeG11qb5L4kr5/gZwEAANivTSwOu/vTSbbv5eGnJ7myu3/Q3V9LMpfkpOEx1913dPfDSa5McnpVVZJTknx8OP+KJGc8pR8AAADgADLGbw7fVFW3Dl87PXJYW5XkGwuO2TKs7W79qCTf7u5HdlkHAADgCZh2HH4wyXOTnJDkriS/P403rapzqmq2qma3bds2jbcEAADYp0w1Drv77u5+tLt/lORDmf/aaJJsTXLsgkNXD2u7W783yRFVtXyX9d2976XdPdPdMytXrnxqPgwAAMB+ZKpxWFXHLNj85SQ77mR6TZIzq+ppVXVcknVJPpfkpiTrhjuTHpL5m9Zc092d5MYkrxrO35Tk6ml8BgAAgP3R8p98yBNTVX+aZH2SZ1fVliQXJllfVSck6SR3JvmNJOnu26rqqiRfTPJIknO7+9Hhdd6U5Loky5Jc1t23DW/x9iRXVtVvJ/mHJB+Z1GcBAADY300sDrv71Yss7zbguvviJBcvsr45yeZF1u/IP30tFQAAgCdhjLuVAgAAsMSIQwAAAMQhAAAA4hAAAICIQwAAACIOAQAAiDgEAAAg4hAAAICIQwAAACIOAQAAiDgEAAAg4hAAAICIQwAAACIOAQAAiDgEAAAg4hAAAICIQwAAACIOAQAAiDgEAAAg4hAAAICIQwAAACIOAQAAiDgEAAAg4hAAAICIQwAAACIOAQAAiDgEAAAg4hAAAICIQwAAACIOAQAAiDgEAAAg4hAAAICIQwAAACIOAQAAiDgEAAAg4hAAAIAky8cegH3TJZdckrm5ubHHANin7Pj/zfPPP3/kSQD2LWvXrs1555039hj7PXHIEzI3N5dbvvClPPr0Z409CsA+46CHO0ly8x13jzwJwL5j2YPbxx7hgCEOecIeffqz8tDzXjH2GAAA7MdWfHnz2CMcMPzmEAAAAHEIAACAOAQAACDiEAAAgIhDAAAAIg4BAACIOAQAACDiEAAAgEwwDqvqsqq6p6q+sGDtWVV1fVXdPvx55LBeVfX+qpqrqlur6sQF52wajr+9qjYtWH9JVX1+OOf9VVWT+iwAAAD7u0leObw8yYZd1i5IckN3r0tyw7CdJBuTrBse5yT5YDIfk0kuTPLSJCcluXBHUA7HvGHBebu+FwAAAHtpYnHY3Z9Osn2X5dOTXDE8vyLJGQvWP9rzPpPkiKo6JsnLk1zf3du7+74k1yfZMOx7Rnd/prs7yUcXvBYAAACP07R/c3h0d981PP9mkqOH56uSfGPBcVuGtT2tb1lkHQAAgCdgtBvSDFf8ehrvVVXnVNVsVc1u27ZtGm8JAACwT5l2HN49fCU0w5/3DOtbkxy74LjVw9qe1lcvsr6o7r60u2e6e2blypVP+kMAAADsb6Ydh9ck2XHH0U1Jrl6wftZw19KTk9w/fP30uiSnVdWRw41oTkty3bDvO1V18nCX0rMWvBYAAACP0/JJvXBV/WmS9UmeXVVbMn/X0d9NclVVvT7J15P86nD45iSvSDKX5MEkr0uS7t5eVe9JctNw3Lu7e8dNbt6Y+Tuirkhy7fAAAADgCZhYHHb3q3ez62WLHNtJzt3N61yW5LJF1meTvODJzAgAAMC80W5IAwAAwNIxsSuH7N+2bt2aZQ/enxVf3jz2KAAA7MeWPXhvtm59ZOwxDgiuHAIAAODKIU/MqlWr8s0fLM9Dz3vF2KMAALAfW/HlzVm16uixxzgguHIIAACAOAQAAEAcAgAAEHEIAABAxCEAAAARhwAAAEQcAgAAEHEIAABAxCEAAAARhwAAAEQcAgAAEHEIAABAxCEAAAARhwAAACRZPvYA7LuWPbg9K768eewxAPYZB33/O0mSHx36jJEnAdh3LHtwe5Kjxx7jgCAOeULWrl079ggA+5y5ue8mSdb+jH/JAdh7R/t3zykRhzwh55133tgjAOxzzj///CTJH/7hH448CQA8lt8cAgAAIA4BAAAQhwAAAEQcAgAAEHEIAABAxCEAAAARhwAAAEQcAgAAEHEIAABAxCEAAAARhwAAAEQcAgAAEHEIAABAxCEAAAARhwAAAEQcAgAAEHEIAABAxCEAAAARhwAAAEQcAgAAEHEIAABAxCEAAAARhwAAAEQcAgAAEHEIAABAxCEAAAARhwAAAGSkOKyqO6vq81V1S1XNDmvPqqrrq+r24c8jh/WqqvdX1VxV3VpVJy54nU3D8bdX1aYxPgsAAMD+YMwrh7/Y3Sd098ywfUGSG7p7XZIbhu0k2Zhk3fA4J8kHk/mYTHJhkpcmOSnJhTuCEgAAgMdnKX2t9PQkVwzPr0hyxoL1j/a8zyQ5oqqOSfLyJNd39/buvi/J9Uk2THtoAACA/cHykd63k/zvquok/6O7L01ydHffNez/ZpKjh+erknxjwblbhrXdrQMHuEsuuSRzc3NjjwGPseN/l+eff/7Ik8Di1q5dm/POO2/sMYCRjBWHv9DdW6vqOUmur6ovL9zZ3T2E41Oiqs7J/FdS89M//dNP1csCwOOyYsWKsUcAgN0aJQ67e+vw5z1V9ZeZ/83g3VV1THffNXxt9J7h8K1Jjl1w+uphbWuS9busf2o373dpkkuTZGZm5imLTmBp8l+9AQAev6n/5rCqDquqn9rxPMlpSb6Q5JokO+44uinJ1cPza5KcNdy19OQk9w9fP70uyWlVdeRwI5rThjUAAAAepzGuHB6d5C+rasf7/0l3f6KqbkpyVVW9PsnXk/zqcPzmJK9IMpfkwSSvS5Lu3l5V70ly03Dcu7t7+/Q+BgAAwP6jug+sb1nOzMz07Ozs2GMAAACMoqpuXvBXCv7YUvqrLAAAABiJOAQAAEAcAgAAIA4BAACIOAQAACDiEAAAgIhDAAAAIg4BAACIOAQAACDiEAAAgIhDAAAAIg4BAACIOAQAACDiEAAAgIhDAAAAIg4BAACIOAQAACDiEAAAgIhDAAAAIg4BAACIOAQAACDiEAAAgIhDAAAAIg4BAACIOAQAACDiEAAAgIhDAAAAIg4BAACIOAQAACDiEAAAgIhDAAAAIg4BAACIOAQAACDiEAAAgIhDAAAAIg4BAABIsnzsAQDgQPGa17wmW7ZsyZo1a3L55ZePPQ4A7MSVQwCYki1btiRJ7rzzznEHAYBFiEMAmILXvOY1O22/9rWvHWcQANgNcQgAU7DjquEOrh4CsNSIQwAAAMQhAAAA4hAApmL16tU7ba9Zs2acQQBgN8QhAEzBH//xH++07a+yAGCpEYcAMCU7rh66agjAUrR87AEA4ECx69VDAFhKXDkEAABg34/DqtpQVV+pqrmqumDseQBgd2ZnZ3PKKafk5ptvHnsUAHiMfToOq2pZkg8k2Zjk+CSvrqrjx50KABZ30UUX5Uc/+lEuvPDCsUcBgMfYp+MwyUlJ5rr7ju5+OMmVSU4feSYAeIzZ2dk88MADSZIHHnjA1UMAlpx9PQ5XJfnGgu0twxoALCkXXXTRTtuuHgKw1OzrcbhXquqcqpqtqtlt27aNPQ4AB6AdVw13tw0AY9vX43BrkmMXbK8e1nbS3Zd290x3z6xcuXJqwwHADocffvgetwFgbPt6HN6UZF1VHVdVhyQ5M8k1I88EAI+x69dK3/Wud40zCADsxj4dh939SJI3JbkuyZeSXNXdt407FQA81szMzI+vFh5++OF5yUteMvJEALCzfToOk6S7N3f3v+ju53b3xWPPAwC7c9FFF+Wggw5y1RCAJWn52AMAwIFiZmYmn/zkJ8ceAwAWtc9fOQQAAODJE4cAAACIQwAAAMQhAAAAEYcAAABEHAIAABBxCAAAQMQhAAAAEYcAAABEHAIAABBxCAAAQMQhAAAAEYcAAABEHAIAAJCkunvsGaaqqrYl+frYcwBwwHp2km+NPQQAB7R/3t0rd1084OIQAMZUVbPdPTP2HACwK18rBQAAQBwCAAAgDgFg2i4dewAAWIzfHAIAAODKIQAAAOIQAACAiEMAAAAiDgFgKqrq3VX15gXbF1fV+WPOBAALuSENAExBVa1J8hfdfWJVHZTk9iQndfe9ow4GAIPlYw8AAAeC7r6zqu6tqhcnOTrJPwhDAJYScQgA0/PhJK9N8s+SXDbuKACwM18rBYApqapDknw+ycFJ1nX3oyOPBAA/5sohAExJdz9cVTcm+bYwBGCpEYcAMCXDjWhOTvIrY88CALvyV1kAwBRU1fFJ5pLc0N23jz0PAOzKbw4BAABw5RAAAABxCAAAQMQhAAAAEYcAMHFV9Z+r6ktVdV9V3VpVt1TVbFX9wtizAcAObkgDABNWVV9O8ktJvp3ke93dVfWiJFd19/PGnQ4A5rlyCAATVFX/PcnPJLk2yRv6n/6r7GFJ/BdaAJYMVw4BYMKq6s4kM939rar65SS/k+Q5Sf5Nd//dqOqwexEAAACQSURBVMMBwMCVQwCYou7+y+GrpGckec/Y8wDADuIQAEbQ3Z9O8jNV9eyxZwGARBwCwNRU1dqqquH5iUmeluTecacCgHnLxx4AAA4g/yHJWVX1wyQPJfmP7cf/ACwRbkgDAACAr5UCAAAgDgEAAIg4BAAAIOIQAACAiEMAAAAiDgEAAIg4BAAAIOIQAACAJP8fLKlN0vTzuskAAAAASUVORK5CYII=",
            "text/plain": [
              "<Figure size 1080x576 with 1 Axes>"
            ]
          },
          "metadata": {
            "needs_background": "light"
          },
          "output_type": "display_data"
        }
      ],
      "source": [
        "plt.figure(figsize=(15,8))\n",
        "sns.boxplot(x='f3',y='target',data=df.sort_values('target',ascending=False))"
      ]
    },
    {
      "cell_type": "markdown",
      "metadata": {
        "id": "HLqkDuHzQnb2"
      },
      "source": [
        "From graph we can see that f3 have same value for all the records and it does not have the impact on the target variable."
      ]
    },
    {
      "cell_type": "markdown",
      "metadata": {
        "id": "yODjcBbJQn1n"
      },
      "source": [
        "**f6(Airline) vs Fare Price(Target) Analysis**"
      ]
    },
    {
      "cell_type": "code",
      "execution_count": 31,
      "metadata": {
        "colab": {
          "base_uri": "https://localhost:8080/",
          "height": 514
        },
        "id": "0_J2NdDPQoBY",
        "outputId": "cb6e166d-5348-458a-9f56-2b0b42cff4ea",
        "vscode": {
          "languageId": "python"
        }
      },
      "outputs": [
        {
          "data": {
            "text/plain": [
              "<matplotlib.axes._subplots.AxesSubplot at 0x7fb621befd90>"
            ]
          },
          "execution_count": 31,
          "metadata": {},
          "output_type": "execute_result"
        },
        {
          "data": {
            "image/png": "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",
            "text/plain": [
              "<Figure size 1080x576 with 1 Axes>"
            ]
          },
          "metadata": {
            "needs_background": "light"
          },
          "output_type": "display_data"
        }
      ],
      "source": [
        "plt.figure(figsize=(15,8))\n",
        "sns.boxplot(x='f6',y='target',data=df.sort_values('target',ascending=False))"
      ]
    },
    {
      "cell_type": "markdown",
      "metadata": {
        "id": "8ui7nulcQoMc"
      },
      "source": [
        "From graph we can see that Airline named \"gamma\" have the highest Price. While Airline named \"omega\" have the lowest price."
      ]
    },
    {
      "cell_type": "markdown",
      "metadata": {
        "id": "9N-RJad-Qoje"
      },
      "source": [
        "**f10(Flight Number) vs Fare Price(Target) Analysis**"
      ]
    },
    {
      "cell_type": "code",
      "execution_count": 32,
      "metadata": {
        "colab": {
          "base_uri": "https://localhost:8080/",
          "height": 514
        },
        "id": "ROc8kcdzVXH0",
        "outputId": "44609637-a4a1-466d-d1f3-f7bbe3ce1076",
        "vscode": {
          "languageId": "python"
        }
      },
      "outputs": [
        {
          "data": {
            "text/plain": [
              "<matplotlib.axes._subplots.AxesSubplot at 0x7fb61882cc50>"
            ]
          },
          "execution_count": 32,
          "metadata": {},
          "output_type": "execute_result"
        },
        {
          "data": {
            "image/png": "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",
            "text/plain": [
              "<Figure size 1080x576 with 1 Axes>"
            ]
          },
          "metadata": {
            "needs_background": "light"
          },
          "output_type": "display_data"
        }
      ],
      "source": [
        "plt.figure(figsize=(15,8))\n",
        "sns.boxplot(x='f10',y='target',data=df.sort_values('target',ascending=False))"
      ]
    },
    {
      "cell_type": "markdown",
      "metadata": {
        "id": "Ui8JSIOSVtD_"
      },
      "source": [
        "From graph we can see that Flight number \"d-3,d-5,d-1\" have the highest Price Range."
      ]
    },
    {
      "cell_type": "markdown",
      "metadata": {
        "id": "H6wvdSyBWRiS"
      },
      "source": [
        "***Replacing/Encoding the Categorical values in f6 and f10 columns with the numerical values 0 and 1 using one hot encoding method.***"
      ]
    },
    {
      "cell_type": "code",
      "execution_count": 33,
      "metadata": {
        "id": "FyoXmSYyWpK0",
        "vscode": {
          "languageId": "python"
        }
      },
      "outputs": [],
      "source": [
        "f6=pd.get_dummies(categorical_columns['f6'],drop_first=True)"
      ]
    },
    {
      "cell_type": "code",
      "execution_count": 34,
      "metadata": {
        "id": "fgKEMoIDWz76",
        "vscode": {
          "languageId": "python"
        }
      },
      "outputs": [],
      "source": [
        "f10=pd.get_dummies(categorical_columns['f10'],drop_first=True)"
      ]
    },
    {
      "cell_type": "code",
      "execution_count": 35,
      "metadata": {
        "colab": {
          "base_uri": "https://localhost:8080/",
          "height": 206
        },
        "id": "yaAX0MnCXIkO",
        "outputId": "292f32c9-9af7-4a63-8795-bc72c50d1397",
        "vscode": {
          "languageId": "python"
        }
      },
      "outputs": [
        {
          "data": {
            "text/html": [
              "\n",
              "  <div id=\"df-ed5be362-47bc-4b3a-895f-14c4b3f84e89\">\n",
              "    <div class=\"colab-df-container\">\n",
              "      <div>\n",
              "<style scoped>\n",
              "    .dataframe tbody tr th:only-of-type {\n",
              "        vertical-align: middle;\n",
              "    }\n",
              "\n",
              "    .dataframe tbody tr th {\n",
              "        vertical-align: top;\n",
              "    }\n",
              "\n",
              "    .dataframe thead th {\n",
              "        text-align: right;\n",
              "    }\n",
              "</style>\n",
              "<table border=\"1\" class=\"dataframe\">\n",
              "  <thead>\n",
              "    <tr style=\"text-align: right;\">\n",
              "      <th></th>\n",
              "      <th>beta</th>\n",
              "      <th>gamma</th>\n",
              "      <th>omega</th>\n",
              "    </tr>\n",
              "  </thead>\n",
              "  <tbody>\n",
              "    <tr>\n",
              "      <th>450565</th>\n",
              "      <td>0</td>\n",
              "      <td>0</td>\n",
              "      <td>0</td>\n",
              "    </tr>\n",
              "    <tr>\n",
              "      <th>5401245</th>\n",
              "      <td>0</td>\n",
              "      <td>1</td>\n",
              "      <td>0</td>\n",
              "    </tr>\n",
              "    <tr>\n",
              "      <th>12610261</th>\n",
              "      <td>0</td>\n",
              "      <td>1</td>\n",
              "      <td>0</td>\n",
              "    </tr>\n",
              "    <tr>\n",
              "      <th>2366189</th>\n",
              "      <td>0</td>\n",
              "      <td>0</td>\n",
              "      <td>0</td>\n",
              "    </tr>\n",
              "    <tr>\n",
              "      <th>9285149</th>\n",
              "      <td>0</td>\n",
              "      <td>1</td>\n",
              "      <td>0</td>\n",
              "    </tr>\n",
              "  </tbody>\n",
              "</table>\n",
              "</div>\n",
              "      <button class=\"colab-df-convert\" onclick=\"convertToInteractive('df-ed5be362-47bc-4b3a-895f-14c4b3f84e89')\"\n",
              "              title=\"Convert this dataframe to an interactive table.\"\n",
              "              style=\"display:none;\">\n",
              "        \n",
              "  <svg xmlns=\"http://www.w3.org/2000/svg\" height=\"24px\"viewBox=\"0 0 24 24\"\n",
              "       width=\"24px\">\n",
              "    <path d=\"M0 0h24v24H0V0z\" fill=\"none\"/>\n",
              "    <path d=\"M18.56 5.44l.94 2.06.94-2.06 2.06-.94-2.06-.94-.94-2.06-.94 2.06-2.06.94zm-11 1L8.5 8.5l.94-2.06 2.06-.94-2.06-.94L8.5 2.5l-.94 2.06-2.06.94zm10 10l.94 2.06.94-2.06 2.06-.94-2.06-.94-.94-2.06-.94 2.06-2.06.94z\"/><path d=\"M17.41 7.96l-1.37-1.37c-.4-.4-.92-.59-1.43-.59-.52 0-1.04.2-1.43.59L10.3 9.45l-7.72 7.72c-.78.78-.78 2.05 0 2.83L4 21.41c.39.39.9.59 1.41.59.51 0 1.02-.2 1.41-.59l7.78-7.78 2.81-2.81c.8-.78.8-2.07 0-2.86zM5.41 20L4 18.59l7.72-7.72 1.47 1.35L5.41 20z\"/>\n",
              "  </svg>\n",
              "      </button>\n",
              "      \n",
              "  <style>\n",
              "    .colab-df-container {\n",
              "      display:flex;\n",
              "      flex-wrap:wrap;\n",
              "      gap: 12px;\n",
              "    }\n",
              "\n",
              "    .colab-df-convert {\n",
              "      background-color: #E8F0FE;\n",
              "      border: none;\n",
              "      border-radius: 50%;\n",
              "      cursor: pointer;\n",
              "      display: none;\n",
              "      fill: #1967D2;\n",
              "      height: 32px;\n",
              "      padding: 0 0 0 0;\n",
              "      width: 32px;\n",
              "    }\n",
              "\n",
              "    .colab-df-convert:hover {\n",
              "      background-color: #E2EBFA;\n",
              "      box-shadow: 0px 1px 2px rgba(60, 64, 67, 0.3), 0px 1px 3px 1px rgba(60, 64, 67, 0.15);\n",
              "      fill: #174EA6;\n",
              "    }\n",
              "\n",
              "    [theme=dark] .colab-df-convert {\n",
              "      background-color: #3B4455;\n",
              "      fill: #D2E3FC;\n",
              "    }\n",
              "\n",
              "    [theme=dark] .colab-df-convert:hover {\n",
              "      background-color: #434B5C;\n",
              "      box-shadow: 0px 1px 3px 1px rgba(0, 0, 0, 0.15);\n",
              "      filter: drop-shadow(0px 1px 2px rgba(0, 0, 0, 0.3));\n",
              "      fill: #FFFFFF;\n",
              "    }\n",
              "  </style>\n",
              "\n",
              "      <script>\n",
              "        const buttonEl =\n",
              "          document.querySelector('#df-ed5be362-47bc-4b3a-895f-14c4b3f84e89 button.colab-df-convert');\n",
              "        buttonEl.style.display =\n",
              "          google.colab.kernel.accessAllowed ? 'block' : 'none';\n",
              "\n",
              "        async function convertToInteractive(key) {\n",
              "          const element = document.querySelector('#df-ed5be362-47bc-4b3a-895f-14c4b3f84e89');\n",
              "          const dataTable =\n",
              "            await google.colab.kernel.invokeFunction('convertToInteractive',\n",
              "                                                     [key], {});\n",
              "          if (!dataTable) return;\n",
              "\n",
              "          const docLinkHtml = 'Like what you see? Visit the ' +\n",
              "            '<a target=\"_blank\" href=https://colab.research.google.com/notebooks/data_table.ipynb>data table notebook</a>'\n",
              "            + ' to learn more about interactive tables.';\n",
              "          element.innerHTML = '';\n",
              "          dataTable['output_type'] = 'display_data';\n",
              "          await google.colab.output.renderOutput(dataTable, element);\n",
              "          const docLink = document.createElement('div');\n",
              "          docLink.innerHTML = docLinkHtml;\n",
              "          element.appendChild(docLink);\n",
              "        }\n",
              "      </script>\n",
              "    </div>\n",
              "  </div>\n",
              "  "
            ],
            "text/plain": [
              "          beta  gamma  omega\n",
              "450565       0      0      0\n",
              "5401245      0      1      0\n",
              "12610261     0      1      0\n",
              "2366189      0      0      0\n",
              "9285149      0      1      0"
            ]
          },
          "execution_count": 35,
          "metadata": {},
          "output_type": "execute_result"
        }
      ],
      "source": [
        "f6.head()"
      ]
    },
    {
      "cell_type": "code",
      "execution_count": 36,
      "metadata": {
        "colab": {
          "base_uri": "https://localhost:8080/",
          "height": 206
        },
        "id": "CwZGCwHCW8lN",
        "outputId": "42a4f6aa-7476-4f95-e710-653e5e7f30f4",
        "vscode": {
          "languageId": "python"
        }
      },
      "outputs": [
        {
          "data": {
            "text/html": [
              "\n",
              "  <div id=\"df-939afc0d-8e9a-41c9-8afb-18a2b670cdc5\">\n",
              "    <div class=\"colab-df-container\">\n",
              "      <div>\n",
              "<style scoped>\n",
              "    .dataframe tbody tr th:only-of-type {\n",
              "        vertical-align: middle;\n",
              "    }\n",
              "\n",
              "    .dataframe tbody tr th {\n",
              "        vertical-align: top;\n",
              "    }\n",
              "\n",
              "    .dataframe thead th {\n",
              "        text-align: right;\n",
              "    }\n",
              "</style>\n",
              "<table border=\"1\" class=\"dataframe\">\n",
              "  <thead>\n",
              "    <tr style=\"text-align: right;\">\n",
              "      <th></th>\n",
              "      <th>a-23</th>\n",
              "      <th>a-5</th>\n",
              "      <th>a-7</th>\n",
              "      <th>a-9</th>\n",
              "      <th>b-1</th>\n",
              "      <th>b-19</th>\n",
              "      <th>b-319</th>\n",
              "      <th>b-369</th>\n",
              "      <th>b-67</th>\n",
              "      <th>b-69</th>\n",
              "      <th>b-73</th>\n",
              "      <th>b-9</th>\n",
              "      <th>c-2</th>\n",
              "      <th>c-4</th>\n",
              "      <th>c-6</th>\n",
              "      <th>d-1</th>\n",
              "      <th>d-3</th>\n",
              "      <th>d-5</th>\n",
              "    </tr>\n",
              "  </thead>\n",
              "  <tbody>\n",
              "    <tr>\n",
              "      <th>450565</th>\n",
              "      <td>0</td>\n",
              "      <td>0</td>\n",
              "      <td>1</td>\n",
              "      <td>0</td>\n",
              "      <td>0</td>\n",
              "      <td>0</td>\n",
              "      <td>0</td>\n",
              "      <td>0</td>\n",
              "      <td>0</td>\n",
              "      <td>0</td>\n",
              "      <td>0</td>\n",
              "      <td>0</td>\n",
              "      <td>0</td>\n",
              "      <td>0</td>\n",
              "      <td>0</td>\n",
              "      <td>0</td>\n",
              "      <td>0</td>\n",
              "      <td>0</td>\n",
              "    </tr>\n",
              "    <tr>\n",
              "      <th>5401245</th>\n",
              "      <td>0</td>\n",
              "      <td>0</td>\n",
              "      <td>0</td>\n",
              "      <td>0</td>\n",
              "      <td>0</td>\n",
              "      <td>0</td>\n",
              "      <td>0</td>\n",
              "      <td>0</td>\n",
              "      <td>0</td>\n",
              "      <td>0</td>\n",
              "      <td>0</td>\n",
              "      <td>0</td>\n",
              "      <td>0</td>\n",
              "      <td>0</td>\n",
              "      <td>1</td>\n",
              "      <td>0</td>\n",
              "      <td>0</td>\n",
              "      <td>0</td>\n",
              "    </tr>\n",
              "    <tr>\n",
              "      <th>12610261</th>\n",
              "      <td>0</td>\n",
              "      <td>0</td>\n",
              "      <td>0</td>\n",
              "      <td>0</td>\n",
              "      <td>0</td>\n",
              "      <td>0</td>\n",
              "      <td>0</td>\n",
              "      <td>0</td>\n",
              "      <td>0</td>\n",
              "      <td>0</td>\n",
              "      <td>0</td>\n",
              "      <td>0</td>\n",
              "      <td>0</td>\n",
              "      <td>1</td>\n",
              "      <td>0</td>\n",
              "      <td>0</td>\n",
              "      <td>0</td>\n",
              "      <td>0</td>\n",
              "    </tr>\n",
              "    <tr>\n",
              "      <th>2366189</th>\n",
              "      <td>0</td>\n",
              "      <td>0</td>\n",
              "      <td>1</td>\n",
              "      <td>0</td>\n",
              "      <td>0</td>\n",
              "      <td>0</td>\n",
              "      <td>0</td>\n",
              "      <td>0</td>\n",
              "      <td>0</td>\n",
              "      <td>0</td>\n",
              "      <td>0</td>\n",
              "      <td>0</td>\n",
              "      <td>0</td>\n",
              "      <td>0</td>\n",
              "      <td>0</td>\n",
              "      <td>0</td>\n",
              "      <td>0</td>\n",
              "      <td>0</td>\n",
              "    </tr>\n",
              "    <tr>\n",
              "      <th>9285149</th>\n",
              "      <td>0</td>\n",
              "      <td>0</td>\n",
              "      <td>0</td>\n",
              "      <td>0</td>\n",
              "      <td>0</td>\n",
              "      <td>0</td>\n",
              "      <td>0</td>\n",
              "      <td>0</td>\n",
              "      <td>0</td>\n",
              "      <td>0</td>\n",
              "      <td>0</td>\n",
              "      <td>0</td>\n",
              "      <td>0</td>\n",
              "      <td>0</td>\n",
              "      <td>1</td>\n",
              "      <td>0</td>\n",
              "      <td>0</td>\n",
              "      <td>0</td>\n",
              "    </tr>\n",
              "  </tbody>\n",
              "</table>\n",
              "</div>\n",
              "      <button class=\"colab-df-convert\" onclick=\"convertToInteractive('df-939afc0d-8e9a-41c9-8afb-18a2b670cdc5')\"\n",
              "              title=\"Convert this dataframe to an interactive table.\"\n",
              "              style=\"display:none;\">\n",
              "        \n",
              "  <svg xmlns=\"http://www.w3.org/2000/svg\" height=\"24px\"viewBox=\"0 0 24 24\"\n",
              "       width=\"24px\">\n",
              "    <path d=\"M0 0h24v24H0V0z\" fill=\"none\"/>\n",
              "    <path d=\"M18.56 5.44l.94 2.06.94-2.06 2.06-.94-2.06-.94-.94-2.06-.94 2.06-2.06.94zm-11 1L8.5 8.5l.94-2.06 2.06-.94-2.06-.94L8.5 2.5l-.94 2.06-2.06.94zm10 10l.94 2.06.94-2.06 2.06-.94-2.06-.94-.94-2.06-.94 2.06-2.06.94z\"/><path d=\"M17.41 7.96l-1.37-1.37c-.4-.4-.92-.59-1.43-.59-.52 0-1.04.2-1.43.59L10.3 9.45l-7.72 7.72c-.78.78-.78 2.05 0 2.83L4 21.41c.39.39.9.59 1.41.59.51 0 1.02-.2 1.41-.59l7.78-7.78 2.81-2.81c.8-.78.8-2.07 0-2.86zM5.41 20L4 18.59l7.72-7.72 1.47 1.35L5.41 20z\"/>\n",
              "  </svg>\n",
              "      </button>\n",
              "      \n",
              "  <style>\n",
              "    .colab-df-container {\n",
              "      display:flex;\n",
              "      flex-wrap:wrap;\n",
              "      gap: 12px;\n",
              "    }\n",
              "\n",
              "    .colab-df-convert {\n",
              "      background-color: #E8F0FE;\n",
              "      border: none;\n",
              "      border-radius: 50%;\n",
              "      cursor: pointer;\n",
              "      display: none;\n",
              "      fill: #1967D2;\n",
              "      height: 32px;\n",
              "      padding: 0 0 0 0;\n",
              "      width: 32px;\n",
              "    }\n",
              "\n",
              "    .colab-df-convert:hover {\n",
              "      background-color: #E2EBFA;\n",
              "      box-shadow: 0px 1px 2px rgba(60, 64, 67, 0.3), 0px 1px 3px 1px rgba(60, 64, 67, 0.15);\n",
              "      fill: #174EA6;\n",
              "    }\n",
              "\n",
              "    [theme=dark] .colab-df-convert {\n",
              "      background-color: #3B4455;\n",
              "      fill: #D2E3FC;\n",
              "    }\n",
              "\n",
              "    [theme=dark] .colab-df-convert:hover {\n",
              "      background-color: #434B5C;\n",
              "      box-shadow: 0px 1px 3px 1px rgba(0, 0, 0, 0.15);\n",
              "      filter: drop-shadow(0px 1px 2px rgba(0, 0, 0, 0.3));\n",
              "      fill: #FFFFFF;\n",
              "    }\n",
              "  </style>\n",
              "\n",
              "      <script>\n",
              "        const buttonEl =\n",
              "          document.querySelector('#df-939afc0d-8e9a-41c9-8afb-18a2b670cdc5 button.colab-df-convert');\n",
              "        buttonEl.style.display =\n",
              "          google.colab.kernel.accessAllowed ? 'block' : 'none';\n",
              "\n",
              "        async function convertToInteractive(key) {\n",
              "          const element = document.querySelector('#df-939afc0d-8e9a-41c9-8afb-18a2b670cdc5');\n",
              "          const dataTable =\n",
              "            await google.colab.kernel.invokeFunction('convertToInteractive',\n",
              "                                                     [key], {});\n",
              "          if (!dataTable) return;\n",
              "\n",
              "          const docLinkHtml = 'Like what you see? Visit the ' +\n",
              "            '<a target=\"_blank\" href=https://colab.research.google.com/notebooks/data_table.ipynb>data table notebook</a>'\n",
              "            + ' to learn more about interactive tables.';\n",
              "          element.innerHTML = '';\n",
              "          dataTable['output_type'] = 'display_data';\n",
              "          await google.colab.output.renderOutput(dataTable, element);\n",
              "          const docLink = document.createElement('div');\n",
              "          docLink.innerHTML = docLinkHtml;\n",
              "          element.appendChild(docLink);\n",
              "        }\n",
              "      </script>\n",
              "    </div>\n",
              "  </div>\n",
              "  "
            ],
            "text/plain": [
              "          a-23  a-5  a-7  a-9  b-1  b-19  b-319  b-369  b-67  b-69  b-73  b-9  \\\n",
              "450565       0    0    1    0    0     0      0      0     0     0     0    0   \n",
              "5401245      0    0    0    0    0     0      0      0     0     0     0    0   \n",
              "12610261     0    0    0    0    0     0      0      0     0     0     0    0   \n",
              "2366189      0    0    1    0    0     0      0      0     0     0     0    0   \n",
              "9285149      0    0    0    0    0     0      0      0     0     0     0    0   \n",
              "\n",
              "          c-2  c-4  c-6  d-1  d-3  d-5  \n",
              "450565      0    0    0    0    0    0  \n",
              "5401245     0    0    1    0    0    0  \n",
              "12610261    0    1    0    0    0    0  \n",
              "2366189     0    0    0    0    0    0  \n",
              "9285149     0    0    1    0    0    0  "
            ]
          },
          "execution_count": 36,
          "metadata": {},
          "output_type": "execute_result"
        }
      ],
      "source": [
        "f10.head()"
      ]
    },
    {
      "cell_type": "code",
      "execution_count": 37,
      "metadata": {
        "colab": {
          "base_uri": "https://localhost:8080/"
        },
        "id": "nAkooFXjW-ib",
        "outputId": "f4547068-8944-4670-b90a-28d67f13a2f9",
        "vscode": {
          "languageId": "python"
        }
      },
      "outputs": [
        {
          "name": "stdout",
          "output_type": "stream",
          "text": [
            "f2 has total 1 categories\n",
            "f3 has total 1 categories\n",
            "f6 has total 4 categories\n",
            "f7 has total 2 categories\n",
            "f10 has total 19 categories\n"
          ]
        }
      ],
      "source": [
        "for i in categorical_columns.columns:\n",
        "    print('{} has total {} categories'.format(i,len(categorical_columns[i].value_counts())))"
      ]
    },
    {
      "cell_type": "markdown",
      "metadata": {
        "id": "5F7IqxajYDBK"
      },
      "source": [
        "***After all preprocessing, Our data is ready for the modeling***"
      ]
    },
    {
      "cell_type": "markdown",
      "metadata": {
        "id": "OLwBhoFfXlQD"
      },
      "source": [
        "## Data Modeling"
      ]
    },
    {
      "cell_type": "code",
      "execution_count": 38,
      "metadata": {
        "colab": {
          "base_uri": "https://localhost:8080/",
          "height": 316
        },
        "id": "KxKfpb7nYFzy",
        "outputId": "5ca4cd71-0e60-4127-f291-41a08f9193c8",
        "vscode": {
          "languageId": "python"
        }
      },
      "outputs": [
        {
          "data": {
            "text/html": [
              "\n",
              "  <div id=\"df-b7eabf27-3eb9-40ec-9d8b-0bbadfa62c2b\">\n",
              "    <div class=\"colab-df-container\">\n",
              "      <div>\n",
              "<style scoped>\n",
              "    .dataframe tbody tr th:only-of-type {\n",
              "        vertical-align: middle;\n",
              "    }\n",
              "\n",
              "    .dataframe tbody tr th {\n",
              "        vertical-align: top;\n",
              "    }\n",
              "\n",
              "    .dataframe thead th {\n",
              "        text-align: right;\n",
              "    }\n",
              "</style>\n",
              "<table border=\"1\" class=\"dataframe\">\n",
              "  <thead>\n",
              "    <tr style=\"text-align: right;\">\n",
              "      <th></th>\n",
              "      <th>beta</th>\n",
              "      <th>gamma</th>\n",
              "      <th>omega</th>\n",
              "      <th>a-23</th>\n",
              "      <th>a-5</th>\n",
              "      <th>a-7</th>\n",
              "      <th>a-9</th>\n",
              "      <th>b-1</th>\n",
              "      <th>b-19</th>\n",
              "      <th>b-319</th>\n",
              "      <th>...</th>\n",
              "      <th>f7</th>\n",
              "      <th>f8</th>\n",
              "      <th>f9</th>\n",
              "      <th>target</th>\n",
              "      <th>flight_duration_minutes</th>\n",
              "      <th>flight_duration_hours</th>\n",
              "      <th>tot_hour_diff</th>\n",
              "      <th>Day</th>\n",
              "      <th>Month</th>\n",
              "      <th>Year</th>\n",
              "    </tr>\n",
              "  </thead>\n",
              "  <tbody>\n",
              "    <tr>\n",
              "      <th>450565</th>\n",
              "      <td>0</td>\n",
              "      <td>0</td>\n",
              "      <td>0</td>\n",
              "      <td>0</td>\n",
              "      <td>0</td>\n",
              "      <td>1</td>\n",
              "      <td>0</td>\n",
              "      <td>0</td>\n",
              "      <td>0</td>\n",
              "      <td>0</td>\n",
              "      <td>...</td>\n",
              "      <td>True</td>\n",
              "      <td>20.0</td>\n",
              "      <td>1</td>\n",
              "      <td>10227.0</td>\n",
              "      <td>130.0</td>\n",
              "      <td>2.166667</td>\n",
              "      <td>71.636303</td>\n",
              "      <td>13</td>\n",
              "      <td>1</td>\n",
              "      <td>2021</td>\n",
              "    </tr>\n",
              "    <tr>\n",
              "      <th>5401245</th>\n",
              "      <td>0</td>\n",
              "      <td>1</td>\n",
              "      <td>0</td>\n",
              "      <td>0</td>\n",
              "      <td>0</td>\n",
              "      <td>0</td>\n",
              "      <td>0</td>\n",
              "      <td>0</td>\n",
              "      <td>0</td>\n",
              "      <td>0</td>\n",
              "      <td>...</td>\n",
              "      <td>True</td>\n",
              "      <td>20.0</td>\n",
              "      <td>1</td>\n",
              "      <td>8650.0</td>\n",
              "      <td>119.0</td>\n",
              "      <td>1.983333</td>\n",
              "      <td>1018.356358</td>\n",
              "      <td>24</td>\n",
              "      <td>4</td>\n",
              "      <td>2021</td>\n",
              "    </tr>\n",
              "    <tr>\n",
              "      <th>12610261</th>\n",
              "      <td>0</td>\n",
              "      <td>1</td>\n",
              "      <td>0</td>\n",
              "      <td>0</td>\n",
              "      <td>0</td>\n",
              "      <td>0</td>\n",
              "      <td>0</td>\n",
              "      <td>0</td>\n",
              "      <td>0</td>\n",
              "      <td>0</td>\n",
              "      <td>...</td>\n",
              "      <td>True</td>\n",
              "      <td>20.0</td>\n",
              "      <td>2</td>\n",
              "      <td>12545.0</td>\n",
              "      <td>120.0</td>\n",
              "      <td>2.000000</td>\n",
              "      <td>234.573423</td>\n",
              "      <td>3</td>\n",
              "      <td>7</td>\n",
              "      <td>2021</td>\n",
              "    </tr>\n",
              "    <tr>\n",
              "      <th>2366189</th>\n",
              "      <td>0</td>\n",
              "      <td>0</td>\n",
              "      <td>0</td>\n",
              "      <td>0</td>\n",
              "      <td>0</td>\n",
              "      <td>1</td>\n",
              "      <td>0</td>\n",
              "      <td>0</td>\n",
              "      <td>0</td>\n",
              "      <td>0</td>\n",
              "      <td>...</td>\n",
              "      <td>True</td>\n",
              "      <td>35.0</td>\n",
              "      <td>1</td>\n",
              "      <td>8027.0</td>\n",
              "      <td>130.0</td>\n",
              "      <td>2.166667</td>\n",
              "      <td>370.523156</td>\n",
              "      <td>1</td>\n",
              "      <td>3</td>\n",
              "      <td>2021</td>\n",
              "    </tr>\n",
              "    <tr>\n",
              "      <th>9285149</th>\n",
              "      <td>0</td>\n",
              "      <td>1</td>\n",
              "      <td>0</td>\n",
              "      <td>0</td>\n",
              "      <td>0</td>\n",
              "      <td>0</td>\n",
              "      <td>0</td>\n",
              "      <td>0</td>\n",
              "      <td>0</td>\n",
              "      <td>0</td>\n",
              "      <td>...</td>\n",
              "      <td>True</td>\n",
              "      <td>20.0</td>\n",
              "      <td>1</td>\n",
              "      <td>10900.0</td>\n",
              "      <td>119.0</td>\n",
              "      <td>1.983333</td>\n",
              "      <td>271.934327</td>\n",
              "      <td>10</td>\n",
              "      <td>6</td>\n",
              "      <td>2021</td>\n",
              "    </tr>\n",
              "  </tbody>\n",
              "</table>\n",
              "<p>5 rows × 31 columns</p>\n",
              "</div>\n",
              "      <button class=\"colab-df-convert\" onclick=\"convertToInteractive('df-b7eabf27-3eb9-40ec-9d8b-0bbadfa62c2b')\"\n",
              "              title=\"Convert this dataframe to an interactive table.\"\n",
              "              style=\"display:none;\">\n",
              "        \n",
              "  <svg xmlns=\"http://www.w3.org/2000/svg\" height=\"24px\"viewBox=\"0 0 24 24\"\n",
              "       width=\"24px\">\n",
              "    <path d=\"M0 0h24v24H0V0z\" fill=\"none\"/>\n",
              "    <path d=\"M18.56 5.44l.94 2.06.94-2.06 2.06-.94-2.06-.94-.94-2.06-.94 2.06-2.06.94zm-11 1L8.5 8.5l.94-2.06 2.06-.94-2.06-.94L8.5 2.5l-.94 2.06-2.06.94zm10 10l.94 2.06.94-2.06 2.06-.94-2.06-.94-.94-2.06-.94 2.06-2.06.94z\"/><path d=\"M17.41 7.96l-1.37-1.37c-.4-.4-.92-.59-1.43-.59-.52 0-1.04.2-1.43.59L10.3 9.45l-7.72 7.72c-.78.78-.78 2.05 0 2.83L4 21.41c.39.39.9.59 1.41.59.51 0 1.02-.2 1.41-.59l7.78-7.78 2.81-2.81c.8-.78.8-2.07 0-2.86zM5.41 20L4 18.59l7.72-7.72 1.47 1.35L5.41 20z\"/>\n",
              "  </svg>\n",
              "      </button>\n",
              "      \n",
              "  <style>\n",
              "    .colab-df-container {\n",
              "      display:flex;\n",
              "      flex-wrap:wrap;\n",
              "      gap: 12px;\n",
              "    }\n",
              "\n",
              "    .colab-df-convert {\n",
              "      background-color: #E8F0FE;\n",
              "      border: none;\n",
              "      border-radius: 50%;\n",
              "      cursor: pointer;\n",
              "      display: none;\n",
              "      fill: #1967D2;\n",
              "      height: 32px;\n",
              "      padding: 0 0 0 0;\n",
              "      width: 32px;\n",
              "    }\n",
              "\n",
              "    .colab-df-convert:hover {\n",
              "      background-color: #E2EBFA;\n",
              "      box-shadow: 0px 1px 2px rgba(60, 64, 67, 0.3), 0px 1px 3px 1px rgba(60, 64, 67, 0.15);\n",
              "      fill: #174EA6;\n",
              "    }\n",
              "\n",
              "    [theme=dark] .colab-df-convert {\n",
              "      background-color: #3B4455;\n",
              "      fill: #D2E3FC;\n",
              "    }\n",
              "\n",
              "    [theme=dark] .colab-df-convert:hover {\n",
              "      background-color: #434B5C;\n",
              "      box-shadow: 0px 1px 3px 1px rgba(0, 0, 0, 0.15);\n",
              "      filter: drop-shadow(0px 1px 2px rgba(0, 0, 0, 0.3));\n",
              "      fill: #FFFFFF;\n",
              "    }\n",
              "  </style>\n",
              "\n",
              "      <script>\n",
              "        const buttonEl =\n",
              "          document.querySelector('#df-b7eabf27-3eb9-40ec-9d8b-0bbadfa62c2b button.colab-df-convert');\n",
              "        buttonEl.style.display =\n",
              "          google.colab.kernel.accessAllowed ? 'block' : 'none';\n",
              "\n",
              "        async function convertToInteractive(key) {\n",
              "          const element = document.querySelector('#df-b7eabf27-3eb9-40ec-9d8b-0bbadfa62c2b');\n",
              "          const dataTable =\n",
              "            await google.colab.kernel.invokeFunction('convertToInteractive',\n",
              "                                                     [key], {});\n",
              "          if (!dataTable) return;\n",
              "\n",
              "          const docLinkHtml = 'Like what you see? Visit the ' +\n",
              "            '<a target=\"_blank\" href=https://colab.research.google.com/notebooks/data_table.ipynb>data table notebook</a>'\n",
              "            + ' to learn more about interactive tables.';\n",
              "          element.innerHTML = '';\n",
              "          dataTable['output_type'] = 'display_data';\n",
              "          await google.colab.output.renderOutput(dataTable, element);\n",
              "          const docLink = document.createElement('div');\n",
              "          docLink.innerHTML = docLinkHtml;\n",
              "          element.appendChild(docLink);\n",
              "        }\n",
              "      </script>\n",
              "    </div>\n",
              "  </div>\n",
              "  "
            ],
            "text/plain": [
              "          beta  gamma  omega  a-23  a-5  a-7  a-9  b-1  b-19  b-319  ...  \\\n",
              "450565       0      0      0     0    0    1    0    0     0      0  ...   \n",
              "5401245      0      1      0     0    0    0    0    0     0      0  ...   \n",
              "12610261     0      1      0     0    0    0    0    0     0      0  ...   \n",
              "2366189      0      0      0     0    0    1    0    0     0      0  ...   \n",
              "9285149      0      1      0     0    0    0    0    0     0      0  ...   \n",
              "\n",
              "            f7    f8  f9   target  flight_duration_minutes  \\\n",
              "450565    True  20.0   1  10227.0                    130.0   \n",
              "5401245   True  20.0   1   8650.0                    119.0   \n",
              "12610261  True  20.0   2  12545.0                    120.0   \n",
              "2366189   True  35.0   1   8027.0                    130.0   \n",
              "9285149   True  20.0   1  10900.0                    119.0   \n",
              "\n",
              "          flight_duration_hours  tot_hour_diff  Day  Month  Year  \n",
              "450565                 2.166667      71.636303   13      1  2021  \n",
              "5401245                1.983333    1018.356358   24      4  2021  \n",
              "12610261               2.000000     234.573423    3      7  2021  \n",
              "2366189                2.166667     370.523156    1      3  2021  \n",
              "9285149                1.983333     271.934327   10      6  2021  \n",
              "\n",
              "[5 rows x 31 columns]"
            ]
          },
          "execution_count": 38,
          "metadata": {},
          "output_type": "execute_result"
        }
      ],
      "source": [
        "final_df=pd.concat([f6,f10,df[continuous_col]],axis=1)\n",
        "final_df.head()"
      ]
    },
    {
      "cell_type": "code",
      "execution_count": 39,
      "metadata": {
        "id": "b7CBIronpzSP",
        "vscode": {
          "languageId": "python"
        }
      },
      "outputs": [],
      "source": [
        "final_df = final_df.drop(\"Year\", axis=1)"
      ]
    },
    {
      "cell_type": "markdown",
      "metadata": {
        "id": "QjQoGkJ3YXuY"
      },
      "source": [
        "###Outlier Detection"
      ]
    },
    {
      "cell_type": "code",
      "execution_count": 40,
      "metadata": {
        "id": "l8TXRGDPYoMH",
        "vscode": {
          "languageId": "python"
        }
      },
      "outputs": [],
      "source": [
        "def plot(data,col):\n",
        "    fig,(ax1,ax2)=plt.subplots(2,1)\n",
        "    sns.distplot(data[col],ax=ax1)\n",
        "    sns.boxplot(data[col],ax=ax2)"
      ]
    },
    {
      "cell_type": "code",
      "execution_count": 41,
      "metadata": {
        "colab": {
          "base_uri": "https://localhost:8080/",
          "height": 279
        },
        "id": "dHk1IxPTYrGU",
        "outputId": "2ab74da1-7b26-4338-a4e3-02561a7c4fc5",
        "vscode": {
          "languageId": "python"
        }
      },
      "outputs": [
        {
          "data": {
            "image/png": "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",
            "text/plain": [
              "<Figure size 432x288 with 2 Axes>"
            ]
          },
          "metadata": {
            "needs_background": "light"
          },
          "output_type": "display_data"
        }
      ],
      "source": [
        "plot(final_df,'target')"
      ]
    },
    {
      "cell_type": "markdown",
      "metadata": {
        "id": "tTX2DppWZMfl"
      },
      "source": [
        "###Handling outliers\n",
        "\n",
        "As there is some outliers in target feature,so we replace it with median."
      ]
    },
    {
      "cell_type": "code",
      "execution_count": 42,
      "metadata": {
        "id": "JLeRbMu9Y2vt",
        "vscode": {
          "languageId": "python"
        }
      },
      "outputs": [],
      "source": [
        "final_df['target']=np.where(final_df['target']>=17000,final_df['target'].median(),final_df['target'])"
      ]
    },
    {
      "cell_type": "code",
      "execution_count": 43,
      "metadata": {
        "colab": {
          "base_uri": "https://localhost:8080/",
          "height": 279
        },
        "id": "chKC0GdaY2oT",
        "outputId": "30c581a1-b784-41a4-9460-0c4c6460aa11",
        "vscode": {
          "languageId": "python"
        }
      },
      "outputs": [
        {
          "data": {
            "image/png": "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",
            "text/plain": [
              "<Figure size 432x288 with 2 Axes>"
            ]
          },
          "metadata": {
            "needs_background": "light"
          },
          "output_type": "display_data"
        }
      ],
      "source": [
        "plot(final_df,'target')"
      ]
    },
    {
      "cell_type": "markdown",
      "metadata": {
        "id": "O3FqFMh8Y2c_"
      },
      "source": [
        "### Separate the dataset in X and Y columns"
      ]
    },
    {
      "cell_type": "code",
      "execution_count": 44,
      "metadata": {
        "id": "ASag3lYbZqDh",
        "vscode": {
          "languageId": "python"
        }
      },
      "outputs": [],
      "source": [
        "X=final_df.drop('target',axis=1)\n",
        "y=final_df['target']"
      ]
    },
    {
      "cell_type": "markdown",
      "metadata": {
        "id": "potMVBZuagfv"
      },
      "source": [
        "# Feature Selection\n",
        "It is about finding the best feature and having good relation with independent variable\n",
        "Issue of dimensionality reduction reduces.\n",
        "\n",
        "For this we use mutual_info_classif"
      ]
    },
    {
      "cell_type": "code",
      "execution_count": 45,
      "metadata": {
        "id": "IFS2s9t4atOR",
        "vscode": {
          "languageId": "python"
        }
      },
      "outputs": [],
      "source": [
        "from sklearn.feature_selection import mutual_info_classif"
      ]
    },
    {
      "cell_type": "code",
      "execution_count": 46,
      "metadata": {
        "colab": {
          "base_uri": "https://localhost:8080/"
        },
        "id": "pKwpM5ILa8nq",
        "outputId": "462b047f-61a6-4b5e-da12-13606fdfa28b",
        "vscode": {
          "languageId": "python"
        }
      },
      "outputs": [
        {
          "data": {
            "text/plain": [
              "array([4.62392297e-01, 5.66497597e-01, 1.12571538e-01, 7.53373099e-02,\n",
              "       9.34398348e-02, 9.31356354e-02, 7.52492861e-02, 1.05894584e-01,\n",
              "       1.68896850e-02, 1.35310811e-03, 1.72519057e-03, 1.76704207e-02,\n",
              "       8.90771192e-02, 3.74484268e-03, 1.09265857e-01, 1.27277470e-01,\n",
              "       1.32237089e-01, 1.24708376e-01, 3.26238530e-02, 3.14748399e-02,\n",
              "       3.15444256e-02, 7.07334096e-02, 1.07572197e+00, 8.20691143e-01,\n",
              "       6.59684897e-01, 6.59677340e-01, 2.76457158e-01, 6.54777945e-01,\n",
              "       1.42216122e+00])"
            ]
          },
          "execution_count": 46,
          "metadata": {},
          "output_type": "execute_result"
        }
      ],
      "source": [
        "mutual_info_classif(X,y)"
      ]
    },
    {
      "cell_type": "code",
      "execution_count": 47,
      "metadata": {
        "colab": {
          "base_uri": "https://localhost:8080/",
          "height": 959
        },
        "id": "YC-xk1sBa9P5",
        "outputId": "142dc747-976c-4edb-b64a-fd5a59f9be46",
        "vscode": {
          "languageId": "python"
        }
      },
      "outputs": [
        {
          "data": {
            "text/html": [
              "\n",
              "  <div id=\"df-8b8e0ee4-ff42-431c-af9b-eb6bbf83a3ce\">\n",
              "    <div class=\"colab-df-container\">\n",
              "      <div>\n",
              "<style scoped>\n",
              "    .dataframe tbody tr th:only-of-type {\n",
              "        vertical-align: middle;\n",
              "    }\n",
              "\n",
              "    .dataframe tbody tr th {\n",
              "        vertical-align: top;\n",
              "    }\n",
              "\n",
              "    .dataframe thead th {\n",
              "        text-align: right;\n",
              "    }\n",
              "</style>\n",
              "<table border=\"1\" class=\"dataframe\">\n",
              "  <thead>\n",
              "    <tr style=\"text-align: right;\">\n",
              "      <th></th>\n",
              "      <th>0</th>\n",
              "    </tr>\n",
              "  </thead>\n",
              "  <tbody>\n",
              "    <tr>\n",
              "      <th>beta</th>\n",
              "      <td>0.460949</td>\n",
              "    </tr>\n",
              "    <tr>\n",
              "      <th>gamma</th>\n",
              "      <td>0.569511</td>\n",
              "    </tr>\n",
              "    <tr>\n",
              "      <th>omega</th>\n",
              "      <td>0.111854</td>\n",
              "    </tr>\n",
              "    <tr>\n",
              "      <th>a-23</th>\n",
              "      <td>0.072876</td>\n",
              "    </tr>\n",
              "    <tr>\n",
              "      <th>a-5</th>\n",
              "      <td>0.095475</td>\n",
              "    </tr>\n",
              "    <tr>\n",
              "      <th>a-7</th>\n",
              "      <td>0.091961</td>\n",
              "    </tr>\n",
              "    <tr>\n",
              "      <th>a-9</th>\n",
              "      <td>0.070254</td>\n",
              "    </tr>\n",
              "    <tr>\n",
              "      <th>b-1</th>\n",
              "      <td>0.104116</td>\n",
              "    </tr>\n",
              "    <tr>\n",
              "      <th>b-19</th>\n",
              "      <td>0.017419</td>\n",
              "    </tr>\n",
              "    <tr>\n",
              "      <th>b-319</th>\n",
              "      <td>0.002132</td>\n",
              "    </tr>\n",
              "    <tr>\n",
              "      <th>b-369</th>\n",
              "      <td>0.002293</td>\n",
              "    </tr>\n",
              "    <tr>\n",
              "      <th>b-67</th>\n",
              "      <td>0.013464</td>\n",
              "    </tr>\n",
              "    <tr>\n",
              "      <th>b-69</th>\n",
              "      <td>0.091289</td>\n",
              "    </tr>\n",
              "    <tr>\n",
              "      <th>b-73</th>\n",
              "      <td>0.003430</td>\n",
              "    </tr>\n",
              "    <tr>\n",
              "      <th>b-9</th>\n",
              "      <td>0.109498</td>\n",
              "    </tr>\n",
              "    <tr>\n",
              "      <th>c-2</th>\n",
              "      <td>0.126473</td>\n",
              "    </tr>\n",
              "    <tr>\n",
              "      <th>c-4</th>\n",
              "      <td>0.136208</td>\n",
              "    </tr>\n",
              "    <tr>\n",
              "      <th>c-6</th>\n",
              "      <td>0.124213</td>\n",
              "    </tr>\n",
              "    <tr>\n",
              "      <th>d-1</th>\n",
              "      <td>0.031895</td>\n",
              "    </tr>\n",
              "    <tr>\n",
              "      <th>d-3</th>\n",
              "      <td>0.031179</td>\n",
              "    </tr>\n",
              "    <tr>\n",
              "      <th>d-5</th>\n",
              "      <td>0.034517</td>\n",
              "    </tr>\n",
              "    <tr>\n",
              "      <th>f7</th>\n",
              "      <td>0.071827</td>\n",
              "    </tr>\n",
              "    <tr>\n",
              "      <th>f8</th>\n",
              "      <td>1.073361</td>\n",
              "    </tr>\n",
              "    <tr>\n",
              "      <th>f9</th>\n",
              "      <td>0.820394</td>\n",
              "    </tr>\n",
              "    <tr>\n",
              "      <th>flight_duration_minutes</th>\n",
              "      <td>0.657382</td>\n",
              "    </tr>\n",
              "    <tr>\n",
              "      <th>flight_duration_hours</th>\n",
              "      <td>0.660315</td>\n",
              "    </tr>\n",
              "    <tr>\n",
              "      <th>tot_hour_diff</th>\n",
              "      <td>0.276458</td>\n",
              "    </tr>\n",
              "    <tr>\n",
              "      <th>Day</th>\n",
              "      <td>0.653247</td>\n",
              "    </tr>\n",
              "    <tr>\n",
              "      <th>Month</th>\n",
              "      <td>1.419651</td>\n",
              "    </tr>\n",
              "  </tbody>\n",
              "</table>\n",
              "</div>\n",
              "      <button class=\"colab-df-convert\" onclick=\"convertToInteractive('df-8b8e0ee4-ff42-431c-af9b-eb6bbf83a3ce')\"\n",
              "              title=\"Convert this dataframe to an interactive table.\"\n",
              "              style=\"display:none;\">\n",
              "        \n",
              "  <svg xmlns=\"http://www.w3.org/2000/svg\" height=\"24px\"viewBox=\"0 0 24 24\"\n",
              "       width=\"24px\">\n",
              "    <path d=\"M0 0h24v24H0V0z\" fill=\"none\"/>\n",
              "    <path d=\"M18.56 5.44l.94 2.06.94-2.06 2.06-.94-2.06-.94-.94-2.06-.94 2.06-2.06.94zm-11 1L8.5 8.5l.94-2.06 2.06-.94-2.06-.94L8.5 2.5l-.94 2.06-2.06.94zm10 10l.94 2.06.94-2.06 2.06-.94-2.06-.94-.94-2.06-.94 2.06-2.06.94z\"/><path d=\"M17.41 7.96l-1.37-1.37c-.4-.4-.92-.59-1.43-.59-.52 0-1.04.2-1.43.59L10.3 9.45l-7.72 7.72c-.78.78-.78 2.05 0 2.83L4 21.41c.39.39.9.59 1.41.59.51 0 1.02-.2 1.41-.59l7.78-7.78 2.81-2.81c.8-.78.8-2.07 0-2.86zM5.41 20L4 18.59l7.72-7.72 1.47 1.35L5.41 20z\"/>\n",
              "  </svg>\n",
              "      </button>\n",
              "      \n",
              "  <style>\n",
              "    .colab-df-container {\n",
              "      display:flex;\n",
              "      flex-wrap:wrap;\n",
              "      gap: 12px;\n",
              "    }\n",
              "\n",
              "    .colab-df-convert {\n",
              "      background-color: #E8F0FE;\n",
              "      border: none;\n",
              "      border-radius: 50%;\n",
              "      cursor: pointer;\n",
              "      display: none;\n",
              "      fill: #1967D2;\n",
              "      height: 32px;\n",
              "      padding: 0 0 0 0;\n",
              "      width: 32px;\n",
              "    }\n",
              "\n",
              "    .colab-df-convert:hover {\n",
              "      background-color: #E2EBFA;\n",
              "      box-shadow: 0px 1px 2px rgba(60, 64, 67, 0.3), 0px 1px 3px 1px rgba(60, 64, 67, 0.15);\n",
              "      fill: #174EA6;\n",
              "    }\n",
              "\n",
              "    [theme=dark] .colab-df-convert {\n",
              "      background-color: #3B4455;\n",
              "      fill: #D2E3FC;\n",
              "    }\n",
              "\n",
              "    [theme=dark] .colab-df-convert:hover {\n",
              "      background-color: #434B5C;\n",
              "      box-shadow: 0px 1px 3px 1px rgba(0, 0, 0, 0.15);\n",
              "      filter: drop-shadow(0px 1px 2px rgba(0, 0, 0, 0.3));\n",
              "      fill: #FFFFFF;\n",
              "    }\n",
              "  </style>\n",
              "\n",
              "      <script>\n",
              "        const buttonEl =\n",
              "          document.querySelector('#df-8b8e0ee4-ff42-431c-af9b-eb6bbf83a3ce button.colab-df-convert');\n",
              "        buttonEl.style.display =\n",
              "          google.colab.kernel.accessAllowed ? 'block' : 'none';\n",
              "\n",
              "        async function convertToInteractive(key) {\n",
              "          const element = document.querySelector('#df-8b8e0ee4-ff42-431c-af9b-eb6bbf83a3ce');\n",
              "          const dataTable =\n",
              "            await google.colab.kernel.invokeFunction('convertToInteractive',\n",
              "                                                     [key], {});\n",
              "          if (!dataTable) return;\n",
              "\n",
              "          const docLinkHtml = 'Like what you see? Visit the ' +\n",
              "            '<a target=\"_blank\" href=https://colab.research.google.com/notebooks/data_table.ipynb>data table notebook</a>'\n",
              "            + ' to learn more about interactive tables.';\n",
              "          element.innerHTML = '';\n",
              "          dataTable['output_type'] = 'display_data';\n",
              "          await google.colab.output.renderOutput(dataTable, element);\n",
              "          const docLink = document.createElement('div');\n",
              "          docLink.innerHTML = docLinkHtml;\n",
              "          element.appendChild(docLink);\n",
              "        }\n",
              "      </script>\n",
              "    </div>\n",
              "  </div>\n",
              "  "
            ],
            "text/plain": [
              "                                0\n",
              "beta                     0.460949\n",
              "gamma                    0.569511\n",
              "omega                    0.111854\n",
              "a-23                     0.072876\n",
              "a-5                      0.095475\n",
              "a-7                      0.091961\n",
              "a-9                      0.070254\n",
              "b-1                      0.104116\n",
              "b-19                     0.017419\n",
              "b-319                    0.002132\n",
              "b-369                    0.002293\n",
              "b-67                     0.013464\n",
              "b-69                     0.091289\n",
              "b-73                     0.003430\n",
              "b-9                      0.109498\n",
              "c-2                      0.126473\n",
              "c-4                      0.136208\n",
              "c-6                      0.124213\n",
              "d-1                      0.031895\n",
              "d-3                      0.031179\n",
              "d-5                      0.034517\n",
              "f7                       0.071827\n",
              "f8                       1.073361\n",
              "f9                       0.820394\n",
              "flight_duration_minutes  0.657382\n",
              "flight_duration_hours    0.660315\n",
              "tot_hour_diff            0.276458\n",
              "Day                      0.653247\n",
              "Month                    1.419651"
            ]
          },
          "execution_count": 47,
          "metadata": {},
          "output_type": "execute_result"
        }
      ],
      "source": [
        "imp = pd.DataFrame(mutual_info_classif(X,y),index=X.columns)\n",
        "imp"
      ]
    },
    {
      "cell_type": "code",
      "execution_count": 48,
      "metadata": {
        "colab": {
          "base_uri": "https://localhost:8080/",
          "height": 959
        },
        "id": "IbijnHKJbAD7",
        "outputId": "d0b03010-bf94-4e1d-95a0-053a46c0e8b0",
        "vscode": {
          "languageId": "python"
        }
      },
      "outputs": [
        {
          "data": {
            "text/html": [
              "\n",
              "  <div id=\"df-8882ad92-b6fa-47bc-bd62-7f211d14818a\">\n",
              "    <div class=\"colab-df-container\">\n",
              "      <div>\n",
              "<style scoped>\n",
              "    .dataframe tbody tr th:only-of-type {\n",
              "        vertical-align: middle;\n",
              "    }\n",
              "\n",
              "    .dataframe tbody tr th {\n",
              "        vertical-align: top;\n",
              "    }\n",
              "\n",
              "    .dataframe thead th {\n",
              "        text-align: right;\n",
              "    }\n",
              "</style>\n",
              "<table border=\"1\" class=\"dataframe\">\n",
              "  <thead>\n",
              "    <tr style=\"text-align: right;\">\n",
              "      <th></th>\n",
              "      <th>importance</th>\n",
              "    </tr>\n",
              "  </thead>\n",
              "  <tbody>\n",
              "    <tr>\n",
              "      <th>Month</th>\n",
              "      <td>1.419651</td>\n",
              "    </tr>\n",
              "    <tr>\n",
              "      <th>f8</th>\n",
              "      <td>1.073361</td>\n",
              "    </tr>\n",
              "    <tr>\n",
              "      <th>f9</th>\n",
              "      <td>0.820394</td>\n",
              "    </tr>\n",
              "    <tr>\n",
              "      <th>flight_duration_hours</th>\n",
              "      <td>0.660315</td>\n",
              "    </tr>\n",
              "    <tr>\n",
              "      <th>flight_duration_minutes</th>\n",
              "      <td>0.657382</td>\n",
              "    </tr>\n",
              "    <tr>\n",
              "      <th>Day</th>\n",
              "      <td>0.653247</td>\n",
              "    </tr>\n",
              "    <tr>\n",
              "      <th>gamma</th>\n",
              "      <td>0.569511</td>\n",
              "    </tr>\n",
              "    <tr>\n",
              "      <th>beta</th>\n",
              "      <td>0.460949</td>\n",
              "    </tr>\n",
              "    <tr>\n",
              "      <th>tot_hour_diff</th>\n",
              "      <td>0.276458</td>\n",
              "    </tr>\n",
              "    <tr>\n",
              "      <th>c-4</th>\n",
              "      <td>0.136208</td>\n",
              "    </tr>\n",
              "    <tr>\n",
              "      <th>c-2</th>\n",
              "      <td>0.126473</td>\n",
              "    </tr>\n",
              "    <tr>\n",
              "      <th>c-6</th>\n",
              "      <td>0.124213</td>\n",
              "    </tr>\n",
              "    <tr>\n",
              "      <th>omega</th>\n",
              "      <td>0.111854</td>\n",
              "    </tr>\n",
              "    <tr>\n",
              "      <th>b-9</th>\n",
              "      <td>0.109498</td>\n",
              "    </tr>\n",
              "    <tr>\n",
              "      <th>b-1</th>\n",
              "      <td>0.104116</td>\n",
              "    </tr>\n",
              "    <tr>\n",
              "      <th>a-5</th>\n",
              "      <td>0.095475</td>\n",
              "    </tr>\n",
              "    <tr>\n",
              "      <th>a-7</th>\n",
              "      <td>0.091961</td>\n",
              "    </tr>\n",
              "    <tr>\n",
              "      <th>b-69</th>\n",
              "      <td>0.091289</td>\n",
              "    </tr>\n",
              "    <tr>\n",
              "      <th>a-23</th>\n",
              "      <td>0.072876</td>\n",
              "    </tr>\n",
              "    <tr>\n",
              "      <th>f7</th>\n",
              "      <td>0.071827</td>\n",
              "    </tr>\n",
              "    <tr>\n",
              "      <th>a-9</th>\n",
              "      <td>0.070254</td>\n",
              "    </tr>\n",
              "    <tr>\n",
              "      <th>d-5</th>\n",
              "      <td>0.034517</td>\n",
              "    </tr>\n",
              "    <tr>\n",
              "      <th>d-1</th>\n",
              "      <td>0.031895</td>\n",
              "    </tr>\n",
              "    <tr>\n",
              "      <th>d-3</th>\n",
              "      <td>0.031179</td>\n",
              "    </tr>\n",
              "    <tr>\n",
              "      <th>b-19</th>\n",
              "      <td>0.017419</td>\n",
              "    </tr>\n",
              "    <tr>\n",
              "      <th>b-67</th>\n",
              "      <td>0.013464</td>\n",
              "    </tr>\n",
              "    <tr>\n",
              "      <th>b-73</th>\n",
              "      <td>0.003430</td>\n",
              "    </tr>\n",
              "    <tr>\n",
              "      <th>b-369</th>\n",
              "      <td>0.002293</td>\n",
              "    </tr>\n",
              "    <tr>\n",
              "      <th>b-319</th>\n",
              "      <td>0.002132</td>\n",
              "    </tr>\n",
              "  </tbody>\n",
              "</table>\n",
              "</div>\n",
              "      <button class=\"colab-df-convert\" onclick=\"convertToInteractive('df-8882ad92-b6fa-47bc-bd62-7f211d14818a')\"\n",
              "              title=\"Convert this dataframe to an interactive table.\"\n",
              "              style=\"display:none;\">\n",
              "        \n",
              "  <svg xmlns=\"http://www.w3.org/2000/svg\" height=\"24px\"viewBox=\"0 0 24 24\"\n",
              "       width=\"24px\">\n",
              "    <path d=\"M0 0h24v24H0V0z\" fill=\"none\"/>\n",
              "    <path d=\"M18.56 5.44l.94 2.06.94-2.06 2.06-.94-2.06-.94-.94-2.06-.94 2.06-2.06.94zm-11 1L8.5 8.5l.94-2.06 2.06-.94-2.06-.94L8.5 2.5l-.94 2.06-2.06.94zm10 10l.94 2.06.94-2.06 2.06-.94-2.06-.94-.94-2.06-.94 2.06-2.06.94z\"/><path d=\"M17.41 7.96l-1.37-1.37c-.4-.4-.92-.59-1.43-.59-.52 0-1.04.2-1.43.59L10.3 9.45l-7.72 7.72c-.78.78-.78 2.05 0 2.83L4 21.41c.39.39.9.59 1.41.59.51 0 1.02-.2 1.41-.59l7.78-7.78 2.81-2.81c.8-.78.8-2.07 0-2.86zM5.41 20L4 18.59l7.72-7.72 1.47 1.35L5.41 20z\"/>\n",
              "  </svg>\n",
              "      </button>\n",
              "      \n",
              "  <style>\n",
              "    .colab-df-container {\n",
              "      display:flex;\n",
              "      flex-wrap:wrap;\n",
              "      gap: 12px;\n",
              "    }\n",
              "\n",
              "    .colab-df-convert {\n",
              "      background-color: #E8F0FE;\n",
              "      border: none;\n",
              "      border-radius: 50%;\n",
              "      cursor: pointer;\n",
              "      display: none;\n",
              "      fill: #1967D2;\n",
              "      height: 32px;\n",
              "      padding: 0 0 0 0;\n",
              "      width: 32px;\n",
              "    }\n",
              "\n",
              "    .colab-df-convert:hover {\n",
              "      background-color: #E2EBFA;\n",
              "      box-shadow: 0px 1px 2px rgba(60, 64, 67, 0.3), 0px 1px 3px 1px rgba(60, 64, 67, 0.15);\n",
              "      fill: #174EA6;\n",
              "    }\n",
              "\n",
              "    [theme=dark] .colab-df-convert {\n",
              "      background-color: #3B4455;\n",
              "      fill: #D2E3FC;\n",
              "    }\n",
              "\n",
              "    [theme=dark] .colab-df-convert:hover {\n",
              "      background-color: #434B5C;\n",
              "      box-shadow: 0px 1px 3px 1px rgba(0, 0, 0, 0.15);\n",
              "      filter: drop-shadow(0px 1px 2px rgba(0, 0, 0, 0.3));\n",
              "      fill: #FFFFFF;\n",
              "    }\n",
              "  </style>\n",
              "\n",
              "      <script>\n",
              "        const buttonEl =\n",
              "          document.querySelector('#df-8882ad92-b6fa-47bc-bd62-7f211d14818a button.colab-df-convert');\n",
              "        buttonEl.style.display =\n",
              "          google.colab.kernel.accessAllowed ? 'block' : 'none';\n",
              "\n",
              "        async function convertToInteractive(key) {\n",
              "          const element = document.querySelector('#df-8882ad92-b6fa-47bc-bd62-7f211d14818a');\n",
              "          const dataTable =\n",
              "            await google.colab.kernel.invokeFunction('convertToInteractive',\n",
              "                                                     [key], {});\n",
              "          if (!dataTable) return;\n",
              "\n",
              "          const docLinkHtml = 'Like what you see? Visit the ' +\n",
              "            '<a target=\"_blank\" href=https://colab.research.google.com/notebooks/data_table.ipynb>data table notebook</a>'\n",
              "            + ' to learn more about interactive tables.';\n",
              "          element.innerHTML = '';\n",
              "          dataTable['output_type'] = 'display_data';\n",
              "          await google.colab.output.renderOutput(dataTable, element);\n",
              "          const docLink = document.createElement('div');\n",
              "          docLink.innerHTML = docLinkHtml;\n",
              "          element.appendChild(docLink);\n",
              "        }\n",
              "      </script>\n",
              "    </div>\n",
              "  </div>\n",
              "  "
            ],
            "text/plain": [
              "                         importance\n",
              "Month                      1.419651\n",
              "f8                         1.073361\n",
              "f9                         0.820394\n",
              "flight_duration_hours      0.660315\n",
              "flight_duration_minutes    0.657382\n",
              "Day                        0.653247\n",
              "gamma                      0.569511\n",
              "beta                       0.460949\n",
              "tot_hour_diff              0.276458\n",
              "c-4                        0.136208\n",
              "c-2                        0.126473\n",
              "c-6                        0.124213\n",
              "omega                      0.111854\n",
              "b-9                        0.109498\n",
              "b-1                        0.104116\n",
              "a-5                        0.095475\n",
              "a-7                        0.091961\n",
              "b-69                       0.091289\n",
              "a-23                       0.072876\n",
              "f7                         0.071827\n",
              "a-9                        0.070254\n",
              "d-5                        0.034517\n",
              "d-1                        0.031895\n",
              "d-3                        0.031179\n",
              "b-19                       0.017419\n",
              "b-67                       0.013464\n",
              "b-73                       0.003430\n",
              "b-369                      0.002293\n",
              "b-319                      0.002132"
            ]
          },
          "execution_count": 48,
          "metadata": {},
          "output_type": "execute_result"
        }
      ],
      "source": [
        "imp.columns=['importance']\n",
        "imp.sort_values(by='importance',ascending=False)"
      ]
    },
    {
      "cell_type": "markdown",
      "metadata": {
        "id": "uHqC7ej2bDPo"
      },
      "source": [
        "As we can see from the table, there are several features that have approx 0 value,so we should remove it after authorizing it.But for now,we are not removing it."
      ]
    },
    {
      "cell_type": "markdown",
      "metadata": {
        "id": "fHl3-BREbc13"
      },
      "source": [
        "# Model"
      ]
    },
    {
      "cell_type": "markdown",
      "metadata": {
        "id": "1QIywoG1bWF3"
      },
      "source": [
        "Machine Learning models have proven their efficiency in problems like price prediction so we will be using multiple machine learning models and choose the best model on the basis of evaluation metrics like regression score and root mean square error(RMSE)"
      ]
    },
    {
      "cell_type": "code",
      "execution_count": 49,
      "metadata": {
        "id": "dUM3vG1ubf7i",
        "vscode": {
          "languageId": "python"
        }
      },
      "outputs": [],
      "source": [
        "# spiliting the dataset\n",
        "from sklearn.model_selection import train_test_split\n",
        "X_train,X_test,y_train,y_test = train_test_split(X,y,test_size=0.20,random_state=123)"
      ]
    },
    {
      "cell_type": "code",
      "execution_count": 50,
      "metadata": {
        "id": "Z0TCxIqSbnwr",
        "vscode": {
          "languageId": "python"
        }
      },
      "outputs": [],
      "source": [
        "from sklearn.metrics import r2_score,mean_absolute_error,mean_squared_error\n",
        "def predict(ml_model):\n",
        "    print('Model is: {}'.format(ml_model))\n",
        "    model= ml_model.fit(X_train,y_train)\n",
        "    print(\"Training score: {}\".format(model.score(X_train,y_train)))\n",
        "    predictions = model.predict(X_test)\n",
        "    print(\"Predictions are: {}\".format(predictions))\n",
        "    print('\\n')\n",
        "    r2score=r2_score(y_test,predictions) \n",
        "    print(\"r2 score is: {}\".format(r2score))\n",
        "          \n",
        "    print('MAE:{}'.format(mean_absolute_error(y_test,predictions)))\n",
        "    print('MSE:{}'.format(mean_squared_error(y_test,predictions)))\n",
        "    print('RMSE:{}'.format(np.sqrt(mean_squared_error(y_test,predictions))))\n",
        "     \n",
        "    sns.distplot(y_test-predictions) \n",
        "    return model \n"
      ]
    },
    {
      "cell_type": "code",
      "execution_count": 51,
      "metadata": {
        "id": "cp0pE7eIbtZR",
        "vscode": {
          "languageId": "python"
        }
      },
      "outputs": [],
      "source": [
        "from sklearn.linear_model import LogisticRegression\n",
        "from sklearn.neighbors import KNeighborsRegressor\n",
        "from sklearn.tree import DecisionTreeRegressor\n",
        "from sklearn.ensemble import GradientBoostingRegressor,RandomForestRegressor"
      ]
    },
    {
      "cell_type": "code",
      "execution_count": 52,
      "metadata": {
        "colab": {
          "base_uri": "https://localhost:8080/",
          "height": 435
        },
        "id": "G3LSpIiobwNe",
        "outputId": "c4a3138a-7713-41ca-c632-305e1d47cac9",
        "vscode": {
          "languageId": "python"
        }
      },
      "outputs": [
        {
          "name": "stdout",
          "output_type": "stream",
          "text": [
            "Model is: RandomForestRegressor()\n",
            "Training score: 0.9791426815832112\n",
            "Predictions are: [10128.33  9691.64  7372.15 ... 10063.9  14960.28  9261.79]\n",
            "\n",
            "\n",
            "r2 score is: 0.8523250978080814\n",
            "MAE:400.95738516666665\n",
            "MSE:724395.7190291517\n",
            "RMSE:851.1143983209024\n"
          ]
        },
        {
          "data": {
            "image/png": "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",
            "text/plain": [
              "<Figure size 432x288 with 1 Axes>"
            ]
          },
          "metadata": {
            "needs_background": "light"
          },
          "output_type": "display_data"
        }
      ],
      "source": [
        "model = predict(RandomForestRegressor())"
      ]
    },
    {
      "cell_type": "code",
      "execution_count": 55,
      "metadata": {
        "colab": {
          "base_uri": "https://localhost:8080/",
          "height": 453
        },
        "id": "mbOWAcHicNQY",
        "outputId": "667db303-493c-4bf9-939c-5e642bde15db",
        "vscode": {
          "languageId": "python"
        }
      },
      "outputs": [
        {
          "name": "stdout",
          "output_type": "stream",
          "text": [
            "Model is: DecisionTreeRegressor()\n",
            "Training score: 1.0\n",
            "Predictions are: [ 9798.  7900.  7390. ... 10057. 15065.  7900.]\n",
            "\n",
            "\n",
            "r2 score is: 0.7535422148501025\n",
            "MAE:375.21091666666666\n",
            "MSE:1208959.4225833334\n",
            "RMSE:1099.526908530816\n"
          ]
        },
        {
          "data": {
            "text/plain": [
              "DecisionTreeRegressor()"
            ]
          },
          "execution_count": 55,
          "metadata": {},
          "output_type": "execute_result"
        },
        {
          "data": {
            "image/png": "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",
            "text/plain": [
              "<Figure size 432x288 with 1 Axes>"
            ]
          },
          "metadata": {
            "needs_background": "light"
          },
          "output_type": "display_data"
        }
      ],
      "source": [
        "predict(DecisionTreeRegressor())"
      ]
    },
    {
      "cell_type": "code",
      "execution_count": 56,
      "metadata": {
        "colab": {
          "base_uri": "https://localhost:8080/",
          "height": 470
        },
        "id": "M90JT7CncTy-",
        "outputId": "a7d430ed-b93f-4c23-cb01-392dfd392460",
        "vscode": {
          "languageId": "python"
        }
      },
      "outputs": [
        {
          "name": "stdout",
          "output_type": "stream",
          "text": [
            "Model is: GradientBoostingRegressor()\n",
            "Training score: 0.4328084166693059\n",
            "Predictions are: [ 9541.26519661  8583.977883    8145.79903453 ...  8581.41762315\n",
            " 11307.1909989   8859.75351864]\n",
            "\n",
            "\n",
            "r2 score is: 0.43686954095761077\n",
            "MAE:1253.7488348609622\n",
            "MSE:2762346.8018626617\n",
            "RMSE:1662.030926867085\n"
          ]
        },
        {
          "data": {
            "text/plain": [
              "GradientBoostingRegressor()"
            ]
          },
          "execution_count": 56,
          "metadata": {},
          "output_type": "execute_result"
        },
        {
          "data": {
            "image/png": "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",
            "text/plain": [
              "<Figure size 432x288 with 1 Axes>"
            ]
          },
          "metadata": {
            "needs_background": "light"
          },
          "output_type": "display_data"
        }
      ],
      "source": [
        "predict(GradientBoostingRegressor())"
      ]
    },
    {
      "cell_type": "markdown",
      "metadata": {
        "id": "W7lhxJZxIIJF"
      },
      "source": [
        "Out of above 3 machine learning regression models, RandomForestRegressor performed well as compare to others. We will further tune it to improve the performance."
      ]
    },
    {
      "cell_type": "markdown",
      "metadata": {
        "id": "yStVY6kshDN5"
      },
      "source": [
        "## Hyperparameter Tuning"
      ]
    },
    {
      "cell_type": "markdown",
      "metadata": {
        "id": "8bVTVDQpG5se"
      },
      "source": [
        "Hyper parameter tuning (optimization) is an essential aspect of machine learning process. A good choice of hyperparameters can really make a model succeed in meeting desired metric value.\n",
        "\n",
        "In randomizedsearchcv, instead of providing a discrete set of values to explore on each hyperparameter, we provide a statistical distribution or list of hyper parameters. Values for the different hyper parameters are picked up at random from this distribution."
      ]
    },
    {
      "cell_type": "code",
      "execution_count": 58,
      "metadata": {
        "id": "77djYshzhKNp",
        "vscode": {
          "languageId": "python"
        }
      },
      "outputs": [],
      "source": [
        "from sklearn.model_selection import RandomizedSearchCV\n"
      ]
    },
    {
      "cell_type": "code",
      "execution_count": 59,
      "metadata": {
        "id": "H6MOx92DhLuQ",
        "vscode": {
          "languageId": "python"
        }
      },
      "outputs": [],
      "source": [
        "random_grid = {\n",
        "    'n_estimators' : [100,150],\n",
        "    'max_features':['auto','sqrt'],\n",
        "    }"
      ]
    },
    {
      "cell_type": "code",
      "execution_count": 60,
      "metadata": {
        "colab": {
          "base_uri": "https://localhost:8080/"
        },
        "id": "la6RjwSVhNc7",
        "outputId": "ea0e9526-7f31-4b96-fde3-8894dfd22a2b",
        "vscode": {
          "languageId": "python"
        }
      },
      "outputs": [
        {
          "name": "stdout",
          "output_type": "stream",
          "text": [
            "Fitting 3 folds for each of 1 candidates, totalling 3 fits\n"
          ]
        },
        {
          "data": {
            "text/plain": [
              "{'max_features': 'sqrt', 'n_estimators': 150}"
            ]
          },
          "execution_count": 60,
          "metadata": {},
          "output_type": "execute_result"
        }
      ],
      "source": [
        "rf=RandomForestRegressor()\n",
        "rf_random=RandomizedSearchCV(estimator=rf,param_distributions=random_grid,cv=3,verbose=2,n_jobs=-1,)\n",
        "\n",
        "rf_random.fit(X_train,y_train)\n",
        "\n",
        "# best parameter\n",
        "rf_random.best_params_"
      ]
    },
    {
      "cell_type": "code",
      "execution_count": 61,
      "metadata": {
        "colab": {
          "base_uri": "https://localhost:8080/"
        },
        "id": "uvAbQr4nhQO9",
        "outputId": "5951fb5b-ad01-4fe1-fe8f-8da6e673107e",
        "vscode": {
          "languageId": "python"
        }
      },
      "outputs": [
        {
          "data": {
            "text/plain": [
              "{'max_features': 'sqrt', 'n_estimators': 150}"
            ]
          },
          "execution_count": 61,
          "metadata": {},
          "output_type": "execute_result"
        }
      ],
      "source": [
        "# best parameter\n",
        "rf_random.best_params_"
      ]
    },
    {
      "cell_type": "code",
      "execution_count": 62,
      "metadata": {
        "colab": {
          "base_uri": "https://localhost:8080/",
          "height": 386
        },
        "id": "2vuaNjE2hSHu",
        "outputId": "ddb120fe-dc15-452c-894f-cae9080eb3ad",
        "vscode": {
          "languageId": "python"
        }
      },
      "outputs": [
        {
          "data": {
            "text/plain": [
              "<seaborn.axisgrid.FacetGrid at 0x7fb622215ed0>"
            ]
          },
          "execution_count": 62,
          "metadata": {},
          "output_type": "execute_result"
        },
        {
          "data": {
            "image/png": "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",
            "text/plain": [
              "<Figure size 360x360 with 1 Axes>"
            ]
          },
          "metadata": {
            "needs_background": "light"
          },
          "output_type": "display_data"
        }
      ],
      "source": [
        "#predicting the values\n",
        "prediction = rf_random.predict(X_test)\n",
        "\n",
        "#distribution plot between actual value and predicted value\n",
        "sns.displot(y_test-prediction)"
      ]
    },
    {
      "cell_type": "code",
      "execution_count": 63,
      "metadata": {
        "colab": {
          "base_uri": "https://localhost:8080/"
        },
        "id": "zRvbCyGQhT4e",
        "outputId": "75301399-bc9a-42f9-a51c-7ec7fd1615c8",
        "vscode": {
          "languageId": "python"
        }
      },
      "outputs": [
        {
          "data": {
            "text/plain": [
              "0.8617469881843163"
            ]
          },
          "execution_count": 63,
          "metadata": {},
          "output_type": "execute_result"
        }
      ],
      "source": [
        "r2_score(y_test,prediction)"
      ]
    },
    {
      "cell_type": "code",
      "execution_count": 64,
      "metadata": {
        "colab": {
          "base_uri": "https://localhost:8080/"
        },
        "id": "8RASnQz_t1k7",
        "outputId": "e1beb540-3e2a-4bdb-87c1-0ba76c93eaa3",
        "vscode": {
          "languageId": "python"
        }
      },
      "outputs": [
        {
          "name": "stdout",
          "output_type": "stream",
          "text": [
            "RMSE:823.5157169099855\n"
          ]
        }
      ],
      "source": [
        "print('RMSE:{}'.format(np.sqrt(mean_squared_error(y_test,prediction))))"
      ]
    },
    {
      "cell_type": "markdown",
      "metadata": {
        "id": "KhDpy9IFIAVn"
      },
      "source": [
        "After hypertuning,the accuracy increases and the RMSE decreases."
      ]
    },
    {
      "cell_type": "markdown",
      "metadata": {
        "id": "ToECEWEFt5yV"
      },
      "source": [
        "# Saving the model for Predictions"
      ]
    },
    {
      "cell_type": "code",
      "execution_count": 65,
      "metadata": {
        "id": "I1m8XzoEucgZ",
        "vscode": {
          "languageId": "python"
        }
      },
      "outputs": [],
      "source": [
        "filename = '/content/drive/MyDrive/Colab Notebooks/SastaTicket Competition/finalized_model.sav'\n",
        "pickle.dump(rf_random, open(filename, 'wb'))"
      ]
    },
    {
      "cell_type": "markdown",
      "metadata": {
        "id": "Q23ACB_GurYf"
      },
      "source": [
        "# Predictions"
      ]
    },
    {
      "cell_type": "code",
      "execution_count": 66,
      "metadata": {
        "colab": {
          "base_uri": "https://localhost:8080/",
          "height": 206
        },
        "id": "tdfKh4fCuzFW",
        "outputId": "a45fe54c-aae9-42eb-b312-3dc2e0573967",
        "vscode": {
          "languageId": "python"
        }
      },
      "outputs": [
        {
          "data": {
            "text/html": [
              "\n",
              "  <div id=\"df-39a0c3c6-d641-4cfa-bda7-075286947df1\">\n",
              "    <div class=\"colab-df-container\">\n",
              "      <div>\n",
              "<style scoped>\n",
              "    .dataframe tbody tr th:only-of-type {\n",
              "        vertical-align: middle;\n",
              "    }\n",
              "\n",
              "    .dataframe tbody tr th {\n",
              "        vertical-align: top;\n",
              "    }\n",
              "\n",
              "    .dataframe thead th {\n",
              "        text-align: right;\n",
              "    }\n",
              "</style>\n",
              "<table border=\"1\" class=\"dataframe\">\n",
              "  <thead>\n",
              "    <tr style=\"text-align: right;\">\n",
              "      <th></th>\n",
              "      <th>f1</th>\n",
              "      <th>f2</th>\n",
              "      <th>f3</th>\n",
              "      <th>f4</th>\n",
              "      <th>f5</th>\n",
              "      <th>f6</th>\n",
              "      <th>f7</th>\n",
              "      <th>f8</th>\n",
              "      <th>f9</th>\n",
              "      <th>f10</th>\n",
              "    </tr>\n",
              "  </thead>\n",
              "  <tbody>\n",
              "    <tr>\n",
              "      <th>0</th>\n",
              "      <td>2021-09-01 08:30:19.320999+00:00</td>\n",
              "      <td>x</td>\n",
              "      <td>y</td>\n",
              "      <td>2021-09-08 11:00:00+00:00</td>\n",
              "      <td>2021-09-08 12:55:00+00:00</td>\n",
              "      <td>beta</td>\n",
              "      <td>True</td>\n",
              "      <td>40.0</td>\n",
              "      <td>0</td>\n",
              "      <td>b-69</td>\n",
              "    </tr>\n",
              "    <tr>\n",
              "      <th>1</th>\n",
              "      <td>2021-09-01 08:30:19.320999+00:00</td>\n",
              "      <td>x</td>\n",
              "      <td>y</td>\n",
              "      <td>2021-09-08 14:00:00+00:00</td>\n",
              "      <td>2021-09-08 15:55:00+00:00</td>\n",
              "      <td>beta</td>\n",
              "      <td>True</td>\n",
              "      <td>40.0</td>\n",
              "      <td>0</td>\n",
              "      <td>b-9</td>\n",
              "    </tr>\n",
              "    <tr>\n",
              "      <th>2</th>\n",
              "      <td>2021-09-01 08:30:19.320999+00:00</td>\n",
              "      <td>x</td>\n",
              "      <td>y</td>\n",
              "      <td>2021-09-08 05:00:00+00:00</td>\n",
              "      <td>2021-09-08 06:55:00+00:00</td>\n",
              "      <td>beta</td>\n",
              "      <td>True</td>\n",
              "      <td>20.0</td>\n",
              "      <td>0</td>\n",
              "      <td>b-1</td>\n",
              "    </tr>\n",
              "    <tr>\n",
              "      <th>3</th>\n",
              "      <td>2021-09-01 08:30:20.396761+00:00</td>\n",
              "      <td>x</td>\n",
              "      <td>y</td>\n",
              "      <td>2021-09-08 05:30:00+00:00</td>\n",
              "      <td>2021-09-08 07:30:00+00:00</td>\n",
              "      <td>gamma</td>\n",
              "      <td>True</td>\n",
              "      <td>20.0</td>\n",
              "      <td>2</td>\n",
              "      <td>c-2</td>\n",
              "    </tr>\n",
              "    <tr>\n",
              "      <th>4</th>\n",
              "      <td>2021-09-01 08:30:20.396761+00:00</td>\n",
              "      <td>x</td>\n",
              "      <td>y</td>\n",
              "      <td>2021-09-08 05:30:00+00:00</td>\n",
              "      <td>2021-09-08 07:30:00+00:00</td>\n",
              "      <td>gamma</td>\n",
              "      <td>True</td>\n",
              "      <td>20.0</td>\n",
              "      <td>1</td>\n",
              "      <td>c-2</td>\n",
              "    </tr>\n",
              "  </tbody>\n",
              "</table>\n",
              "</div>\n",
              "      <button class=\"colab-df-convert\" onclick=\"convertToInteractive('df-39a0c3c6-d641-4cfa-bda7-075286947df1')\"\n",
              "              title=\"Convert this dataframe to an interactive table.\"\n",
              "              style=\"display:none;\">\n",
              "        \n",
              "  <svg xmlns=\"http://www.w3.org/2000/svg\" height=\"24px\"viewBox=\"0 0 24 24\"\n",
              "       width=\"24px\">\n",
              "    <path d=\"M0 0h24v24H0V0z\" fill=\"none\"/>\n",
              "    <path d=\"M18.56 5.44l.94 2.06.94-2.06 2.06-.94-2.06-.94-.94-2.06-.94 2.06-2.06.94zm-11 1L8.5 8.5l.94-2.06 2.06-.94-2.06-.94L8.5 2.5l-.94 2.06-2.06.94zm10 10l.94 2.06.94-2.06 2.06-.94-2.06-.94-.94-2.06-.94 2.06-2.06.94z\"/><path d=\"M17.41 7.96l-1.37-1.37c-.4-.4-.92-.59-1.43-.59-.52 0-1.04.2-1.43.59L10.3 9.45l-7.72 7.72c-.78.78-.78 2.05 0 2.83L4 21.41c.39.39.9.59 1.41.59.51 0 1.02-.2 1.41-.59l7.78-7.78 2.81-2.81c.8-.78.8-2.07 0-2.86zM5.41 20L4 18.59l7.72-7.72 1.47 1.35L5.41 20z\"/>\n",
              "  </svg>\n",
              "      </button>\n",
              "      \n",
              "  <style>\n",
              "    .colab-df-container {\n",
              "      display:flex;\n",
              "      flex-wrap:wrap;\n",
              "      gap: 12px;\n",
              "    }\n",
              "\n",
              "    .colab-df-convert {\n",
              "      background-color: #E8F0FE;\n",
              "      border: none;\n",
              "      border-radius: 50%;\n",
              "      cursor: pointer;\n",
              "      display: none;\n",
              "      fill: #1967D2;\n",
              "      height: 32px;\n",
              "      padding: 0 0 0 0;\n",
              "      width: 32px;\n",
              "    }\n",
              "\n",
              "    .colab-df-convert:hover {\n",
              "      background-color: #E2EBFA;\n",
              "      box-shadow: 0px 1px 2px rgba(60, 64, 67, 0.3), 0px 1px 3px 1px rgba(60, 64, 67, 0.15);\n",
              "      fill: #174EA6;\n",
              "    }\n",
              "\n",
              "    [theme=dark] .colab-df-convert {\n",
              "      background-color: #3B4455;\n",
              "      fill: #D2E3FC;\n",
              "    }\n",
              "\n",
              "    [theme=dark] .colab-df-convert:hover {\n",
              "      background-color: #434B5C;\n",
              "      box-shadow: 0px 1px 3px 1px rgba(0, 0, 0, 0.15);\n",
              "      filter: drop-shadow(0px 1px 2px rgba(0, 0, 0, 0.3));\n",
              "      fill: #FFFFFF;\n",
              "    }\n",
              "  </style>\n",
              "\n",
              "      <script>\n",
              "        const buttonEl =\n",
              "          document.querySelector('#df-39a0c3c6-d641-4cfa-bda7-075286947df1 button.colab-df-convert');\n",
              "        buttonEl.style.display =\n",
              "          google.colab.kernel.accessAllowed ? 'block' : 'none';\n",
              "\n",
              "        async function convertToInteractive(key) {\n",
              "          const element = document.querySelector('#df-39a0c3c6-d641-4cfa-bda7-075286947df1');\n",
              "          const dataTable =\n",
              "            await google.colab.kernel.invokeFunction('convertToInteractive',\n",
              "                                                     [key], {});\n",
              "          if (!dataTable) return;\n",
              "\n",
              "          const docLinkHtml = 'Like what you see? Visit the ' +\n",
              "            '<a target=\"_blank\" href=https://colab.research.google.com/notebooks/data_table.ipynb>data table notebook</a>'\n",
              "            + ' to learn more about interactive tables.';\n",
              "          element.innerHTML = '';\n",
              "          dataTable['output_type'] = 'display_data';\n",
              "          await google.colab.output.renderOutput(dataTable, element);\n",
              "          const docLink = document.createElement('div');\n",
              "          docLink.innerHTML = docLinkHtml;\n",
              "          element.appendChild(docLink);\n",
              "        }\n",
              "      </script>\n",
              "    </div>\n",
              "  </div>\n",
              "  "
            ],
            "text/plain": [
              "                                 f1 f2 f3                         f4  \\\n",
              "0  2021-09-01 08:30:19.320999+00:00  x  y  2021-09-08 11:00:00+00:00   \n",
              "1  2021-09-01 08:30:19.320999+00:00  x  y  2021-09-08 14:00:00+00:00   \n",
              "2  2021-09-01 08:30:19.320999+00:00  x  y  2021-09-08 05:00:00+00:00   \n",
              "3  2021-09-01 08:30:20.396761+00:00  x  y  2021-09-08 05:30:00+00:00   \n",
              "4  2021-09-01 08:30:20.396761+00:00  x  y  2021-09-08 05:30:00+00:00   \n",
              "\n",
              "                          f5     f6    f7    f8  f9   f10  \n",
              "0  2021-09-08 12:55:00+00:00   beta  True  40.0   0  b-69  \n",
              "1  2021-09-08 15:55:00+00:00   beta  True  40.0   0   b-9  \n",
              "2  2021-09-08 06:55:00+00:00   beta  True  20.0   0   b-1  \n",
              "3  2021-09-08 07:30:00+00:00  gamma  True  20.0   2   c-2  \n",
              "4  2021-09-08 07:30:00+00:00  gamma  True  20.0   1   c-2  "
            ]
          },
          "execution_count": 66,
          "metadata": {},
          "output_type": "execute_result"
        }
      ],
      "source": [
        "df_test = pd.read_csv('/content/drive/MyDrive/Data Science Competition/X_test.csv') #the output prediction\n",
        "df_test.head()"
      ]
    },
    {
      "cell_type": "code",
      "execution_count": 67,
      "metadata": {
        "colab": {
          "base_uri": "https://localhost:8080/"
        },
        "id": "2azmyi19vkmF",
        "outputId": "bf5d4b30-ad52-4f71-d81a-0151ca9d4f49",
        "vscode": {
          "languageId": "python"
        }
      },
      "outputs": [
        {
          "name": "stdout",
          "output_type": "stream",
          "text": [
            "<class 'pandas.core.frame.DataFrame'>\n",
            "RangeIndex: 4532489 entries, 0 to 4532488\n",
            "Data columns (total 10 columns):\n",
            " #   Column  Dtype  \n",
            "---  ------  -----  \n",
            " 0   f1      object \n",
            " 1   f2      object \n",
            " 2   f3      object \n",
            " 3   f4      object \n",
            " 4   f5      object \n",
            " 5   f6      object \n",
            " 6   f7      bool   \n",
            " 7   f8      float64\n",
            " 8   f9      int64  \n",
            " 9   f10     object \n",
            "dtypes: bool(1), float64(1), int64(1), object(7)\n",
            "memory usage: 315.5+ MB\n"
          ]
        }
      ],
      "source": [
        "df_test.info()"
      ]
    },
    {
      "cell_type": "code",
      "execution_count": 68,
      "metadata": {
        "id": "az8eUA1OxL10",
        "vscode": {
          "languageId": "python"
        }
      },
      "outputs": [],
      "source": [
        "def change_into_datetime(col):\n",
        "    df_test[col]=pd.to_datetime(df_test[col])"
      ]
    },
    {
      "cell_type": "code",
      "execution_count": 69,
      "metadata": {
        "id": "hcnUpsMmvkmG",
        "vscode": {
          "languageId": "python"
        }
      },
      "outputs": [],
      "source": [
        "for i in [\"f1\",\"f4\",\"f5\"]:\n",
        "      change_into_datetime(i)"
      ]
    },
    {
      "cell_type": "code",
      "execution_count": 70,
      "metadata": {
        "id": "OIgIH2QmvkmH",
        "vscode": {
          "languageId": "python"
        }
      },
      "outputs": [],
      "source": [
        "# create a column with timedelta as flight_duration_minutes, as a float type\n",
        "df_test[\"flight_duration_minutes\"] = (df_test[\"f5\"] - df_test[\"f4\"])/ pd.Timedelta(minutes=1)\n",
        "\n",
        "# create a column with timedelta as flight_duration_hours, as a float type\n",
        "df_test[\"flight_duration_hours\"] = (df_test[\"f5\"] - df_test[\"f4\"])/ pd.Timedelta(hours=1)\n",
        "# create a column with timedelta as total hours, as a float type\n",
        "df_test['tot_hour_diff'] = (df_test[\"f4\"] - df_test[\"f1\"])/ pd.Timedelta(hours=1)\n"
      ]
    },
    {
      "cell_type": "code",
      "execution_count": 71,
      "metadata": {
        "colab": {
          "base_uri": "https://localhost:8080/",
          "height": 356
        },
        "id": "fE42WPNnvkmI",
        "outputId": "939082ad-8f6a-4197-83d2-1e70f1515b35",
        "vscode": {
          "languageId": "python"
        }
      },
      "outputs": [
        {
          "data": {
            "text/html": [
              "\n",
              "  <div id=\"df-d602bb78-543d-46f7-a595-589be281d918\">\n",
              "    <div class=\"colab-df-container\">\n",
              "      <div>\n",
              "<style scoped>\n",
              "    .dataframe tbody tr th:only-of-type {\n",
              "        vertical-align: middle;\n",
              "    }\n",
              "\n",
              "    .dataframe tbody tr th {\n",
              "        vertical-align: top;\n",
              "    }\n",
              "\n",
              "    .dataframe thead th {\n",
              "        text-align: right;\n",
              "    }\n",
              "</style>\n",
              "<table border=\"1\" class=\"dataframe\">\n",
              "  <thead>\n",
              "    <tr style=\"text-align: right;\">\n",
              "      <th></th>\n",
              "      <th>f1</th>\n",
              "      <th>f2</th>\n",
              "      <th>f3</th>\n",
              "      <th>f4</th>\n",
              "      <th>f5</th>\n",
              "      <th>f6</th>\n",
              "      <th>f7</th>\n",
              "      <th>f8</th>\n",
              "      <th>f9</th>\n",
              "      <th>f10</th>\n",
              "      <th>flight_duration_minutes</th>\n",
              "      <th>flight_duration_hours</th>\n",
              "      <th>tot_hour_diff</th>\n",
              "      <th>Day</th>\n",
              "      <th>Month</th>\n",
              "      <th>Year</th>\n",
              "    </tr>\n",
              "  </thead>\n",
              "  <tbody>\n",
              "    <tr>\n",
              "      <th>0</th>\n",
              "      <td>2021-09-01 08:30:19.320999+00:00</td>\n",
              "      <td>x</td>\n",
              "      <td>y</td>\n",
              "      <td>2021-09-08 11:00:00+00:00</td>\n",
              "      <td>2021-09-08 12:55:00+00:00</td>\n",
              "      <td>beta</td>\n",
              "      <td>True</td>\n",
              "      <td>40.0</td>\n",
              "      <td>0</td>\n",
              "      <td>b-69</td>\n",
              "      <td>115.0</td>\n",
              "      <td>1.916667</td>\n",
              "      <td>170.494633</td>\n",
              "      <td>1</td>\n",
              "      <td>9</td>\n",
              "      <td>2021</td>\n",
              "    </tr>\n",
              "    <tr>\n",
              "      <th>1</th>\n",
              "      <td>2021-09-01 08:30:19.320999+00:00</td>\n",
              "      <td>x</td>\n",
              "      <td>y</td>\n",
              "      <td>2021-09-08 14:00:00+00:00</td>\n",
              "      <td>2021-09-08 15:55:00+00:00</td>\n",
              "      <td>beta</td>\n",
              "      <td>True</td>\n",
              "      <td>40.0</td>\n",
              "      <td>0</td>\n",
              "      <td>b-9</td>\n",
              "      <td>115.0</td>\n",
              "      <td>1.916667</td>\n",
              "      <td>173.494633</td>\n",
              "      <td>1</td>\n",
              "      <td>9</td>\n",
              "      <td>2021</td>\n",
              "    </tr>\n",
              "    <tr>\n",
              "      <th>2</th>\n",
              "      <td>2021-09-01 08:30:19.320999+00:00</td>\n",
              "      <td>x</td>\n",
              "      <td>y</td>\n",
              "      <td>2021-09-08 05:00:00+00:00</td>\n",
              "      <td>2021-09-08 06:55:00+00:00</td>\n",
              "      <td>beta</td>\n",
              "      <td>True</td>\n",
              "      <td>20.0</td>\n",
              "      <td>0</td>\n",
              "      <td>b-1</td>\n",
              "      <td>115.0</td>\n",
              "      <td>1.916667</td>\n",
              "      <td>164.494633</td>\n",
              "      <td>1</td>\n",
              "      <td>9</td>\n",
              "      <td>2021</td>\n",
              "    </tr>\n",
              "    <tr>\n",
              "      <th>3</th>\n",
              "      <td>2021-09-01 08:30:20.396761+00:00</td>\n",
              "      <td>x</td>\n",
              "      <td>y</td>\n",
              "      <td>2021-09-08 05:30:00+00:00</td>\n",
              "      <td>2021-09-08 07:30:00+00:00</td>\n",
              "      <td>gamma</td>\n",
              "      <td>True</td>\n",
              "      <td>20.0</td>\n",
              "      <td>2</td>\n",
              "      <td>c-2</td>\n",
              "      <td>120.0</td>\n",
              "      <td>2.000000</td>\n",
              "      <td>164.994334</td>\n",
              "      <td>1</td>\n",
              "      <td>9</td>\n",
              "      <td>2021</td>\n",
              "    </tr>\n",
              "    <tr>\n",
              "      <th>4</th>\n",
              "      <td>2021-09-01 08:30:20.396761+00:00</td>\n",
              "      <td>x</td>\n",
              "      <td>y</td>\n",
              "      <td>2021-09-08 05:30:00+00:00</td>\n",
              "      <td>2021-09-08 07:30:00+00:00</td>\n",
              "      <td>gamma</td>\n",
              "      <td>True</td>\n",
              "      <td>20.0</td>\n",
              "      <td>1</td>\n",
              "      <td>c-2</td>\n",
              "      <td>120.0</td>\n",
              "      <td>2.000000</td>\n",
              "      <td>164.994334</td>\n",
              "      <td>1</td>\n",
              "      <td>9</td>\n",
              "      <td>2021</td>\n",
              "    </tr>\n",
              "  </tbody>\n",
              "</table>\n",
              "</div>\n",
              "      <button class=\"colab-df-convert\" onclick=\"convertToInteractive('df-d602bb78-543d-46f7-a595-589be281d918')\"\n",
              "              title=\"Convert this dataframe to an interactive table.\"\n",
              "              style=\"display:none;\">\n",
              "        \n",
              "  <svg xmlns=\"http://www.w3.org/2000/svg\" height=\"24px\"viewBox=\"0 0 24 24\"\n",
              "       width=\"24px\">\n",
              "    <path d=\"M0 0h24v24H0V0z\" fill=\"none\"/>\n",
              "    <path d=\"M18.56 5.44l.94 2.06.94-2.06 2.06-.94-2.06-.94-.94-2.06-.94 2.06-2.06.94zm-11 1L8.5 8.5l.94-2.06 2.06-.94-2.06-.94L8.5 2.5l-.94 2.06-2.06.94zm10 10l.94 2.06.94-2.06 2.06-.94-2.06-.94-.94-2.06-.94 2.06-2.06.94z\"/><path d=\"M17.41 7.96l-1.37-1.37c-.4-.4-.92-.59-1.43-.59-.52 0-1.04.2-1.43.59L10.3 9.45l-7.72 7.72c-.78.78-.78 2.05 0 2.83L4 21.41c.39.39.9.59 1.41.59.51 0 1.02-.2 1.41-.59l7.78-7.78 2.81-2.81c.8-.78.8-2.07 0-2.86zM5.41 20L4 18.59l7.72-7.72 1.47 1.35L5.41 20z\"/>\n",
              "  </svg>\n",
              "      </button>\n",
              "      \n",
              "  <style>\n",
              "    .colab-df-container {\n",
              "      display:flex;\n",
              "      flex-wrap:wrap;\n",
              "      gap: 12px;\n",
              "    }\n",
              "\n",
              "    .colab-df-convert {\n",
              "      background-color: #E8F0FE;\n",
              "      border: none;\n",
              "      border-radius: 50%;\n",
              "      cursor: pointer;\n",
              "      display: none;\n",
              "      fill: #1967D2;\n",
              "      height: 32px;\n",
              "      padding: 0 0 0 0;\n",
              "      width: 32px;\n",
              "    }\n",
              "\n",
              "    .colab-df-convert:hover {\n",
              "      background-color: #E2EBFA;\n",
              "      box-shadow: 0px 1px 2px rgba(60, 64, 67, 0.3), 0px 1px 3px 1px rgba(60, 64, 67, 0.15);\n",
              "      fill: #174EA6;\n",
              "    }\n",
              "\n",
              "    [theme=dark] .colab-df-convert {\n",
              "      background-color: #3B4455;\n",
              "      fill: #D2E3FC;\n",
              "    }\n",
              "\n",
              "    [theme=dark] .colab-df-convert:hover {\n",
              "      background-color: #434B5C;\n",
              "      box-shadow: 0px 1px 3px 1px rgba(0, 0, 0, 0.15);\n",
              "      filter: drop-shadow(0px 1px 2px rgba(0, 0, 0, 0.3));\n",
              "      fill: #FFFFFF;\n",
              "    }\n",
              "  </style>\n",
              "\n",
              "      <script>\n",
              "        const buttonEl =\n",
              "          document.querySelector('#df-d602bb78-543d-46f7-a595-589be281d918 button.colab-df-convert');\n",
              "        buttonEl.style.display =\n",
              "          google.colab.kernel.accessAllowed ? 'block' : 'none';\n",
              "\n",
              "        async function convertToInteractive(key) {\n",
              "          const element = document.querySelector('#df-d602bb78-543d-46f7-a595-589be281d918');\n",
              "          const dataTable =\n",
              "            await google.colab.kernel.invokeFunction('convertToInteractive',\n",
              "                                                     [key], {});\n",
              "          if (!dataTable) return;\n",
              "\n",
              "          const docLinkHtml = 'Like what you see? Visit the ' +\n",
              "            '<a target=\"_blank\" href=https://colab.research.google.com/notebooks/data_table.ipynb>data table notebook</a>'\n",
              "            + ' to learn more about interactive tables.';\n",
              "          element.innerHTML = '';\n",
              "          dataTable['output_type'] = 'display_data';\n",
              "          await google.colab.output.renderOutput(dataTable, element);\n",
              "          const docLink = document.createElement('div');\n",
              "          docLink.innerHTML = docLinkHtml;\n",
              "          element.appendChild(docLink);\n",
              "        }\n",
              "      </script>\n",
              "    </div>\n",
              "  </div>\n",
              "  "
            ],
            "text/plain": [
              "                                f1 f2 f3                        f4  \\\n",
              "0 2021-09-01 08:30:19.320999+00:00  x  y 2021-09-08 11:00:00+00:00   \n",
              "1 2021-09-01 08:30:19.320999+00:00  x  y 2021-09-08 14:00:00+00:00   \n",
              "2 2021-09-01 08:30:19.320999+00:00  x  y 2021-09-08 05:00:00+00:00   \n",
              "3 2021-09-01 08:30:20.396761+00:00  x  y 2021-09-08 05:30:00+00:00   \n",
              "4 2021-09-01 08:30:20.396761+00:00  x  y 2021-09-08 05:30:00+00:00   \n",
              "\n",
              "                         f5     f6    f7    f8  f9   f10  \\\n",
              "0 2021-09-08 12:55:00+00:00   beta  True  40.0   0  b-69   \n",
              "1 2021-09-08 15:55:00+00:00   beta  True  40.0   0   b-9   \n",
              "2 2021-09-08 06:55:00+00:00   beta  True  20.0   0   b-1   \n",
              "3 2021-09-08 07:30:00+00:00  gamma  True  20.0   2   c-2   \n",
              "4 2021-09-08 07:30:00+00:00  gamma  True  20.0   1   c-2   \n",
              "\n",
              "   flight_duration_minutes  flight_duration_hours  tot_hour_diff  Day  Month  \\\n",
              "0                    115.0               1.916667     170.494633    1      9   \n",
              "1                    115.0               1.916667     173.494633    1      9   \n",
              "2                    115.0               1.916667     164.494633    1      9   \n",
              "3                    120.0               2.000000     164.994334    1      9   \n",
              "4                    120.0               2.000000     164.994334    1      9   \n",
              "\n",
              "   Year  \n",
              "0  2021  \n",
              "1  2021  \n",
              "2  2021  \n",
              "3  2021  \n",
              "4  2021  "
            ]
          },
          "execution_count": 71,
          "metadata": {},
          "output_type": "execute_result"
        }
      ],
      "source": [
        "#Create the day,month,year column from f1\n",
        "df_test[\"Day\"] = df_test[\"f1\"].dt.day\n",
        "df_test[\"Month\"] = df_test[\"f1\"].dt.month\n",
        "df_test[\"Year\"] = df_test[\"f1\"].dt.year\n",
        "\n",
        "df_test.head()"
      ]
    },
    {
      "cell_type": "code",
      "execution_count": 72,
      "metadata": {
        "id": "IypBKIP2vkmJ",
        "vscode": {
          "languageId": "python"
        }
      },
      "outputs": [],
      "source": [
        "# Removing the columns f1,f4,f5 and updating the dataframe df\n",
        "df_test = df_test.drop(['f1', 'f4', 'f5'], axis = 1)"
      ]
    },
    {
      "cell_type": "code",
      "execution_count": 73,
      "metadata": {
        "colab": {
          "base_uri": "https://localhost:8080/",
          "height": 364
        },
        "id": "DM9JO-s9vkmK",
        "outputId": "758332b6-ffed-4c0e-d594-36df9f7b868f",
        "vscode": {
          "languageId": "python"
        }
      },
      "outputs": [
        {
          "data": {
            "text/html": [
              "\n",
              "  <div id=\"df-345deb2c-7562-4ee8-a14b-30cd3187ca3c\">\n",
              "    <div class=\"colab-df-container\">\n",
              "      <div>\n",
              "<style scoped>\n",
              "    .dataframe tbody tr th:only-of-type {\n",
              "        vertical-align: middle;\n",
              "    }\n",
              "\n",
              "    .dataframe tbody tr th {\n",
              "        vertical-align: top;\n",
              "    }\n",
              "\n",
              "    .dataframe thead th {\n",
              "        text-align: right;\n",
              "    }\n",
              "</style>\n",
              "<table border=\"1\" class=\"dataframe\">\n",
              "  <thead>\n",
              "    <tr style=\"text-align: right;\">\n",
              "      <th></th>\n",
              "      <th>f8</th>\n",
              "      <th>f9</th>\n",
              "      <th>flight_duration_minutes</th>\n",
              "      <th>flight_duration_hours</th>\n",
              "      <th>tot_hour_diff</th>\n",
              "      <th>Day</th>\n",
              "      <th>Month</th>\n",
              "      <th>Year</th>\n",
              "    </tr>\n",
              "  </thead>\n",
              "  <tbody>\n",
              "    <tr>\n",
              "      <th>count</th>\n",
              "      <td>4.532489e+06</td>\n",
              "      <td>4.532489e+06</td>\n",
              "      <td>4.532489e+06</td>\n",
              "      <td>4.532489e+06</td>\n",
              "      <td>4.532489e+06</td>\n",
              "      <td>4.532489e+06</td>\n",
              "      <td>4532489.0</td>\n",
              "      <td>4532489.0</td>\n",
              "    </tr>\n",
              "    <tr>\n",
              "      <th>mean</th>\n",
              "      <td>2.201668e+01</td>\n",
              "      <td>9.891111e-01</td>\n",
              "      <td>1.191028e+02</td>\n",
              "      <td>1.985046e+00</td>\n",
              "      <td>4.431839e+02</td>\n",
              "      <td>1.411416e+01</td>\n",
              "      <td>9.0</td>\n",
              "      <td>2021.0</td>\n",
              "    </tr>\n",
              "    <tr>\n",
              "      <th>std</th>\n",
              "      <td>7.738736e+00</td>\n",
              "      <td>5.539422e-01</td>\n",
              "      <td>1.809417e+00</td>\n",
              "      <td>3.015696e-02</td>\n",
              "      <td>5.453904e+02</td>\n",
              "      <td>7.901349e+00</td>\n",
              "      <td>0.0</td>\n",
              "      <td>0.0</td>\n",
              "    </tr>\n",
              "    <tr>\n",
              "      <th>min</th>\n",
              "      <td>0.000000e+00</td>\n",
              "      <td>0.000000e+00</td>\n",
              "      <td>1.150000e+02</td>\n",
              "      <td>1.916667e+00</td>\n",
              "      <td>9.999793e-01</td>\n",
              "      <td>1.000000e+00</td>\n",
              "      <td>9.0</td>\n",
              "      <td>2021.0</td>\n",
              "    </tr>\n",
              "    <tr>\n",
              "      <th>25%</th>\n",
              "      <td>2.000000e+01</td>\n",
              "      <td>1.000000e+00</td>\n",
              "      <td>1.190000e+02</td>\n",
              "      <td>1.983333e+00</td>\n",
              "      <td>1.038884e+02</td>\n",
              "      <td>7.000000e+00</td>\n",
              "      <td>9.0</td>\n",
              "      <td>2021.0</td>\n",
              "    </tr>\n",
              "    <tr>\n",
              "      <th>50%</th>\n",
              "      <td>2.000000e+01</td>\n",
              "      <td>1.000000e+00</td>\n",
              "      <td>1.200000e+02</td>\n",
              "      <td>2.000000e+00</td>\n",
              "      <td>2.631399e+02</td>\n",
              "      <td>1.400000e+01</td>\n",
              "      <td>9.0</td>\n",
              "      <td>2021.0</td>\n",
              "    </tr>\n",
              "    <tr>\n",
              "      <th>75%</th>\n",
              "      <td>2.000000e+01</td>\n",
              "      <td>1.000000e+00</td>\n",
              "      <td>1.200000e+02</td>\n",
              "      <td>2.000000e+00</td>\n",
              "      <td>5.568213e+02</td>\n",
              "      <td>2.000000e+01</td>\n",
              "      <td>9.0</td>\n",
              "      <td>2021.0</td>\n",
              "    </tr>\n",
              "    <tr>\n",
              "      <th>max</th>\n",
              "      <td>4.000000e+01</td>\n",
              "      <td>2.000000e+00</td>\n",
              "      <td>1.200000e+02</td>\n",
              "      <td>2.000000e+00</td>\n",
              "      <td>7.933971e+03</td>\n",
              "      <td>3.000000e+01</td>\n",
              "      <td>9.0</td>\n",
              "      <td>2021.0</td>\n",
              "    </tr>\n",
              "  </tbody>\n",
              "</table>\n",
              "</div>\n",
              "      <button class=\"colab-df-convert\" onclick=\"convertToInteractive('df-345deb2c-7562-4ee8-a14b-30cd3187ca3c')\"\n",
              "              title=\"Convert this dataframe to an interactive table.\"\n",
              "              style=\"display:none;\">\n",
              "        \n",
              "  <svg xmlns=\"http://www.w3.org/2000/svg\" height=\"24px\"viewBox=\"0 0 24 24\"\n",
              "       width=\"24px\">\n",
              "    <path d=\"M0 0h24v24H0V0z\" fill=\"none\"/>\n",
              "    <path d=\"M18.56 5.44l.94 2.06.94-2.06 2.06-.94-2.06-.94-.94-2.06-.94 2.06-2.06.94zm-11 1L8.5 8.5l.94-2.06 2.06-.94-2.06-.94L8.5 2.5l-.94 2.06-2.06.94zm10 10l.94 2.06.94-2.06 2.06-.94-2.06-.94-.94-2.06-.94 2.06-2.06.94z\"/><path d=\"M17.41 7.96l-1.37-1.37c-.4-.4-.92-.59-1.43-.59-.52 0-1.04.2-1.43.59L10.3 9.45l-7.72 7.72c-.78.78-.78 2.05 0 2.83L4 21.41c.39.39.9.59 1.41.59.51 0 1.02-.2 1.41-.59l7.78-7.78 2.81-2.81c.8-.78.8-2.07 0-2.86zM5.41 20L4 18.59l7.72-7.72 1.47 1.35L5.41 20z\"/>\n",
              "  </svg>\n",
              "      </button>\n",
              "      \n",
              "  <style>\n",
              "    .colab-df-container {\n",
              "      display:flex;\n",
              "      flex-wrap:wrap;\n",
              "      gap: 12px;\n",
              "    }\n",
              "\n",
              "    .colab-df-convert {\n",
              "      background-color: #E8F0FE;\n",
              "      border: none;\n",
              "      border-radius: 50%;\n",
              "      cursor: pointer;\n",
              "      display: none;\n",
              "      fill: #1967D2;\n",
              "      height: 32px;\n",
              "      padding: 0 0 0 0;\n",
              "      width: 32px;\n",
              "    }\n",
              "\n",
              "    .colab-df-convert:hover {\n",
              "      background-color: #E2EBFA;\n",
              "      box-shadow: 0px 1px 2px rgba(60, 64, 67, 0.3), 0px 1px 3px 1px rgba(60, 64, 67, 0.15);\n",
              "      fill: #174EA6;\n",
              "    }\n",
              "\n",
              "    [theme=dark] .colab-df-convert {\n",
              "      background-color: #3B4455;\n",
              "      fill: #D2E3FC;\n",
              "    }\n",
              "\n",
              "    [theme=dark] .colab-df-convert:hover {\n",
              "      background-color: #434B5C;\n",
              "      box-shadow: 0px 1px 3px 1px rgba(0, 0, 0, 0.15);\n",
              "      filter: drop-shadow(0px 1px 2px rgba(0, 0, 0, 0.3));\n",
              "      fill: #FFFFFF;\n",
              "    }\n",
              "  </style>\n",
              "\n",
              "      <script>\n",
              "        const buttonEl =\n",
              "          document.querySelector('#df-345deb2c-7562-4ee8-a14b-30cd3187ca3c button.colab-df-convert');\n",
              "        buttonEl.style.display =\n",
              "          google.colab.kernel.accessAllowed ? 'block' : 'none';\n",
              "\n",
              "        async function convertToInteractive(key) {\n",
              "          const element = document.querySelector('#df-345deb2c-7562-4ee8-a14b-30cd3187ca3c');\n",
              "          const dataTable =\n",
              "            await google.colab.kernel.invokeFunction('convertToInteractive',\n",
              "                                                     [key], {});\n",
              "          if (!dataTable) return;\n",
              "\n",
              "          const docLinkHtml = 'Like what you see? Visit the ' +\n",
              "            '<a target=\"_blank\" href=https://colab.research.google.com/notebooks/data_table.ipynb>data table notebook</a>'\n",
              "            + ' to learn more about interactive tables.';\n",
              "          element.innerHTML = '';\n",
              "          dataTable['output_type'] = 'display_data';\n",
              "          await google.colab.output.renderOutput(dataTable, element);\n",
              "          const docLink = document.createElement('div');\n",
              "          docLink.innerHTML = docLinkHtml;\n",
              "          element.appendChild(docLink);\n",
              "        }\n",
              "      </script>\n",
              "    </div>\n",
              "  </div>\n",
              "  "
            ],
            "text/plain": [
              "                 f8            f9  flight_duration_minutes  \\\n",
              "count  4.532489e+06  4.532489e+06             4.532489e+06   \n",
              "mean   2.201668e+01  9.891111e-01             1.191028e+02   \n",
              "std    7.738736e+00  5.539422e-01             1.809417e+00   \n",
              "min    0.000000e+00  0.000000e+00             1.150000e+02   \n",
              "25%    2.000000e+01  1.000000e+00             1.190000e+02   \n",
              "50%    2.000000e+01  1.000000e+00             1.200000e+02   \n",
              "75%    2.000000e+01  1.000000e+00             1.200000e+02   \n",
              "max    4.000000e+01  2.000000e+00             1.200000e+02   \n",
              "\n",
              "       flight_duration_hours  tot_hour_diff           Day      Month  \\\n",
              "count           4.532489e+06   4.532489e+06  4.532489e+06  4532489.0   \n",
              "mean            1.985046e+00   4.431839e+02  1.411416e+01        9.0   \n",
              "std             3.015696e-02   5.453904e+02  7.901349e+00        0.0   \n",
              "min             1.916667e+00   9.999793e-01  1.000000e+00        9.0   \n",
              "25%             1.983333e+00   1.038884e+02  7.000000e+00        9.0   \n",
              "50%             2.000000e+00   2.631399e+02  1.400000e+01        9.0   \n",
              "75%             2.000000e+00   5.568213e+02  2.000000e+01        9.0   \n",
              "max             2.000000e+00   7.933971e+03  3.000000e+01        9.0   \n",
              "\n",
              "            Year  \n",
              "count  4532489.0  \n",
              "mean      2021.0  \n",
              "std          0.0  \n",
              "min       2021.0  \n",
              "25%       2021.0  \n",
              "50%       2021.0  \n",
              "75%       2021.0  \n",
              "max       2021.0  "
            ]
          },
          "execution_count": 73,
          "metadata": {},
          "output_type": "execute_result"
        }
      ],
      "source": [
        "df_test.describe()"
      ]
    },
    {
      "cell_type": "markdown",
      "metadata": {
        "id": "SbM4sa_IvkmL"
      },
      "source": [
        "***Finding the categorical data***"
      ]
    },
    {
      "cell_type": "code",
      "execution_count": 74,
      "metadata": {
        "colab": {
          "base_uri": "https://localhost:8080/"
        },
        "id": "2Yo-thU6vkmM",
        "outputId": "117cb45c-66ae-4a85-be22-70e5419cc61c",
        "vscode": {
          "languageId": "python"
        }
      },
      "outputs": [
        {
          "data": {
            "text/plain": [
              "['f2', 'f3', 'f6', 'f7', 'f10']"
            ]
          },
          "execution_count": 74,
          "metadata": {},
          "output_type": "execute_result"
        }
      ],
      "source": [
        "categorical_columns=[column for column in df_test.columns if df_test[column].dtype=='object' or df[column].dtype=='bool']\n",
        "categorical_columns"
      ]
    },
    {
      "cell_type": "markdown",
      "metadata": {
        "id": "99GgWM8TvkmM"
      },
      "source": [
        "***Finding the continuous or numerical data***"
      ]
    },
    {
      "cell_type": "code",
      "execution_count": 75,
      "metadata": {
        "colab": {
          "base_uri": "https://localhost:8080/"
        },
        "id": "fjJP-f6mvkmN",
        "outputId": "bb9e3751-0664-45ab-8ef7-763e575f98b3",
        "vscode": {
          "languageId": "python"
        }
      },
      "outputs": [
        {
          "data": {
            "text/plain": [
              "['f7',\n",
              " 'f8',\n",
              " 'f9',\n",
              " 'flight_duration_minutes',\n",
              " 'flight_duration_hours',\n",
              " 'tot_hour_diff',\n",
              " 'Day',\n",
              " 'Month',\n",
              " 'Year']"
            ]
          },
          "execution_count": 75,
          "metadata": {},
          "output_type": "execute_result"
        }
      ],
      "source": [
        "continuous_col =[column for column in df_test.columns if df_test[column].dtype!='object']\n",
        "continuous_col"
      ]
    },
    {
      "cell_type": "markdown",
      "metadata": {
        "id": "01g_BM5xvkmO"
      },
      "source": [
        "## Handling the categorical data\n",
        "We have to handle the categorical data by using different techniques"
      ]
    },
    {
      "cell_type": "code",
      "execution_count": 76,
      "metadata": {
        "colab": {
          "base_uri": "https://localhost:8080/",
          "height": 206
        },
        "id": "6NjrfNa_vkmP",
        "outputId": "ae252383-db18-42cf-af56-d952b65a8f9f",
        "vscode": {
          "languageId": "python"
        }
      },
      "outputs": [
        {
          "data": {
            "text/html": [
              "\n",
              "  <div id=\"df-15f29cea-9d7c-4e3d-b734-a94774c9161c\">\n",
              "    <div class=\"colab-df-container\">\n",
              "      <div>\n",
              "<style scoped>\n",
              "    .dataframe tbody tr th:only-of-type {\n",
              "        vertical-align: middle;\n",
              "    }\n",
              "\n",
              "    .dataframe tbody tr th {\n",
              "        vertical-align: top;\n",
              "    }\n",
              "\n",
              "    .dataframe thead th {\n",
              "        text-align: right;\n",
              "    }\n",
              "</style>\n",
              "<table border=\"1\" class=\"dataframe\">\n",
              "  <thead>\n",
              "    <tr style=\"text-align: right;\">\n",
              "      <th></th>\n",
              "      <th>f2</th>\n",
              "      <th>f3</th>\n",
              "      <th>f6</th>\n",
              "      <th>f7</th>\n",
              "      <th>f10</th>\n",
              "    </tr>\n",
              "  </thead>\n",
              "  <tbody>\n",
              "    <tr>\n",
              "      <th>0</th>\n",
              "      <td>x</td>\n",
              "      <td>y</td>\n",
              "      <td>beta</td>\n",
              "      <td>True</td>\n",
              "      <td>b-69</td>\n",
              "    </tr>\n",
              "    <tr>\n",
              "      <th>1</th>\n",
              "      <td>x</td>\n",
              "      <td>y</td>\n",
              "      <td>beta</td>\n",
              "      <td>True</td>\n",
              "      <td>b-9</td>\n",
              "    </tr>\n",
              "    <tr>\n",
              "      <th>2</th>\n",
              "      <td>x</td>\n",
              "      <td>y</td>\n",
              "      <td>beta</td>\n",
              "      <td>True</td>\n",
              "      <td>b-1</td>\n",
              "    </tr>\n",
              "    <tr>\n",
              "      <th>3</th>\n",
              "      <td>x</td>\n",
              "      <td>y</td>\n",
              "      <td>gamma</td>\n",
              "      <td>True</td>\n",
              "      <td>c-2</td>\n",
              "    </tr>\n",
              "    <tr>\n",
              "      <th>4</th>\n",
              "      <td>x</td>\n",
              "      <td>y</td>\n",
              "      <td>gamma</td>\n",
              "      <td>True</td>\n",
              "      <td>c-2</td>\n",
              "    </tr>\n",
              "  </tbody>\n",
              "</table>\n",
              "</div>\n",
              "      <button class=\"colab-df-convert\" onclick=\"convertToInteractive('df-15f29cea-9d7c-4e3d-b734-a94774c9161c')\"\n",
              "              title=\"Convert this dataframe to an interactive table.\"\n",
              "              style=\"display:none;\">\n",
              "        \n",
              "  <svg xmlns=\"http://www.w3.org/2000/svg\" height=\"24px\"viewBox=\"0 0 24 24\"\n",
              "       width=\"24px\">\n",
              "    <path d=\"M0 0h24v24H0V0z\" fill=\"none\"/>\n",
              "    <path d=\"M18.56 5.44l.94 2.06.94-2.06 2.06-.94-2.06-.94-.94-2.06-.94 2.06-2.06.94zm-11 1L8.5 8.5l.94-2.06 2.06-.94-2.06-.94L8.5 2.5l-.94 2.06-2.06.94zm10 10l.94 2.06.94-2.06 2.06-.94-2.06-.94-.94-2.06-.94 2.06-2.06.94z\"/><path d=\"M17.41 7.96l-1.37-1.37c-.4-.4-.92-.59-1.43-.59-.52 0-1.04.2-1.43.59L10.3 9.45l-7.72 7.72c-.78.78-.78 2.05 0 2.83L4 21.41c.39.39.9.59 1.41.59.51 0 1.02-.2 1.41-.59l7.78-7.78 2.81-2.81c.8-.78.8-2.07 0-2.86zM5.41 20L4 18.59l7.72-7.72 1.47 1.35L5.41 20z\"/>\n",
              "  </svg>\n",
              "      </button>\n",
              "      \n",
              "  <style>\n",
              "    .colab-df-container {\n",
              "      display:flex;\n",
              "      flex-wrap:wrap;\n",
              "      gap: 12px;\n",
              "    }\n",
              "\n",
              "    .colab-df-convert {\n",
              "      background-color: #E8F0FE;\n",
              "      border: none;\n",
              "      border-radius: 50%;\n",
              "      cursor: pointer;\n",
              "      display: none;\n",
              "      fill: #1967D2;\n",
              "      height: 32px;\n",
              "      padding: 0 0 0 0;\n",
              "      width: 32px;\n",
              "    }\n",
              "\n",
              "    .colab-df-convert:hover {\n",
              "      background-color: #E2EBFA;\n",
              "      box-shadow: 0px 1px 2px rgba(60, 64, 67, 0.3), 0px 1px 3px 1px rgba(60, 64, 67, 0.15);\n",
              "      fill: #174EA6;\n",
              "    }\n",
              "\n",
              "    [theme=dark] .colab-df-convert {\n",
              "      background-color: #3B4455;\n",
              "      fill: #D2E3FC;\n",
              "    }\n",
              "\n",
              "    [theme=dark] .colab-df-convert:hover {\n",
              "      background-color: #434B5C;\n",
              "      box-shadow: 0px 1px 3px 1px rgba(0, 0, 0, 0.15);\n",
              "      filter: drop-shadow(0px 1px 2px rgba(0, 0, 0, 0.3));\n",
              "      fill: #FFFFFF;\n",
              "    }\n",
              "  </style>\n",
              "\n",
              "      <script>\n",
              "        const buttonEl =\n",
              "          document.querySelector('#df-15f29cea-9d7c-4e3d-b734-a94774c9161c button.colab-df-convert');\n",
              "        buttonEl.style.display =\n",
              "          google.colab.kernel.accessAllowed ? 'block' : 'none';\n",
              "\n",
              "        async function convertToInteractive(key) {\n",
              "          const element = document.querySelector('#df-15f29cea-9d7c-4e3d-b734-a94774c9161c');\n",
              "          const dataTable =\n",
              "            await google.colab.kernel.invokeFunction('convertToInteractive',\n",
              "                                                     [key], {});\n",
              "          if (!dataTable) return;\n",
              "\n",
              "          const docLinkHtml = 'Like what you see? Visit the ' +\n",
              "            '<a target=\"_blank\" href=https://colab.research.google.com/notebooks/data_table.ipynb>data table notebook</a>'\n",
              "            + ' to learn more about interactive tables.';\n",
              "          element.innerHTML = '';\n",
              "          dataTable['output_type'] = 'display_data';\n",
              "          await google.colab.output.renderOutput(dataTable, element);\n",
              "          const docLink = document.createElement('div');\n",
              "          docLink.innerHTML = docLinkHtml;\n",
              "          element.appendChild(docLink);\n",
              "        }\n",
              "      </script>\n",
              "    </div>\n",
              "  </div>\n",
              "  "
            ],
            "text/plain": [
              "  f2 f3     f6    f7   f10\n",
              "0  x  y   beta  True  b-69\n",
              "1  x  y   beta  True   b-9\n",
              "2  x  y   beta  True   b-1\n",
              "3  x  y  gamma  True   c-2\n",
              "4  x  y  gamma  True   c-2"
            ]
          },
          "execution_count": 76,
          "metadata": {},
          "output_type": "execute_result"
        }
      ],
      "source": [
        "categorical_columns = df_test[categorical_columns]\n",
        "categorical_columns.head()"
      ]
    },
    {
      "cell_type": "code",
      "execution_count": 77,
      "metadata": {
        "colab": {
          "base_uri": "https://localhost:8080/"
        },
        "id": "7YNWWff8vkmP",
        "outputId": "2e80c86e-7dd5-4a43-d54e-0200059e2897",
        "vscode": {
          "languageId": "python"
        }
      },
      "outputs": [
        {
          "data": {
            "text/plain": [
              "x    4532489\n",
              "Name: f2, dtype: int64"
            ]
          },
          "execution_count": 77,
          "metadata": {},
          "output_type": "execute_result"
        }
      ],
      "source": [
        "categorical_columns[\"f2\"].value_counts()"
      ]
    },
    {
      "cell_type": "markdown",
      "metadata": {
        "id": "DU71eRoovkmQ"
      },
      "source": [
        "***Replacing/Encoding the Categorical values in f6 and f10 columns with the numerical values 0 and 1 using one hot encoding method.***"
      ]
    },
    {
      "cell_type": "code",
      "execution_count": 78,
      "metadata": {
        "id": "uIdRBU8OvkmR",
        "vscode": {
          "languageId": "python"
        }
      },
      "outputs": [],
      "source": [
        "f6=pd.get_dummies(categorical_columns['f6'],drop_first=True)"
      ]
    },
    {
      "cell_type": "code",
      "execution_count": 79,
      "metadata": {
        "id": "DF0Gla7LvkmR",
        "vscode": {
          "languageId": "python"
        }
      },
      "outputs": [],
      "source": [
        "f10=pd.get_dummies(categorical_columns['f10'],drop_first=True)"
      ]
    },
    {
      "cell_type": "code",
      "execution_count": 80,
      "metadata": {
        "colab": {
          "base_uri": "https://localhost:8080/",
          "height": 206
        },
        "id": "o-YFL0w1vkmS",
        "outputId": "03943dab-cc9c-4fd3-dc2f-45edafa73d4c",
        "vscode": {
          "languageId": "python"
        }
      },
      "outputs": [
        {
          "data": {
            "text/html": [
              "\n",
              "  <div id=\"df-7d0f7605-ef44-4efc-af13-ce70824a3471\">\n",
              "    <div class=\"colab-df-container\">\n",
              "      <div>\n",
              "<style scoped>\n",
              "    .dataframe tbody tr th:only-of-type {\n",
              "        vertical-align: middle;\n",
              "    }\n",
              "\n",
              "    .dataframe tbody tr th {\n",
              "        vertical-align: top;\n",
              "    }\n",
              "\n",
              "    .dataframe thead th {\n",
              "        text-align: right;\n",
              "    }\n",
              "</style>\n",
              "<table border=\"1\" class=\"dataframe\">\n",
              "  <thead>\n",
              "    <tr style=\"text-align: right;\">\n",
              "      <th></th>\n",
              "      <th>beta</th>\n",
              "      <th>gamma</th>\n",
              "      <th>omega</th>\n",
              "    </tr>\n",
              "  </thead>\n",
              "  <tbody>\n",
              "    <tr>\n",
              "      <th>0</th>\n",
              "      <td>1</td>\n",
              "      <td>0</td>\n",
              "      <td>0</td>\n",
              "    </tr>\n",
              "    <tr>\n",
              "      <th>1</th>\n",
              "      <td>1</td>\n",
              "      <td>0</td>\n",
              "      <td>0</td>\n",
              "    </tr>\n",
              "    <tr>\n",
              "      <th>2</th>\n",
              "      <td>1</td>\n",
              "      <td>0</td>\n",
              "      <td>0</td>\n",
              "    </tr>\n",
              "    <tr>\n",
              "      <th>3</th>\n",
              "      <td>0</td>\n",
              "      <td>1</td>\n",
              "      <td>0</td>\n",
              "    </tr>\n",
              "    <tr>\n",
              "      <th>4</th>\n",
              "      <td>0</td>\n",
              "      <td>1</td>\n",
              "      <td>0</td>\n",
              "    </tr>\n",
              "  </tbody>\n",
              "</table>\n",
              "</div>\n",
              "      <button class=\"colab-df-convert\" onclick=\"convertToInteractive('df-7d0f7605-ef44-4efc-af13-ce70824a3471')\"\n",
              "              title=\"Convert this dataframe to an interactive table.\"\n",
              "              style=\"display:none;\">\n",
              "        \n",
              "  <svg xmlns=\"http://www.w3.org/2000/svg\" height=\"24px\"viewBox=\"0 0 24 24\"\n",
              "       width=\"24px\">\n",
              "    <path d=\"M0 0h24v24H0V0z\" fill=\"none\"/>\n",
              "    <path d=\"M18.56 5.44l.94 2.06.94-2.06 2.06-.94-2.06-.94-.94-2.06-.94 2.06-2.06.94zm-11 1L8.5 8.5l.94-2.06 2.06-.94-2.06-.94L8.5 2.5l-.94 2.06-2.06.94zm10 10l.94 2.06.94-2.06 2.06-.94-2.06-.94-.94-2.06-.94 2.06-2.06.94z\"/><path d=\"M17.41 7.96l-1.37-1.37c-.4-.4-.92-.59-1.43-.59-.52 0-1.04.2-1.43.59L10.3 9.45l-7.72 7.72c-.78.78-.78 2.05 0 2.83L4 21.41c.39.39.9.59 1.41.59.51 0 1.02-.2 1.41-.59l7.78-7.78 2.81-2.81c.8-.78.8-2.07 0-2.86zM5.41 20L4 18.59l7.72-7.72 1.47 1.35L5.41 20z\"/>\n",
              "  </svg>\n",
              "      </button>\n",
              "      \n",
              "  <style>\n",
              "    .colab-df-container {\n",
              "      display:flex;\n",
              "      flex-wrap:wrap;\n",
              "      gap: 12px;\n",
              "    }\n",
              "\n",
              "    .colab-df-convert {\n",
              "      background-color: #E8F0FE;\n",
              "      border: none;\n",
              "      border-radius: 50%;\n",
              "      cursor: pointer;\n",
              "      display: none;\n",
              "      fill: #1967D2;\n",
              "      height: 32px;\n",
              "      padding: 0 0 0 0;\n",
              "      width: 32px;\n",
              "    }\n",
              "\n",
              "    .colab-df-convert:hover {\n",
              "      background-color: #E2EBFA;\n",
              "      box-shadow: 0px 1px 2px rgba(60, 64, 67, 0.3), 0px 1px 3px 1px rgba(60, 64, 67, 0.15);\n",
              "      fill: #174EA6;\n",
              "    }\n",
              "\n",
              "    [theme=dark] .colab-df-convert {\n",
              "      background-color: #3B4455;\n",
              "      fill: #D2E3FC;\n",
              "    }\n",
              "\n",
              "    [theme=dark] .colab-df-convert:hover {\n",
              "      background-color: #434B5C;\n",
              "      box-shadow: 0px 1px 3px 1px rgba(0, 0, 0, 0.15);\n",
              "      filter: drop-shadow(0px 1px 2px rgba(0, 0, 0, 0.3));\n",
              "      fill: #FFFFFF;\n",
              "    }\n",
              "  </style>\n",
              "\n",
              "      <script>\n",
              "        const buttonEl =\n",
              "          document.querySelector('#df-7d0f7605-ef44-4efc-af13-ce70824a3471 button.colab-df-convert');\n",
              "        buttonEl.style.display =\n",
              "          google.colab.kernel.accessAllowed ? 'block' : 'none';\n",
              "\n",
              "        async function convertToInteractive(key) {\n",
              "          const element = document.querySelector('#df-7d0f7605-ef44-4efc-af13-ce70824a3471');\n",
              "          const dataTable =\n",
              "            await google.colab.kernel.invokeFunction('convertToInteractive',\n",
              "                                                     [key], {});\n",
              "          if (!dataTable) return;\n",
              "\n",
              "          const docLinkHtml = 'Like what you see? Visit the ' +\n",
              "            '<a target=\"_blank\" href=https://colab.research.google.com/notebooks/data_table.ipynb>data table notebook</a>'\n",
              "            + ' to learn more about interactive tables.';\n",
              "          element.innerHTML = '';\n",
              "          dataTable['output_type'] = 'display_data';\n",
              "          await google.colab.output.renderOutput(dataTable, element);\n",
              "          const docLink = document.createElement('div');\n",
              "          docLink.innerHTML = docLinkHtml;\n",
              "          element.appendChild(docLink);\n",
              "        }\n",
              "      </script>\n",
              "    </div>\n",
              "  </div>\n",
              "  "
            ],
            "text/plain": [
              "   beta  gamma  omega\n",
              "0     1      0      0\n",
              "1     1      0      0\n",
              "2     1      0      0\n",
              "3     0      1      0\n",
              "4     0      1      0"
            ]
          },
          "execution_count": 80,
          "metadata": {},
          "output_type": "execute_result"
        }
      ],
      "source": [
        "f6.head()"
      ]
    },
    {
      "cell_type": "code",
      "execution_count": 81,
      "metadata": {
        "colab": {
          "base_uri": "https://localhost:8080/"
        },
        "id": "31iydf1LvkmU",
        "outputId": "fba86645-611d-4ef5-f76d-3ca7ab67179e",
        "vscode": {
          "languageId": "python"
        }
      },
      "outputs": [
        {
          "name": "stdout",
          "output_type": "stream",
          "text": [
            "f2 has total 1 categories\n",
            "f3 has total 1 categories\n",
            "f6 has total 4 categories\n",
            "f7 has total 1 categories\n",
            "f10 has total 19 categories\n"
          ]
        }
      ],
      "source": [
        "for i in categorical_columns.columns:\n",
        "    print('{} has total {} categories'.format(i,len(categorical_columns[i].value_counts())))"
      ]
    },
    {
      "cell_type": "code",
      "execution_count": 82,
      "metadata": {
        "colab": {
          "base_uri": "https://localhost:8080/",
          "height": 316
        },
        "id": "jLnkNSRVvkmV",
        "outputId": "0d1d2aa7-b9ab-4cda-8902-e3d47f37ac9e",
        "vscode": {
          "languageId": "python"
        }
      },
      "outputs": [
        {
          "data": {
            "text/html": [
              "\n",
              "  <div id=\"df-1bfc2edc-ee1d-4db5-906c-e7c263fb4ea1\">\n",
              "    <div class=\"colab-df-container\">\n",
              "      <div>\n",
              "<style scoped>\n",
              "    .dataframe tbody tr th:only-of-type {\n",
              "        vertical-align: middle;\n",
              "    }\n",
              "\n",
              "    .dataframe tbody tr th {\n",
              "        vertical-align: top;\n",
              "    }\n",
              "\n",
              "    .dataframe thead th {\n",
              "        text-align: right;\n",
              "    }\n",
              "</style>\n",
              "<table border=\"1\" class=\"dataframe\">\n",
              "  <thead>\n",
              "    <tr style=\"text-align: right;\">\n",
              "      <th></th>\n",
              "      <th>beta</th>\n",
              "      <th>gamma</th>\n",
              "      <th>omega</th>\n",
              "      <th>a-23</th>\n",
              "      <th>a-5</th>\n",
              "      <th>a-7</th>\n",
              "      <th>a-9</th>\n",
              "      <th>b-1</th>\n",
              "      <th>b-19</th>\n",
              "      <th>b-319</th>\n",
              "      <th>...</th>\n",
              "      <th>d-5</th>\n",
              "      <th>f7</th>\n",
              "      <th>f8</th>\n",
              "      <th>f9</th>\n",
              "      <th>flight_duration_minutes</th>\n",
              "      <th>flight_duration_hours</th>\n",
              "      <th>tot_hour_diff</th>\n",
              "      <th>Day</th>\n",
              "      <th>Month</th>\n",
              "      <th>Year</th>\n",
              "    </tr>\n",
              "  </thead>\n",
              "  <tbody>\n",
              "    <tr>\n",
              "      <th>0</th>\n",
              "      <td>1</td>\n",
              "      <td>0</td>\n",
              "      <td>0</td>\n",
              "      <td>0</td>\n",
              "      <td>0</td>\n",
              "      <td>0</td>\n",
              "      <td>0</td>\n",
              "      <td>0</td>\n",
              "      <td>0</td>\n",
              "      <td>0</td>\n",
              "      <td>...</td>\n",
              "      <td>0</td>\n",
              "      <td>True</td>\n",
              "      <td>40.0</td>\n",
              "      <td>0</td>\n",
              "      <td>115.0</td>\n",
              "      <td>1.916667</td>\n",
              "      <td>170.494633</td>\n",
              "      <td>1</td>\n",
              "      <td>9</td>\n",
              "      <td>2021</td>\n",
              "    </tr>\n",
              "    <tr>\n",
              "      <th>1</th>\n",
              "      <td>1</td>\n",
              "      <td>0</td>\n",
              "      <td>0</td>\n",
              "      <td>0</td>\n",
              "      <td>0</td>\n",
              "      <td>0</td>\n",
              "      <td>0</td>\n",
              "      <td>0</td>\n",
              "      <td>0</td>\n",
              "      <td>0</td>\n",
              "      <td>...</td>\n",
              "      <td>0</td>\n",
              "      <td>True</td>\n",
              "      <td>40.0</td>\n",
              "      <td>0</td>\n",
              "      <td>115.0</td>\n",
              "      <td>1.916667</td>\n",
              "      <td>173.494633</td>\n",
              "      <td>1</td>\n",
              "      <td>9</td>\n",
              "      <td>2021</td>\n",
              "    </tr>\n",
              "    <tr>\n",
              "      <th>2</th>\n",
              "      <td>1</td>\n",
              "      <td>0</td>\n",
              "      <td>0</td>\n",
              "      <td>0</td>\n",
              "      <td>0</td>\n",
              "      <td>0</td>\n",
              "      <td>0</td>\n",
              "      <td>1</td>\n",
              "      <td>0</td>\n",
              "      <td>0</td>\n",
              "      <td>...</td>\n",
              "      <td>0</td>\n",
              "      <td>True</td>\n",
              "      <td>20.0</td>\n",
              "      <td>0</td>\n",
              "      <td>115.0</td>\n",
              "      <td>1.916667</td>\n",
              "      <td>164.494633</td>\n",
              "      <td>1</td>\n",
              "      <td>9</td>\n",
              "      <td>2021</td>\n",
              "    </tr>\n",
              "    <tr>\n",
              "      <th>3</th>\n",
              "      <td>0</td>\n",
              "      <td>1</td>\n",
              "      <td>0</td>\n",
              "      <td>0</td>\n",
              "      <td>0</td>\n",
              "      <td>0</td>\n",
              "      <td>0</td>\n",
              "      <td>0</td>\n",
              "      <td>0</td>\n",
              "      <td>0</td>\n",
              "      <td>...</td>\n",
              "      <td>0</td>\n",
              "      <td>True</td>\n",
              "      <td>20.0</td>\n",
              "      <td>2</td>\n",
              "      <td>120.0</td>\n",
              "      <td>2.000000</td>\n",
              "      <td>164.994334</td>\n",
              "      <td>1</td>\n",
              "      <td>9</td>\n",
              "      <td>2021</td>\n",
              "    </tr>\n",
              "    <tr>\n",
              "      <th>4</th>\n",
              "      <td>0</td>\n",
              "      <td>1</td>\n",
              "      <td>0</td>\n",
              "      <td>0</td>\n",
              "      <td>0</td>\n",
              "      <td>0</td>\n",
              "      <td>0</td>\n",
              "      <td>0</td>\n",
              "      <td>0</td>\n",
              "      <td>0</td>\n",
              "      <td>...</td>\n",
              "      <td>0</td>\n",
              "      <td>True</td>\n",
              "      <td>20.0</td>\n",
              "      <td>1</td>\n",
              "      <td>120.0</td>\n",
              "      <td>2.000000</td>\n",
              "      <td>164.994334</td>\n",
              "      <td>1</td>\n",
              "      <td>9</td>\n",
              "      <td>2021</td>\n",
              "    </tr>\n",
              "  </tbody>\n",
              "</table>\n",
              "<p>5 rows × 30 columns</p>\n",
              "</div>\n",
              "      <button class=\"colab-df-convert\" onclick=\"convertToInteractive('df-1bfc2edc-ee1d-4db5-906c-e7c263fb4ea1')\"\n",
              "              title=\"Convert this dataframe to an interactive table.\"\n",
              "              style=\"display:none;\">\n",
              "        \n",
              "  <svg xmlns=\"http://www.w3.org/2000/svg\" height=\"24px\"viewBox=\"0 0 24 24\"\n",
              "       width=\"24px\">\n",
              "    <path d=\"M0 0h24v24H0V0z\" fill=\"none\"/>\n",
              "    <path d=\"M18.56 5.44l.94 2.06.94-2.06 2.06-.94-2.06-.94-.94-2.06-.94 2.06-2.06.94zm-11 1L8.5 8.5l.94-2.06 2.06-.94-2.06-.94L8.5 2.5l-.94 2.06-2.06.94zm10 10l.94 2.06.94-2.06 2.06-.94-2.06-.94-.94-2.06-.94 2.06-2.06.94z\"/><path d=\"M17.41 7.96l-1.37-1.37c-.4-.4-.92-.59-1.43-.59-.52 0-1.04.2-1.43.59L10.3 9.45l-7.72 7.72c-.78.78-.78 2.05 0 2.83L4 21.41c.39.39.9.59 1.41.59.51 0 1.02-.2 1.41-.59l7.78-7.78 2.81-2.81c.8-.78.8-2.07 0-2.86zM5.41 20L4 18.59l7.72-7.72 1.47 1.35L5.41 20z\"/>\n",
              "  </svg>\n",
              "      </button>\n",
              "      \n",
              "  <style>\n",
              "    .colab-df-container {\n",
              "      display:flex;\n",
              "      flex-wrap:wrap;\n",
              "      gap: 12px;\n",
              "    }\n",
              "\n",
              "    .colab-df-convert {\n",
              "      background-color: #E8F0FE;\n",
              "      border: none;\n",
              "      border-radius: 50%;\n",
              "      cursor: pointer;\n",
              "      display: none;\n",
              "      fill: #1967D2;\n",
              "      height: 32px;\n",
              "      padding: 0 0 0 0;\n",
              "      width: 32px;\n",
              "    }\n",
              "\n",
              "    .colab-df-convert:hover {\n",
              "      background-color: #E2EBFA;\n",
              "      box-shadow: 0px 1px 2px rgba(60, 64, 67, 0.3), 0px 1px 3px 1px rgba(60, 64, 67, 0.15);\n",
              "      fill: #174EA6;\n",
              "    }\n",
              "\n",
              "    [theme=dark] .colab-df-convert {\n",
              "      background-color: #3B4455;\n",
              "      fill: #D2E3FC;\n",
              "    }\n",
              "\n",
              "    [theme=dark] .colab-df-convert:hover {\n",
              "      background-color: #434B5C;\n",
              "      box-shadow: 0px 1px 3px 1px rgba(0, 0, 0, 0.15);\n",
              "      filter: drop-shadow(0px 1px 2px rgba(0, 0, 0, 0.3));\n",
              "      fill: #FFFFFF;\n",
              "    }\n",
              "  </style>\n",
              "\n",
              "      <script>\n",
              "        const buttonEl =\n",
              "          document.querySelector('#df-1bfc2edc-ee1d-4db5-906c-e7c263fb4ea1 button.colab-df-convert');\n",
              "        buttonEl.style.display =\n",
              "          google.colab.kernel.accessAllowed ? 'block' : 'none';\n",
              "\n",
              "        async function convertToInteractive(key) {\n",
              "          const element = document.querySelector('#df-1bfc2edc-ee1d-4db5-906c-e7c263fb4ea1');\n",
              "          const dataTable =\n",
              "            await google.colab.kernel.invokeFunction('convertToInteractive',\n",
              "                                                     [key], {});\n",
              "          if (!dataTable) return;\n",
              "\n",
              "          const docLinkHtml = 'Like what you see? Visit the ' +\n",
              "            '<a target=\"_blank\" href=https://colab.research.google.com/notebooks/data_table.ipynb>data table notebook</a>'\n",
              "            + ' to learn more about interactive tables.';\n",
              "          element.innerHTML = '';\n",
              "          dataTable['output_type'] = 'display_data';\n",
              "          await google.colab.output.renderOutput(dataTable, element);\n",
              "          const docLink = document.createElement('div');\n",
              "          docLink.innerHTML = docLinkHtml;\n",
              "          element.appendChild(docLink);\n",
              "        }\n",
              "      </script>\n",
              "    </div>\n",
              "  </div>\n",
              "  "
            ],
            "text/plain": [
              "   beta  gamma  omega  a-23  a-5  a-7  a-9  b-1  b-19  b-319  ...  d-5    f7  \\\n",
              "0     1      0      0     0    0    0    0    0     0      0  ...    0  True   \n",
              "1     1      0      0     0    0    0    0    0     0      0  ...    0  True   \n",
              "2     1      0      0     0    0    0    0    1     0      0  ...    0  True   \n",
              "3     0      1      0     0    0    0    0    0     0      0  ...    0  True   \n",
              "4     0      1      0     0    0    0    0    0     0      0  ...    0  True   \n",
              "\n",
              "     f8  f9  flight_duration_minutes  flight_duration_hours  tot_hour_diff  \\\n",
              "0  40.0   0                    115.0               1.916667     170.494633   \n",
              "1  40.0   0                    115.0               1.916667     173.494633   \n",
              "2  20.0   0                    115.0               1.916667     164.494633   \n",
              "3  20.0   2                    120.0               2.000000     164.994334   \n",
              "4  20.0   1                    120.0               2.000000     164.994334   \n",
              "\n",
              "   Day  Month  Year  \n",
              "0    1      9  2021  \n",
              "1    1      9  2021  \n",
              "2    1      9  2021  \n",
              "3    1      9  2021  \n",
              "4    1      9  2021  \n",
              "\n",
              "[5 rows x 30 columns]"
            ]
          },
          "execution_count": 82,
          "metadata": {},
          "output_type": "execute_result"
        }
      ],
      "source": [
        "final_df_t=pd.concat([f6,f10,df_test[continuous_col]],axis=1)\n",
        "final_df_t.head()"
      ]
    },
    {
      "cell_type": "code",
      "execution_count": 83,
      "metadata": {
        "id": "linOyWcLpcHg",
        "vscode": {
          "languageId": "python"
        }
      },
      "outputs": [],
      "source": [
        "final_df_t = final_df_t.drop(\"Year\", axis=1)"
      ]
    },
    {
      "cell_type": "code",
      "execution_count": 84,
      "metadata": {
        "id": "u8ntdE7uwDB3",
        "vscode": {
          "languageId": "python"
        }
      },
      "outputs": [],
      "source": [
        "#predicting the values\n",
        "prediction = model.predict(final_df_t)"
      ]
    },
    {
      "cell_type": "code",
      "execution_count": 85,
      "metadata": {
        "colab": {
          "base_uri": "https://localhost:8080/",
          "height": 206
        },
        "id": "wnay8sqhzHuS",
        "outputId": "ccfedaa2-d10d-4486-a450-ff1e8cf86323",
        "vscode": {
          "languageId": "python"
        }
      },
      "outputs": [
        {
          "data": {
            "text/html": [
              "\n",
              "  <div id=\"df-ce579988-1b41-4baa-b06d-37c14a7a66cb\">\n",
              "    <div class=\"colab-df-container\">\n",
              "      <div>\n",
              "<style scoped>\n",
              "    .dataframe tbody tr th:only-of-type {\n",
              "        vertical-align: middle;\n",
              "    }\n",
              "\n",
              "    .dataframe tbody tr th {\n",
              "        vertical-align: top;\n",
              "    }\n",
              "\n",
              "    .dataframe thead th {\n",
              "        text-align: right;\n",
              "    }\n",
              "</style>\n",
              "<table border=\"1\" class=\"dataframe\">\n",
              "  <thead>\n",
              "    <tr style=\"text-align: right;\">\n",
              "      <th></th>\n",
              "      <th>0</th>\n",
              "    </tr>\n",
              "  </thead>\n",
              "  <tbody>\n",
              "    <tr>\n",
              "      <th>0</th>\n",
              "      <td>11354.30</td>\n",
              "    </tr>\n",
              "    <tr>\n",
              "      <th>1</th>\n",
              "      <td>12719.91</td>\n",
              "    </tr>\n",
              "    <tr>\n",
              "      <th>2</th>\n",
              "      <td>7341.60</td>\n",
              "    </tr>\n",
              "    <tr>\n",
              "      <th>3</th>\n",
              "      <td>10789.60</td>\n",
              "    </tr>\n",
              "    <tr>\n",
              "      <th>4</th>\n",
              "      <td>9825.10</td>\n",
              "    </tr>\n",
              "  </tbody>\n",
              "</table>\n",
              "</div>\n",
              "      <button class=\"colab-df-convert\" onclick=\"convertToInteractive('df-ce579988-1b41-4baa-b06d-37c14a7a66cb')\"\n",
              "              title=\"Convert this dataframe to an interactive table.\"\n",
              "              style=\"display:none;\">\n",
              "        \n",
              "  <svg xmlns=\"http://www.w3.org/2000/svg\" height=\"24px\"viewBox=\"0 0 24 24\"\n",
              "       width=\"24px\">\n",
              "    <path d=\"M0 0h24v24H0V0z\" fill=\"none\"/>\n",
              "    <path d=\"M18.56 5.44l.94 2.06.94-2.06 2.06-.94-2.06-.94-.94-2.06-.94 2.06-2.06.94zm-11 1L8.5 8.5l.94-2.06 2.06-.94-2.06-.94L8.5 2.5l-.94 2.06-2.06.94zm10 10l.94 2.06.94-2.06 2.06-.94-2.06-.94-.94-2.06-.94 2.06-2.06.94z\"/><path d=\"M17.41 7.96l-1.37-1.37c-.4-.4-.92-.59-1.43-.59-.52 0-1.04.2-1.43.59L10.3 9.45l-7.72 7.72c-.78.78-.78 2.05 0 2.83L4 21.41c.39.39.9.59 1.41.59.51 0 1.02-.2 1.41-.59l7.78-7.78 2.81-2.81c.8-.78.8-2.07 0-2.86zM5.41 20L4 18.59l7.72-7.72 1.47 1.35L5.41 20z\"/>\n",
              "  </svg>\n",
              "      </button>\n",
              "      \n",
              "  <style>\n",
              "    .colab-df-container {\n",
              "      display:flex;\n",
              "      flex-wrap:wrap;\n",
              "      gap: 12px;\n",
              "    }\n",
              "\n",
              "    .colab-df-convert {\n",
              "      background-color: #E8F0FE;\n",
              "      border: none;\n",
              "      border-radius: 50%;\n",
              "      cursor: pointer;\n",
              "      display: none;\n",
              "      fill: #1967D2;\n",
              "      height: 32px;\n",
              "      padding: 0 0 0 0;\n",
              "      width: 32px;\n",
              "    }\n",
              "\n",
              "    .colab-df-convert:hover {\n",
              "      background-color: #E2EBFA;\n",
              "      box-shadow: 0px 1px 2px rgba(60, 64, 67, 0.3), 0px 1px 3px 1px rgba(60, 64, 67, 0.15);\n",
              "      fill: #174EA6;\n",
              "    }\n",
              "\n",
              "    [theme=dark] .colab-df-convert {\n",
              "      background-color: #3B4455;\n",
              "      fill: #D2E3FC;\n",
              "    }\n",
              "\n",
              "    [theme=dark] .colab-df-convert:hover {\n",
              "      background-color: #434B5C;\n",
              "      box-shadow: 0px 1px 3px 1px rgba(0, 0, 0, 0.15);\n",
              "      filter: drop-shadow(0px 1px 2px rgba(0, 0, 0, 0.3));\n",
              "      fill: #FFFFFF;\n",
              "    }\n",
              "  </style>\n",
              "\n",
              "      <script>\n",
              "        const buttonEl =\n",
              "          document.querySelector('#df-ce579988-1b41-4baa-b06d-37c14a7a66cb button.colab-df-convert');\n",
              "        buttonEl.style.display =\n",
              "          google.colab.kernel.accessAllowed ? 'block' : 'none';\n",
              "\n",
              "        async function convertToInteractive(key) {\n",
              "          const element = document.querySelector('#df-ce579988-1b41-4baa-b06d-37c14a7a66cb');\n",
              "          const dataTable =\n",
              "            await google.colab.kernel.invokeFunction('convertToInteractive',\n",
              "                                                     [key], {});\n",
              "          if (!dataTable) return;\n",
              "\n",
              "          const docLinkHtml = 'Like what you see? Visit the ' +\n",
              "            '<a target=\"_blank\" href=https://colab.research.google.com/notebooks/data_table.ipynb>data table notebook</a>'\n",
              "            + ' to learn more about interactive tables.';\n",
              "          element.innerHTML = '';\n",
              "          dataTable['output_type'] = 'display_data';\n",
              "          await google.colab.output.renderOutput(dataTable, element);\n",
              "          const docLink = document.createElement('div');\n",
              "          docLink.innerHTML = docLinkHtml;\n",
              "          element.appendChild(docLink);\n",
              "        }\n",
              "      </script>\n",
              "    </div>\n",
              "  </div>\n",
              "  "
            ],
            "text/plain": [
              "          0\n",
              "0  11354.30\n",
              "1  12719.91\n",
              "2   7341.60\n",
              "3  10789.60\n",
              "4   9825.10"
            ]
          },
          "execution_count": 85,
          "metadata": {},
          "output_type": "execute_result"
        }
      ],
      "source": [
        "prediction = pd.DataFrame(prediction)\n",
        "prediction.head()"
      ]
    },
    {
      "cell_type": "code",
      "execution_count": 86,
      "metadata": {
        "id": "L3zpARGTzNVH",
        "vscode": {
          "languageId": "python"
        }
      },
      "outputs": [],
      "source": [
        "prediction.to_csv(\"prediction03.csv\", header = False, index = False)"
      ]
    }
  ],
  "metadata": {
    "accelerator": "TPU",
    "colab": {
      "collapsed_sections": [],
      "machine_shape": "hm",
      "name": "SastaTicket-Updated04.ipynb",
      "provenance": []
    },
    "kernelspec": {
      "display_name": "Python 3",
      "name": "python3"
    }
  },
  "nbformat": 4,
  "nbformat_minor": 0
}
